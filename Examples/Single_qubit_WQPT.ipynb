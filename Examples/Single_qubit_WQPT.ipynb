{
 "cells": [
  {
   "cell_type": "code",
   "execution_count": 5,
   "metadata": {},
   "outputs": [],
   "source": [
    "# This requires a installation of DROPStomo package. Use 'pip install DROPStomo' for installation.\n",
    "# import all the requried packages\n",
    "from DROPStomo import WQST1Q\n",
    "from DROPStomo import WQST2Q\n",
    "from DROPStomo import WQPT1Q\n",
    "\n",
    "from turtle import circle\n",
    "from IPython.display import display\n",
    "import matplotlib.pyplot as plt\n",
    "import numpy as np\n",
    "import pandas as pd\n",
    "from random import randint\n",
    "import time\n",
    "from fractions import Fraction\n",
    "from math import gcd\n",
    "from numpy import pi\n",
    "from qiskit import IBMQ\n",
    "\n",
    "from qiskit import QuantumCircuit, Aer, execute\n",
    "from qiskit.visualization import plot_histogram, plot_bloch_multivector, plot_state_qsphere, visualize_transition, plot_bloch_vector\n",
    "from qiskit.circuit.library import *\n",
    "from qiskit import (QuantumRegister, ClassicalRegister, QuantumCircuit,\n",
    "    execute, Aer, compiler)\n",
    "from qiskit.tools.monitor import job_monitor\n",
    "from qiskit.tools import job_monitor, backend_monitor, backend_overview\n",
    "from qiskit.quantum_info import Statevector\n",
    "from qiskit.visualization import exceptions\n",
    "from qiskit.visualization import latex as _latex\n",
    "from qiskit.visualization import text as _text\n",
    "from qiskit.visualization import utils\n",
    "from qiskit.visualization import matplotlib as _matplotlib\n",
    "import matplotlib as mpl\n",
    "\n",
    "from qiskit import QuantumCircuit\n",
    "from qiskit import Aer, transpile\n",
    "from qiskit.tools.visualization import plot_histogram, plot_state_city\n",
    "import qiskit.quantum_info as qi"
   ]
  },
  {
   "cell_type": "code",
   "execution_count": 6,
   "metadata": {},
   "outputs": [],
   "source": [
    "# provide a simulator. \n",
    "# you can also provide a quantum hardware from IBM quantum, please visit 'https://quantum-computing.ibm.com/services/resources?tab=systems' to check available devices.\n",
    "simulator = Aer.get_backend('qasm_simulator')"
   ]
  },
  {
   "cell_type": "code",
   "execution_count": 7,
   "metadata": {},
   "outputs": [
    {
     "data": {
      "text/html": [
       "<pre style=\"word-wrap: normal;white-space: pre;background: #fff0;line-height: 1.1;font-family: &quot;Courier New&quot;,Courier,monospace\">        ┌───┐ ░               ░               ░ ┌──────────────┐ ░ ┌─┐   \n",
       "   q_0: ┤ H ├─░───────■───────░───────────────░─┤ U3(-π/2,0,0) ├─░─┤M├───\n",
       "        └───┘ ░ ┌─────┴─────┐ ░ ┌───────────┐ ░ └──────────────┘ ░ └╥┘┌─┐\n",
       "   q_1: ──────░─┤ U3(π,0,0) ├─░─┤ U3(0,0,0) ├─░──────────────────░──╫─┤M├\n",
       "              ░ └───────────┘ ░ └───────────┘ ░                  ░  ║ └╥┘\n",
       "meas: 2/════════════════════════════════════════════════════════════╩══╩═\n",
       "                                                                    0  1 </pre>"
      ],
      "text/plain": [
       "        ┌───┐ ░               ░               ░ ┌──────────────┐ ░ ┌─┐   \n",
       "   q_0: ┤ H ├─░───────■───────░───────────────░─┤ U3(-π/2,0,0) ├─░─┤M├───\n",
       "        └───┘ ░ ┌─────┴─────┐ ░ ┌───────────┐ ░ └──────────────┘ ░ └╥┘┌─┐\n",
       "   q_1: ──────░─┤ U3(π,0,0) ├─░─┤ U3(0,0,0) ├─░──────────────────░──╫─┤M├\n",
       "              ░ └───────────┘ ░ └───────────┘ ░                  ░  ║ └╥┘\n",
       "meas: 2/════════════════════════════════════════════════════════════╩══╩═\n",
       "                                                                    0  1 "
      ]
     },
     "metadata": {},
     "output_type": "display_data"
    },
    {
     "data": {
      "text/html": [
       "<pre style=\"word-wrap: normal;white-space: pre;background: #fff0;line-height: 1.1;font-family: &quot;Courier New&quot;,Courier,monospace\">        ┌───┐ ░               ░               ░ ┌──────────────┐ ░ ┌─┐   \n",
       "   q_0: ┤ H ├─░───────■───────░───────────────░─┤ U3(-π/2,0,0) ├─░─┤M├───\n",
       "        ├───┤ ░ ┌─────┴─────┐ ░ ┌───────────┐ ░ └──────────────┘ ░ └╥┘┌─┐\n",
       "   q_1: ┤ X ├─░─┤ U3(π,0,0) ├─░─┤ U3(0,0,0) ├─░──────────────────░──╫─┤M├\n",
       "        └───┘ ░ └───────────┘ ░ └───────────┘ ░                  ░  ║ └╥┘\n",
       "meas: 2/════════════════════════════════════════════════════════════╩══╩═\n",
       "                                                                    0  1 </pre>"
      ],
      "text/plain": [
       "        ┌───┐ ░               ░               ░ ┌──────────────┐ ░ ┌─┐   \n",
       "   q_0: ┤ H ├─░───────■───────░───────────────░─┤ U3(-π/2,0,0) ├─░─┤M├───\n",
       "        ├───┤ ░ ┌─────┴─────┐ ░ ┌───────────┐ ░ └──────────────┘ ░ └╥┘┌─┐\n",
       "   q_1: ┤ X ├─░─┤ U3(π,0,0) ├─░─┤ U3(0,0,0) ├─░──────────────────░──╫─┤M├\n",
       "        └───┘ ░ └───────────┘ ░ └───────────┘ ░                  ░  ║ └╥┘\n",
       "meas: 2/════════════════════════════════════════════════════════════╩══╩═\n",
       "                                                                    0  1 "
      ]
     },
     "metadata": {},
     "output_type": "display_data"
    },
    {
     "data": {
      "text/html": [
       "<pre style=\"word-wrap: normal;white-space: pre;background: #fff0;line-height: 1.1;font-family: &quot;Courier New&quot;,Courier,monospace\">        ┌───┐ ░               ░               ░ ┌───────────────┐ ░ ┌─┐   \n",
       "   q_0: ┤ H ├─░───────■───────░───────────────░─┤ U3(π/2,0,π/2) ├─░─┤M├───\n",
       "        └───┘ ░ ┌─────┴─────┐ ░ ┌───────────┐ ░ └───────────────┘ ░ └╥┘┌─┐\n",
       "   q_1: ──────░─┤ U3(π,0,0) ├─░─┤ U3(0,0,0) ├─░───────────────────░──╫─┤M├\n",
       "              ░ └───────────┘ ░ └───────────┘ ░                   ░  ║ └╥┘\n",
       "meas: 2/═════════════════════════════════════════════════════════════╩══╩═\n",
       "                                                                     0  1 </pre>"
      ],
      "text/plain": [
       "        ┌───┐ ░               ░               ░ ┌───────────────┐ ░ ┌─┐   \n",
       "   q_0: ┤ H ├─░───────■───────░───────────────░─┤ U3(π/2,0,π/2) ├─░─┤M├───\n",
       "        └───┘ ░ ┌─────┴─────┐ ░ ┌───────────┐ ░ └───────────────┘ ░ └╥┘┌─┐\n",
       "   q_1: ──────░─┤ U3(π,0,0) ├─░─┤ U3(0,0,0) ├─░───────────────────░──╫─┤M├\n",
       "              ░ └───────────┘ ░ └───────────┘ ░                   ░  ║ └╥┘\n",
       "meas: 2/═════════════════════════════════════════════════════════════╩══╩═\n",
       "                                                                     0  1 "
      ]
     },
     "metadata": {},
     "output_type": "display_data"
    },
    {
     "data": {
      "text/html": [
       "<pre style=\"word-wrap: normal;white-space: pre;background: #fff0;line-height: 1.1;font-family: &quot;Courier New&quot;,Courier,monospace\">        ┌───┐ ░               ░               ░ ┌───────────────┐ ░ ┌─┐   \n",
       "   q_0: ┤ H ├─░───────■───────░───────────────░─┤ U3(π/2,0,π/2) ├─░─┤M├───\n",
       "        ├───┤ ░ ┌─────┴─────┐ ░ ┌───────────┐ ░ └───────────────┘ ░ └╥┘┌─┐\n",
       "   q_1: ┤ X ├─░─┤ U3(π,0,0) ├─░─┤ U3(0,0,0) ├─░───────────────────░──╫─┤M├\n",
       "        └───┘ ░ └───────────┘ ░ └───────────┘ ░                   ░  ║ └╥┘\n",
       "meas: 2/═════════════════════════════════════════════════════════════╩══╩═\n",
       "                                                                     0  1 </pre>"
      ],
      "text/plain": [
       "        ┌───┐ ░               ░               ░ ┌───────────────┐ ░ ┌─┐   \n",
       "   q_0: ┤ H ├─░───────■───────░───────────────░─┤ U3(π/2,0,π/2) ├─░─┤M├───\n",
       "        ├───┤ ░ ┌─────┴─────┐ ░ ┌───────────┐ ░ └───────────────┘ ░ └╥┘┌─┐\n",
       "   q_1: ┤ X ├─░─┤ U3(π,0,0) ├─░─┤ U3(0,0,0) ├─░───────────────────░──╫─┤M├\n",
       "        └───┘ ░ └───────────┘ ░ └───────────┘ ░                   ░  ║ └╥┘\n",
       "meas: 2/═════════════════════════════════════════════════════════════╩══╩═\n",
       "                                                                     0  1 "
      ]
     },
     "metadata": {},
     "output_type": "display_data"
    },
    {
     "name": "stdout",
     "output_type": "stream",
     "text": [
      "Total number of ciruits for WQPT for single qubit are:480\n"
     ]
    }
   ],
   "source": [
    "# gate to tomograph. Here for example, U3 gate is used.\n",
    "Up = U3Gate(theta=pi, phi=0, lam=0) \n",
    "# you can also chose a standard quantum gate as shown\n",
    "# Up = HGate()\n",
    "\n",
    "# resolution for scanning (which corresponds to number of sample points for tomography)\n",
    "# just provide res_theta: resolution of theta. \n",
    "# resolution for phi (res_phi) = 2*res_theta-1\n",
    "res_theta = 8\n",
    "\n",
    "# this function returns quantum circuits and draw the first quantum circuit from the list.\n",
    "# --Input--\n",
    "# res_theta: resolution of polar angles for sampling between [0,pi] for tomography\n",
    "# Up: gate for state preparation\n",
    "circ_u = WQPT1Q.WQPT_1Q_circuits(res_theta,Up)"
   ]
  },
  {
   "cell_type": "code",
   "execution_count": 8,
   "metadata": {},
   "outputs": [
    {
     "name": "stdout",
     "output_type": "stream",
     "text": [
      "Job 0 of 2\n",
      "Job Status: job has successfully run\n"
     ]
    },
    {
     "data": {
      "text/plain": [
       "None"
      ]
     },
     "metadata": {},
     "output_type": "display_data"
    },
    {
     "name": "stdout",
     "output_type": "stream",
     "text": [
      "Job 1 of 2\n",
      "Job Status: job has successfully run\n"
     ]
    },
    {
     "data": {
      "text/plain": [
       "None"
      ]
     },
     "metadata": {},
     "output_type": "display_data"
    },
    {
     "name": "stdout",
     "output_type": "stream",
     "text": [
      "Process matrix is: [[ 0.00566837+0.00184092j -1.00559536-0.006424j  ]\n",
      " [ 0.99232194-0.00143814j -0.00243688+0.00389271j]]\n",
      "Process fidelity is: 0.9989617574238915\n"
     ]
    },
    {
     "data": {
      "image/png": "[encoded data removed]",
      "text/plain": [
       "<Figure size 432x288 with 4 Axes>"
      ]
     },
     "metadata": {
      "needs_background": "light"
     },
     "output_type": "display_data"
    },
    {
     "data": {
      "application/vnd.plotly.v1+json": {
       "config": {
        "plotlyServerURL": "https://plot.ly"
       },
       "data": [
        {
         "cmax": 6.283185307179586,
         "cmid": 3.141592653589793,
         "cmin": 0,
         "colorscale": [
          [
           0,
           "rgb(255, 0, 0)"
          ],
          [
           0.003937007874015748,
           "rgb(255, 12, 0)"
          ],
          [
           0.007874015748031496,
           "rgb(255, 19, 0)"
          ],
          [
           0.011811023622047244,
           "rgb(255, 26, 0)"
          ],
          [
           0.015748031496062992,
           "rgb(255, 32, 0)"
          ],
          [
           0.01968503937007874,
           "rgb(255, 38, 0)"
          ],
          [
           0.023622047244094488,
           "rgb(255, 43, 0)"
          ],
          [
           0.027559055118110236,
           "rgb(255, 49, 0)"
          ],
          [
           0.031496062992125984,
           "rgb(255, 54, 0)"
          ],
          [
           0.03543307086614173,
           "rgb(255, 59, 0)"
          ],
          [
           0.03937007874015748,
           "rgb(255, 64, 0)"
          ],
          [
           0.04330708661417323,
           "rgb(255, 68, 0)"
          ],
          [
           0.047244094488188976,
           "rgb(255, 73, 0)"
          ],
          [
           0.051181102362204724,
           "rgb(255, 78, 0)"
          ],
          [
           0.05511811023622047,
           "rgb(255, 82, 0)"
          ],
          [
           0.05905511811023622,
           "rgb(255, 87, 0)"
          ],
          [
           0.06299212598425197,
           "rgb(255, 92, 0)"
          ],
          [
           0.06692913385826772,
           "rgb(255, 96, 0)"
          ],
          [
           0.07086614173228346,
           "rgb(255, 100, 0)"
          ],
          [
           0.07480314960629922,
           "rgb(255, 105, 0)"
          ],
          [
           0.07874015748031496,
           "rgb(255, 109, 0)"
          ],
          [
           0.08267716535433071,
           "rgb(255, 113, 0)"
          ],
          [
           0.08661417322834646,
           "rgb(255, 118, 0)"
          ],
          [
           0.09055118110236221,
           "rgb(255, 122, 0)"
          ],
          [
           0.09448818897637795,
           "rgb(255, 126, 0)"
          ],
          [
           0.0984251968503937,
           "rgb(255, 130, 0)"
          ],
          [
           0.10236220472440945,
           "rgb(255, 134, 0)"
          ],
          [
           0.1062992125984252,
           "rgb(255, 138, 0)"
          ],
          [
           0.11023622047244094,
           "rgb(255, 142, 0)"
          ],
          [
           0.1141732283464567,
           "rgb(255, 146, 0)"
          ],
          [
           0.11811023622047244,
           "rgb(255, 150, 0)"
          ],
          [
           0.1220472440944882,
           "rgb(255, 154, 0)"
          ],
          [
           0.12598425196850394,
           "rgb(255, 158, 0)"
          ],
          [
           0.12992125984251968,
           "rgb(255, 162, 0)"
          ],
          [
           0.13385826771653545,
           "rgb(255, 166, 0)"
          ],
          [
           0.1377952755905512,
           "rgb(255, 169, 0)"
          ],
          [
           0.14173228346456693,
           "rgb(255, 173, 0)"
          ],
          [
           0.14566929133858267,
           "rgb(255, 177, 0)"
          ],
          [
           0.14960629921259844,
           "rgb(255, 180, 0)"
          ],
          [
           0.15354330708661418,
           "rgb(255, 184, 0)"
          ],
          [
           0.15748031496062992,
           "rgb(255, 187, 0)"
          ],
          [
           0.16141732283464566,
           "rgb(255, 191, 0)"
          ],
          [
           0.16535433070866143,
           "rgb(255, 194, 0)"
          ],
          [
           0.16929133858267717,
           "rgb(255, 198, 0)"
          ],
          [
           0.1732283464566929,
           "rgb(255, 201, 0)"
          ],
          [
           0.17716535433070865,
           "rgb(255, 204, 0)"
          ],
          [
           0.18110236220472442,
           "rgb(255, 207, 0)"
          ],
          [
           0.18503937007874016,
           "rgb(255, 211, 0)"
          ],
          [
           0.1889763779527559,
           "rgb(255, 214, 0)"
          ],
          [
           0.19291338582677164,
           "rgb(255, 217, 0)"
          ],
          [
           0.1968503937007874,
           "rgb(255, 220, 0)"
          ],
          [
           0.20078740157480315,
           "rgb(255, 223, 0)"
          ],
          [
           0.2047244094488189,
           "rgb(255, 226, 0)"
          ],
          [
           0.20866141732283464,
           "rgb(255, 228, 0)"
          ],
          [
           0.2125984251968504,
           "rgb(255, 231, 0)"
          ],
          [
           0.21653543307086615,
           "rgb(255, 234, 0)"
          ],
          [
           0.2204724409448819,
           "rgb(255, 237, 0)"
          ],
          [
           0.22440944881889763,
           "rgb(255, 239, 0)"
          ],
          [
           0.2283464566929134,
           "rgb(255, 242, 0)"
          ],
          [
           0.23228346456692914,
           "rgb(255, 244, 0)"
          ],
          [
           0.23622047244094488,
           "rgb(255, 247, 0)"
          ],
          [
           0.24015748031496062,
           "rgb(255, 249, 0)"
          ],
          [
           0.2440944881889764,
           "rgb(255, 252, 0)"
          ],
          [
           0.24803149606299213,
           "rgb(255, 254, 0)"
          ],
          [
           0.25196850393700787,
           "rgb(254, 255, 0)"
          ],
          [
           0.2559055118110236,
           "rgb(252, 255, 0)"
          ],
          [
           0.25984251968503935,
           "rgb(249, 255, 0)"
          ],
          [
           0.2637795275590551,
           "rgb(247, 255, 0)"
          ],
          [
           0.2677165354330709,
           "rgb(244, 255, 0)"
          ],
          [
           0.27165354330708663,
           "rgb(242, 255, 0)"
          ],
          [
           0.2755905511811024,
           "rgb(239, 255, 0)"
          ],
          [
           0.2795275590551181,
           "rgb(237, 255, 0)"
          ],
          [
           0.28346456692913385,
           "rgb(234, 255, 0)"
          ],
          [
           0.2874015748031496,
           "rgb(231, 255, 0)"
          ],
          [
           0.29133858267716534,
           "rgb(228, 255, 0)"
          ],
          [
           0.2952755905511811,
           "rgb(226, 255, 0)"
          ],
          [
           0.2992125984251969,
           "rgb(223, 255, 0)"
          ],
          [
           0.3031496062992126,
           "rgb(220, 255, 0)"
          ],
          [
           0.30708661417322836,
           "rgb(217, 255, 0)"
          ],
          [
           0.3110236220472441,
           "rgb(214, 255, 0)"
          ],
          [
           0.31496062992125984,
           "rgb(211, 255, 0)"
          ],
          [
           0.3188976377952756,
           "rgb(207, 255, 0)"
          ],
          [
           0.3228346456692913,
           "rgb(204, 255, 0)"
          ],
          [
           0.32677165354330706,
           "rgb(201, 255, 0)"
          ],
          [
           0.33070866141732286,
           "rgb(198, 255, 0)"
          ],
          [
           0.3346456692913386,
           "rgb(194, 255, 0)"
          ],
          [
           0.33858267716535434,
           "rgb(191, 255, 0)"
          ],
          [
           0.3425196850393701,
           "rgb(187, 255, 0)"
          ],
          [
           0.3464566929133858,
           "rgb(184, 255, 0)"
          ],
          [
           0.35039370078740156,
           "rgb(180, 255, 0)"
          ],
          [
           0.3543307086614173,
           "rgb(177, 255, 0)"
          ],
          [
           0.35826771653543305,
           "rgb(173, 255, 0)"
          ],
          [
           0.36220472440944884,
           "rgb(169, 255, 0)"
          ],
          [
           0.3661417322834646,
           "rgb(166, 255, 0)"
          ],
          [
           0.3700787401574803,
           "rgb(162, 255, 0)"
          ],
          [
           0.37401574803149606,
           "rgb(158, 255, 0)"
          ],
          [
           0.3779527559055118,
           "rgb(154, 255, 0)"
          ],
          [
           0.38188976377952755,
           "rgb(150, 255, 0)"
          ],
          [
           0.3858267716535433,
           "rgb(146, 255, 0)"
          ],
          [
           0.38976377952755903,
           "rgb(142, 255, 0)"
          ],
          [
           0.3937007874015748,
           "rgb(138, 255, 0)"
          ],
          [
           0.39763779527559057,
           "rgb(134, 255, 0)"
          ],
          [
           0.4015748031496063,
           "rgb(130, 255, 0)"
          ],
          [
           0.40551181102362205,
           "rgb(126, 255, 0)"
          ],
          [
           0.4094488188976378,
           "rgb(122, 255, 0)"
          ],
          [
           0.41338582677165353,
           "rgb(118, 255, 0)"
          ],
          [
           0.41732283464566927,
           "rgb(113, 255, 0)"
          ],
          [
           0.421259842519685,
           "rgb(109, 255, 0)"
          ],
          [
           0.4251968503937008,
           "rgb(105, 255, 0)"
          ],
          [
           0.42913385826771655,
           "rgb(100, 255, 0)"
          ],
          [
           0.4330708661417323,
           "rgb(96, 255, 0)"
          ],
          [
           0.43700787401574803,
           "rgb(92, 255, 0)"
          ],
          [
           0.4409448818897638,
           "rgb(87, 255, 0)"
          ],
          [
           0.4448818897637795,
           "rgb(82, 255, 0)"
          ],
          [
           0.44881889763779526,
           "rgb(78, 255, 0)"
          ],
          [
           0.452755905511811,
           "rgb(73, 255, 0)"
          ],
          [
           0.4566929133858268,
           "rgb(68, 255, 0)"
          ],
          [
           0.46062992125984253,
           "rgb(64, 255, 0)"
          ],
          [
           0.4645669291338583,
           "rgb(59, 255, 0)"
          ],
          [
           0.468503937007874,
           "rgb(54, 255, 0)"
          ],
          [
           0.47244094488188976,
           "rgb(49, 255, 0)"
          ],
          [
           0.4763779527559055,
           "rgb(43, 255, 0)"
          ],
          [
           0.48031496062992124,
           "rgb(38, 255, 0)"
          ],
          [
           0.484251968503937,
           "rgb(32, 255, 0)"
          ],
          [
           0.4881889763779528,
           "rgb(26, 255, 0)"
          ],
          [
           0.4921259842519685,
           "rgb(19, 255, 0)"
          ],
          [
           0.49606299212598426,
           "rgb(12, 255, 0)"
          ],
          [
           0.5,
           "rgb(1, 255, 0)"
          ],
          [
           0.5039370078740157,
           "rgb(0, 253, 8)"
          ],
          [
           0.5078740157480315,
           "rgb(0, 250, 15)"
          ],
          [
           0.5118110236220472,
           "rgb(0, 248, 21)"
          ],
          [
           0.515748031496063,
           "rgb(0, 246, 27)"
          ],
          [
           0.5196850393700787,
           "rgb(0, 243, 33)"
          ],
          [
           0.5236220472440944,
           "rgb(0, 241, 40)"
          ],
          [
           0.5275590551181102,
           "rgb(0, 238, 46)"
          ],
          [
           0.531496062992126,
           "rgb(0, 235, 53)"
          ],
          [
           0.5354330708661418,
           "rgb(0, 233, 60)"
          ],
          [
           0.5393700787401575,
           "rgb(0, 230, 67)"
          ],
          [
           0.5433070866141733,
           "rgb(0, 227, 74)"
          ],
          [
           0.547244094488189,
           "rgb(0, 224, 81)"
          ],
          [
           0.5511811023622047,
           "rgb(0, 221, 89)"
          ],
          [
           0.5551181102362205,
           "rgb(0, 218, 96)"
          ],
          [
           0.5590551181102362,
           "rgb(0, 215, 103)"
          ],
          [
           0.562992125984252,
           "rgb(0, 212, 111)"
          ],
          [
           0.5669291338582677,
           "rgb(0, 209, 118)"
          ],
          [
           0.5708661417322834,
           "rgb(0, 206, 126)"
          ],
          [
           0.5748031496062992,
           "rgb(0, 202, 133)"
          ],
          [
           0.5787401574803149,
           "rgb(0, 199, 140)"
          ],
          [
           0.5826771653543307,
           "rgb(0, 196, 148)"
          ],
          [
           0.5866141732283464,
           "rgb(0, 192, 155)"
          ],
          [
           0.5905511811023622,
           "rgb(0, 189, 163)"
          ],
          [
           0.594488188976378,
           "rgb(0, 186, 170)"
          ],
          [
           0.5984251968503937,
           "rgb(0, 182, 174)"
          ],
          [
           0.6023622047244095,
           "rgb(0, 178, 178)"
          ],
          [
           0.6062992125984252,
           "rgb(0, 175, 182)"
          ],
          [
           0.610236220472441,
           "rgb(0, 171, 186)"
          ],
          [
           0.6141732283464567,
           "rgb(0, 167, 190)"
          ],
          [
           0.6181102362204725,
           "rgb(0, 164, 194)"
          ],
          [
           0.6220472440944882,
           "rgb(0, 160, 197)"
          ],
          [
           0.6259842519685039,
           "rgb(0, 156, 201)"
          ],
          [
           0.6299212598425197,
           "rgb(0, 152, 204)"
          ],
          [
           0.6338582677165354,
           "rgb(0, 148, 208)"
          ],
          [
           0.6377952755905512,
           "rgb(0, 144, 211)"
          ],
          [
           0.6417322834645669,
           "rgb(0, 140, 214)"
          ],
          [
           0.6456692913385826,
           "rgb(0, 136, 217)"
          ],
          [
           0.6496062992125984,
           "rgb(0, 132, 220)"
          ],
          [
           0.6535433070866141,
           "rgb(0, 128, 222)"
          ],
          [
           0.65748031496063,
           "rgb(0, 124, 225)"
          ],
          [
           0.6614173228346457,
           "rgb(0, 120, 227)"
          ],
          [
           0.6653543307086615,
           "rgb(0, 116, 230)"
          ],
          [
           0.6692913385826772,
           "rgb(0, 111, 232)"
          ],
          [
           0.6732283464566929,
           "rgb(0, 107, 234)"
          ],
          [
           0.6771653543307087,
           "rgb(0, 103, 236)"
          ],
          [
           0.6811023622047244,
           "rgb(0, 98, 238)"
          ],
          [
           0.6850393700787402,
           "rgb(0, 94, 240)"
          ],
          [
           0.6889763779527559,
           "rgb(0, 89, 242)"
          ],
          [
           0.6929133858267716,
           "rgb(0, 85, 244)"
          ],
          [
           0.6968503937007874,
           "rgb(0, 80, 245)"
          ],
          [
           0.7007874015748031,
           "rgb(0, 76, 246)"
          ],
          [
           0.7047244094488189,
           "rgb(0, 71, 248)"
          ],
          [
           0.7086614173228346,
           "rgb(0, 66, 249)"
          ],
          [
           0.7125984251968503,
           "rgb(0, 61, 250)"
          ],
          [
           0.7165354330708661,
           "rgb(0, 56, 251)"
          ],
          [
           0.7204724409448819,
           "rgb(0, 51, 252)"
          ],
          [
           0.7244094488188977,
           "rgb(0, 46, 253)"
          ],
          [
           0.7283464566929134,
           "rgb(0, 41, 253)"
          ],
          [
           0.7322834645669292,
           "rgb(0, 35, 254)"
          ],
          [
           0.7362204724409449,
           "rgb(0, 29, 254)"
          ],
          [
           0.7401574803149606,
           "rgb(0, 23, 255)"
          ],
          [
           0.7440944881889764,
           "rgb(0, 16, 255)"
          ],
          [
           0.7480314960629921,
           "rgb(0, 7, 255)"
          ],
          [
           0.7519685039370079,
           "rgb(7, 0, 255)"
          ],
          [
           0.7559055118110236,
           "rgb(16, 0, 255)"
          ],
          [
           0.7598425196850394,
           "rgb(23, 0, 255)"
          ],
          [
           0.7637795275590551,
           "rgb(29, 0, 254)"
          ],
          [
           0.7677165354330708,
           "rgb(35, 0, 254)"
          ],
          [
           0.7716535433070866,
           "rgb(41, 0, 253)"
          ],
          [
           0.7755905511811023,
           "rgb(46, 0, 253)"
          ],
          [
           0.7795275590551181,
           "rgb(51, 0, 252)"
          ],
          [
           0.7834645669291339,
           "rgb(56, 0, 251)"
          ],
          [
           0.7874015748031497,
           "rgb(61, 0, 250)"
          ],
          [
           0.7913385826771654,
           "rgb(66, 0, 249)"
          ],
          [
           0.7952755905511811,
           "rgb(71, 0, 248)"
          ],
          [
           0.7992125984251969,
           "rgb(76, 0, 246)"
          ],
          [
           0.8031496062992126,
           "rgb(80, 0, 245)"
          ],
          [
           0.8070866141732284,
           "rgb(85, 0, 244)"
          ],
          [
           0.8110236220472441,
           "rgb(89, 0, 242)"
          ],
          [
           0.8149606299212598,
           "rgb(94, 0, 240)"
          ],
          [
           0.8188976377952756,
           "rgb(98, 0, 238)"
          ],
          [
           0.8228346456692913,
           "rgb(103, 0, 236)"
          ],
          [
           0.8267716535433071,
           "rgb(107, 0, 234)"
          ],
          [
           0.8307086614173228,
           "rgb(111, 0, 232)"
          ],
          [
           0.8346456692913385,
           "rgb(116, 0, 230)"
          ],
          [
           0.8385826771653543,
           "rgb(120, 0, 227)"
          ],
          [
           0.84251968503937,
           "rgb(124, 0, 225)"
          ],
          [
           0.8464566929133859,
           "rgb(128, 0, 219)"
          ],
          [
           0.8503937007874016,
           "rgb(132, 0, 213)"
          ],
          [
           0.8543307086614174,
           "rgb(136, 0, 206)"
          ],
          [
           0.8582677165354331,
           "rgb(140, 0, 199)"
          ],
          [
           0.8622047244094488,
           "rgb(144, 0, 192)"
          ],
          [
           0.8661417322834646,
           "rgb(148, 0, 185)"
          ],
          [
           0.8700787401574803,
           "rgb(152, 0, 178)"
          ],
          [
           0.8740157480314961,
           "rgb(156, 0, 171)"
          ],
          [
           0.8779527559055118,
           "rgb(160, 0, 163)"
          ],
          [
           0.8818897637795275,
           "rgb(164, 0, 156)"
          ],
          [
           0.8858267716535433,
           "rgb(167, 0, 148)"
          ],
          [
           0.889763779527559,
           "rgb(171, 0, 141)"
          ],
          [
           0.8937007874015748,
           "rgb(175, 0, 134)"
          ],
          [
           0.8976377952755905,
           "rgb(178, 0, 126)"
          ],
          [
           0.9015748031496063,
           "rgb(182, 0, 119)"
          ],
          [
           0.905511811023622,
           "rgb(186, 0, 111)"
          ],
          [
           0.9094488188976378,
           "rgb(189, 0, 104)"
          ],
          [
           0.9133858267716536,
           "rgb(192, 0, 96)"
          ],
          [
           0.9173228346456693,
           "rgb(196, 0, 89)"
          ],
          [
           0.9212598425196851,
           "rgb(199, 0, 82)"
          ],
          [
           0.9251968503937008,
           "rgb(202, 0, 75)"
          ],
          [
           0.9291338582677166,
           "rgb(206, 0, 67)"
          ],
          [
           0.9330708661417323,
           "rgb(209, 0, 60)"
          ],
          [
           0.937007874015748,
           "rgb(212, 0, 54)"
          ],
          [
           0.9409448818897638,
           "rgb(215, 0, 47)"
          ],
          [
           0.9448818897637795,
           "rgb(218, 0, 40)"
          ],
          [
           0.9488188976377953,
           "rgb(221, 0, 34)"
          ],
          [
           0.952755905511811,
           "rgb(224, 0, 27)"
          ],
          [
           0.9566929133858267,
           "rgb(227, 0, 21)"
          ],
          [
           0.9606299212598425,
           "rgb(230, 0, 15)"
          ],
          [
           0.9645669291338582,
           "rgb(233, 0, 9)"
          ],
          [
           0.968503937007874,
           "rgb(235, 0, 1)"
          ],
          [
           0.9724409448818898,
           "rgb(238, 0, 0)"
          ],
          [
           0.9763779527559056,
           "rgb(241, 0, 0)"
          ],
          [
           0.9803149606299213,
           "rgb(243, 0, 0)"
          ],
          [
           0.984251968503937,
           "rgb(246, 0, 0)"
          ],
          [
           0.9881889763779528,
           "rgb(248, 0, 0)"
          ],
          [
           0.9921259842519685,
           "rgb(250, 0, 0)"
          ],
          [
           0.9960629921259843,
           "rgb(253, 0, 0)"
          ],
          [
           1,
           "rgb(255, 0, 0)"
          ]
         ],
         "opacity": 1,
         "scene": "scene",
         "surfacecolor": [
          [
           -0.3217505543966422,
           -2.4292350554954645,
           1.313472611823808,
           0.5349550737860964,
           -2.0214576528755304,
           1.1902899496825317,
           -1.075244653309068,
           0.16514867741462683,
           3.0309354324158977,
           2.904743892642873,
           2.17084654019665,
           2.677945044588987,
           -2.129395642138459,
           -1.5707963267948966,
           0.9272952180016122
          ],
          [
           -1.4130275891989426,
           -1.8925468811915387,
           -1.2555816270441855,
           -2.539305307454829,
           1.9756881130799802,
           1.8203832522318812,
           0.2691674927857005,
           0.3217505543966422,
           0.4981167100003141,
           1.6539375586833378,
           0.9420000403794637,
           0.3347368373168147,
           -1.3258176636680326,
           -0.982793723247329,
           1.2571756745781983
          ],
          [
           2.408777551803287,
           -2.8632929945846817,
           1.3397056595989996,
           1.7359450042095235,
           -0.35877067027057225,
           0.893088034230269,
           -0.17467219900823971,
           -1.382574821490126,
           0.11575921772081073,
           0.49934672168013006,
           -2.485897027348257,
           -2.2455372690184494,
           0.7853981633974483,
           2.774418819771574,
           0.9025069079643125
          ],
          [
           -1.837048375945822,
           0.3430239404207034,
           -1.7792615451748843,
           -1.7094360639290547,
           1.3909428270024184,
           2.5360479899848234,
           0.16514867741462683,
           2.7901478595862415,
           -1.5707963267948966,
           -2.1451011569695986,
           2.9441970937399127,
           1.5707963267948966,
           -2.922923707715851,
           1.590793660768047,
           0.7022569315090071
          ],
          [
           -0.22679884805388587,
           -0.2063238940297175,
           2.060753653048625,
           -0.8097835725701669,
           0.27032534637866645,
           0.1470783553884025,
           2.0344439357957027,
           0.668289418830584,
           2.819842099193151,
           -1.719686274404394,
           1.2490457723982544,
           1.7359450042095235,
           1.6614562139956417,
           -2.0533096218173736,
           0
          ],
          [
           0.8408966686431651,
           2.32590073027357,
           0.12970253715591212,
           -2.137525544318403,
           1.8673421358645972,
           3.066732805879026,
           -1.3258176636680326,
           -2.8286914257094087,
           -0.5971766580926776,
           0.6794138054078483,
           2.485897027348257,
           -0.9179496956941223,
           1.5707963267948966,
           -1.849095985800008,
           -0.507098504392337
          ],
          [
           -2.2083451249335893,
           1.8622531212727638,
           -1.4424730991091017,
           1.0934509444212246,
           1.9513027039072615,
           2.396173177315635,
           2.158798930342464,
           -2.32590073027357,
           2.677945044588987,
           -2.356194490192345,
           -2.746801533890032,
           -1.9437840485949576,
           2.677945044588987,
           0,
           3.141592653589793
          ],
          [
           -1.092443895416239,
           3.0258334358689827,
           1.3854483767992019,
           -2.677945044588987,
           2.91811605244916,
           0.2662520491509254,
           1.5042281630190728,
           -1.6814535479687922,
           -1.7894652726688385,
           -1.9010936816241504,
           -0.6610431688506869,
           -1.6064954394742206,
           0.09065988720074511,
           1.3521273809209546,
           -2.91811605244916
          ]
         ],
         "type": "surface",
         "x": [
          [
           0,
           0,
           0,
           0,
           0,
           0,
           0,
           0,
           0,
           0,
           0,
           0,
           0,
           0,
           0
          ],
          [
           0.0018827980834757447,
           0.00024080376466727548,
           0.0012748337520253831,
           0.00018258497702271464,
           -0.00014323144011195565,
           -0.001386732617797463,
           -0.0011454010218644927,
           -0.0005345440297574325,
           -0.002470440079510613,
           -0.0006345514533059543,
           -0.00012790285250925164,
           0.00022899273953133254,
           0.0009777319709508268,
           0.002059189010587377,
           0.0016437772141867214
          ],
          [
           0.0010244778185546917,
           0.002996830928129852,
           0.0016583360504780808,
           0.00030921194539604193,
           -0.00014477566765656042,
           -0.0024988058334806766,
           -0.0011843530667617467,
           -0.0032557523896399243,
           -0.0029700095801066125,
           -0.0017846937696573144,
           -0.0005558278225234356,
           0.00021699816952217235,
           0.0006714406405797687,
           0.0009555951169896382,
           0.001843368153779068
          ],
          [
           0.0043306620056294265,
           0.002543656947329338,
           0.00314674247751596,
           0.0009173798011587971,
           -0.00023623731767766503,
           -0.0009360994302665838,
           -0.001040790368465,
           -0.0030341391432577246,
           -0.0023099159147330116,
           -0.0011987921901174092,
           -0.0006464447618577892,
           0.00014790795632185202,
           0.0005458350746676543,
           0.00427847750319792,
           0.0016170431955172342
          ],
          [
           0.0012668716669051077,
           0.003758469769124666,
           0.0030194104423489337,
           0.0006127615333333875,
           -0.0018198555222103214,
           -0.0016159581638054122,
           -0.0009565053717873373,
           -0.004597284979809642,
           -0.0024348651646758693,
           -0.0011973293559055138,
           -0.00006681800371967912,
           0.0007711619782693261,
           0.0019617928467534733,
           0.002028152301494174,
           0.0012344285983073042
          ],
          [
           0.0019414220175082023,
           0.0016016636084677871,
           0.0011012445305115656,
           0.0004418639827112539,
           -0.0006378507514337506,
           -0.0019044547079411888,
           -0.000565753843770543,
           -0.0027211890889925297,
           -0.002074178626700663,
           -0.001586789116863619,
           -0.0008337417337851537,
           0.0007252652694484903,
           0.00004747802301181938,
           0.0004994718213549754,
           0.0015680005135535967
          ],
          [
           0.0014199415348813145,
           0.00039750859693516864,
           0.0008235692602348242,
           0.0003070244545140355,
           -0.00010127992258227872,
           -0.0009322985542877332,
           -0.00013727926737249182,
           -0.0009865560021590789,
           -0.00017027397493148008,
           -0.00007452428874073933,
           -0.00012224686158400237,
           0.00023225190430432207,
           0.0009426659736991109,
           0.0006091906923934153,
           0.0005916318252874086
          ],
          [
           3.6277039337481446e-19,
           4.652169690369648e-19,
           1.21063509882279e-19,
           5.93494701132638e-21,
           -1.1976246616656227e-19,
           -1.6958678060140674e-19,
           -1.615567000712826e-19,
           -2.1602195465365334e-19,
           -9.907868116160515e-20,
           -2.751642749056123e-19,
           -3.02624106228924e-20,
           1.4872934581014656e-19,
           1.6428587866838092e-19,
           2.972360434848154e-19,
           5.382076375343374e-19
          ]
         ],
         "y": [
          [
           0,
           0,
           0,
           0,
           0,
           0,
           0,
           0,
           0,
           0,
           0,
           0,
           0,
           0,
           0
          ],
          [
           0,
           0.00011596498117706103,
           0.0015985909621535606,
           0.0007999570524877807,
           0.0006275379416417479,
           0.0017389077016611923,
           0.0005515960604861471,
           6.546276350457672e-20,
           -0.0011897012395771637,
           -0.0007957023546518935,
           -0.0005603790112773156,
           -0.0010032827450738068,
           -0.0012260371124371203,
           -0.0009916531628262689,
           -4.0260930077302432e-19
          ],
          [
           0,
           0.0014431977118447455,
           0.0020794876338157283,
           0.0013547460501214057,
           0.0006343036445768738,
           0.003133403406704964,
           0.000570354376659316,
           3.9871467427888796e-19,
           -0.0014302812313945496,
           -0.0022379352020240086,
           -0.002435240805935709,
           -0.0009507311002076881,
           -0.0008419599323818692,
           -0.000460190354198621,
           -4.514949818351404e-19
          ],
          [
           0,
           0.0012249606247872477,
           0.003945890259643486,
           0.004019303524930864,
           0.0010350233158204155,
           0.0011738315576629505,
           0.0005012182249520799,
           3.7157487899582657e-19,
           -0.0011123968761149936,
           -0.0015032378595070382,
           -0.0028322595578473483,
           -0.0006480270978920712,
           -0.0006844555345383992,
           -0.002060406172679127,
           -3.9606135469463776e-19
          ],
          [
           0,
           0.0018099836463658311,
           0.003786220937830163,
           0.002684683691267152,
           0.007973308008357497,
           0.002026347444734238,
           0.0004606287098058406,
           5.630050335292084e-19,
           -0.001172569263526512,
           -0.0015014035234247453,
           -0.0002927488021211206,
           -0.003378681385436389,
           -0.0024600104205392635,
           -0.0009767066714756693,
           -3.023478063385988e-19
          ],
          [
           0,
           0.0007713205417057652,
           0.0013809169633294883,
           0.001935932599571061,
           0.0027946067379934604,
           0.00238811066863326,
           0.00027245269165269347,
           3.3324955077094037e-19,
           -0.0009988717814920947,
           -0.0019897706167818063,
           -0.003652861208903565,
           -0.0031775947653546167,
           -0.00005953555776745868,
           -0.00024053295197412443,
           -3.8404936199696366e-19
          ],
          [
           0,
           0.0001914300510417694,
           0.0010327231876526833,
           0.0013451620263597132,
           0.00044373633398672794,
           0.001169065409937097,
           0.00006611021085508459,
           1.208182650223725e-19,
           -0.00008199962457047018,
           -0.00009345050227341029,
           -0.0005355984959072195,
           -0.001017562078937339,
           -0.0011820657426828793,
           -0.0002933707754704536,
           -1.4490800422238622e-19
          ],
          [
           0,
           2.2403668452677017e-19,
           1.518088397306146e-19,
           2.6002701839271105e-20,
           5.247136483816633e-19,
           2.1265509666607092e-19,
           7.780160625263019e-20,
           2.6455059531215125e-35,
           -4.771377811235266e-20,
           -3.4504508707335447e-19,
           -1.3258828408457834e-19,
           -6.516258403774336e-19,
           -2.0600797588821704e-19,
           -1.4314133433705808e-19,
           -1.3182285211661704e-34
          ]
         ],
         "z": [
          [
           0.0015399978772095706,
           0.002831251649168216,
           0.0019135674289229043,
           0.0030568085055383064,
           0.0033542270917197243,
           0.0005245043770741652,
           0.00409651014105512,
           0.0011848980248913871,
           0.004409882808742412,
           0.0029056621834004617,
           0.00224227075506888,
           0.0006533657651926652,
           0.0009188510610563357,
           0.0011687762121135724,
           0.0009739801767613103
          ],
          [
           0.0039096705057627724,
           0.0005549960576006542,
           0.0042458105253068605,
           0.0017038469358337716,
           0.0013366075036910267,
           0.004618487653842393,
           0.0026398800383578185,
           0.0011099921152013083,
           0.0056937835110738326,
           0.0021133620246677792,
           0.001193564152351788,
           0.002136915007690381,
           0.003256318470229355,
           0.004745946494273787,
           0.0034133385564567957
          ],
          [
           0.0008169937977976627,
           0.0026525810172856653,
           0.0021210914214443806,
           0.0011081577521435035,
           0.0005188489022630839,
           0.0031960926229174414,
           0.0010483048720458705,
           0.0025963758915281353,
           0.002628840672791538,
           0.002282709010416823,
           0.001991982908672818,
           0.0007776808345775629,
           0.0008588048136156056,
           0.0008458246488798107,
           0.001470037048552094
          ],
          [
           0.0009884453425742757,
           0.0006443875254721573,
           0.0011519409522628276,
           0.0009409719320742006,
           0.00024231260047625653,
           0.00034268176592741525,
           0.0002636646151418238,
           0.0006925224598402962,
           0.0005851736421872301,
           0.00043884678422722456,
           0.0006630692934117442,
           0.0001517116850115041,
           0.00019981608923633958,
           0.0010838716022491385,
           0.00036907955718380416
          ],
          [
           -0.0002891551908608624,
           -0.0009521374478704724,
           -0.0011053279907981008,
           -0.0006285198379048023,
           -0.0018666564978508063,
           -0.0005915604468212968,
           -0.0002423126004762564,
           -0.0010493002965534027,
           -0.0006168271786693471,
           -0.00043831127849483807,
           -0.00006853635318548303,
           -0.0007909938454254709,
           -0.0007181615706333684,
           -0.0005137941435902594,
           -0.00028175027216422176
          ],
          [
           -0.0015482323955531795,
           -0.0014176784028821336,
           -0.0014085446227302526,
           -0.001583557831853241,
           -0.002285937737646399,
           -0.00243588899992789,
           -0.0005007649555254179,
           -0.0021700758845886936,
           -0.0018359149994088121,
           -0.0020295794585484784,
           -0.0029879743630092273,
           -0.002599215013088818,
           -0.00006072667074232436,
           -0.00044209683621427746,
           -0.0012504386833129362
          ],
          [
           -0.002948538979062813,
           -0.0009161638501217627,
           -0.0027428823780895452,
           -0.0028650915567094808,
           -0.0009451242296447482,
           -0.00310500330590903,
           -0.00031639643295158575,
           -0.0020486046474001906,
           -0.0003924414758612222,
           -0.00024820178240789024,
           -0.0011407835623808466,
           -0.0021673288895024895,
           -0.0031395318068897777,
           -0.001404041307545657,
           -0.0012285361441024501
          ],
          [
           -0.0029622450622284672,
           -0.004216333073860227,
           -0.0015855248561654851,
           -0.00021778858839755508,
           -0.00439479887514554,
           -0.0022210165241539214,
           -0.0014642132663912812,
           -0.0017639531234969646,
           -0.0008979653540172885,
           -0.0036037266540168483,
           -0.0011105082620769605,
           -0.00545776638198571,
           -0.002151592535182507,
           -0.0026938960620518653,
           -0.00439479887514554
          ]
         ]
        },
        {
         "cmax": 6.283185307179586,
         "cmid": 3.141592653589793,
         "cmin": 0,
         "colorscale": [
          [
           0,
           "rgb(255, 0, 0)"
          ],
          [
           0.003937007874015748,
           "rgb(255, 12, 0)"
          ],
          [
           0.007874015748031496,
           "rgb(255, 19, 0)"
          ],
          [
           0.011811023622047244,
           "rgb(255, 26, 0)"
          ],
          [
           0.015748031496062992,
           "rgb(255, 32, 0)"
          ],
          [
           0.01968503937007874,
           "rgb(255, 38, 0)"
          ],
          [
           0.023622047244094488,
           "rgb(255, 43, 0)"
          ],
          [
           0.027559055118110236,
           "rgb(255, 49, 0)"
          ],
          [
           0.031496062992125984,
           "rgb(255, 54, 0)"
          ],
          [
           0.03543307086614173,
           "rgb(255, 59, 0)"
          ],
          [
           0.03937007874015748,
           "rgb(255, 64, 0)"
          ],
          [
           0.04330708661417323,
           "rgb(255, 68, 0)"
          ],
          [
           0.047244094488188976,
           "rgb(255, 73, 0)"
          ],
          [
           0.051181102362204724,
           "rgb(255, 78, 0)"
          ],
          [
           0.05511811023622047,
           "rgb(255, 82, 0)"
          ],
          [
           0.05905511811023622,
           "rgb(255, 87, 0)"
          ],
          [
           0.06299212598425197,
           "rgb(255, 92, 0)"
          ],
          [
           0.06692913385826772,
           "rgb(255, 96, 0)"
          ],
          [
           0.07086614173228346,
           "rgb(255, 100, 0)"
          ],
          [
           0.07480314960629922,
           "rgb(255, 105, 0)"
          ],
          [
           0.07874015748031496,
           "rgb(255, 109, 0)"
          ],
          [
           0.08267716535433071,
           "rgb(255, 113, 0)"
          ],
          [
           0.08661417322834646,
           "rgb(255, 118, 0)"
          ],
          [
           0.09055118110236221,
           "rgb(255, 122, 0)"
          ],
          [
           0.09448818897637795,
           "rgb(255, 126, 0)"
          ],
          [
           0.0984251968503937,
           "rgb(255, 130, 0)"
          ],
          [
           0.10236220472440945,
           "rgb(255, 134, 0)"
          ],
          [
           0.1062992125984252,
           "rgb(255, 138, 0)"
          ],
          [
           0.11023622047244094,
           "rgb(255, 142, 0)"
          ],
          [
           0.1141732283464567,
           "rgb(255, 146, 0)"
          ],
          [
           0.11811023622047244,
           "rgb(255, 150, 0)"
          ],
          [
           0.1220472440944882,
           "rgb(255, 154, 0)"
          ],
          [
           0.12598425196850394,
           "rgb(255, 158, 0)"
          ],
          [
           0.12992125984251968,
           "rgb(255, 162, 0)"
          ],
          [
           0.13385826771653545,
           "rgb(255, 166, 0)"
          ],
          [
           0.1377952755905512,
           "rgb(255, 169, 0)"
          ],
          [
           0.14173228346456693,
           "rgb(255, 173, 0)"
          ],
          [
           0.14566929133858267,
           "rgb(255, 177, 0)"
          ],
          [
           0.14960629921259844,
           "rgb(255, 180, 0)"
          ],
          [
           0.15354330708661418,
           "rgb(255, 184, 0)"
          ],
          [
           0.15748031496062992,
           "rgb(255, 187, 0)"
          ],
          [
           0.16141732283464566,
           "rgb(255, 191, 0)"
          ],
          [
           0.16535433070866143,
           "rgb(255, 194, 0)"
          ],
          [
           0.16929133858267717,
           "rgb(255, 198, 0)"
          ],
          [
           0.1732283464566929,
           "rgb(255, 201, 0)"
          ],
          [
           0.17716535433070865,
           "rgb(255, 204, 0)"
          ],
          [
           0.18110236220472442,
           "rgb(255, 207, 0)"
          ],
          [
           0.18503937007874016,
           "rgb(255, 211, 0)"
          ],
          [
           0.1889763779527559,
           "rgb(255, 214, 0)"
          ],
          [
           0.19291338582677164,
           "rgb(255, 217, 0)"
          ],
          [
           0.1968503937007874,
           "rgb(255, 220, 0)"
          ],
          [
           0.20078740157480315,
           "rgb(255, 223, 0)"
          ],
          [
           0.2047244094488189,
           "rgb(255, 226, 0)"
          ],
          [
           0.20866141732283464,
           "rgb(255, 228, 0)"
          ],
          [
           0.2125984251968504,
           "rgb(255, 231, 0)"
          ],
          [
           0.21653543307086615,
           "rgb(255, 234, 0)"
          ],
          [
           0.2204724409448819,
           "rgb(255, 237, 0)"
          ],
          [
           0.22440944881889763,
           "rgb(255, 239, 0)"
          ],
          [
           0.2283464566929134,
           "rgb(255, 242, 0)"
          ],
          [
           0.23228346456692914,
           "rgb(255, 244, 0)"
          ],
          [
           0.23622047244094488,
           "rgb(255, 247, 0)"
          ],
          [
           0.24015748031496062,
           "rgb(255, 249, 0)"
          ],
          [
           0.2440944881889764,
           "rgb(255, 252, 0)"
          ],
          [
           0.24803149606299213,
           "rgb(255, 254, 0)"
          ],
          [
           0.25196850393700787,
           "rgb(254, 255, 0)"
          ],
          [
           0.2559055118110236,
           "rgb(252, 255, 0)"
          ],
          [
           0.25984251968503935,
           "rgb(249, 255, 0)"
          ],
          [
           0.2637795275590551,
           "rgb(247, 255, 0)"
          ],
          [
           0.2677165354330709,
           "rgb(244, 255, 0)"
          ],
          [
           0.27165354330708663,
           "rgb(242, 255, 0)"
          ],
          [
           0.2755905511811024,
           "rgb(239, 255, 0)"
          ],
          [
           0.2795275590551181,
           "rgb(237, 255, 0)"
          ],
          [
           0.28346456692913385,
           "rgb(234, 255, 0)"
          ],
          [
           0.2874015748031496,
           "rgb(231, 255, 0)"
          ],
          [
           0.29133858267716534,
           "rgb(228, 255, 0)"
          ],
          [
           0.2952755905511811,
           "rgb(226, 255, 0)"
          ],
          [
           0.2992125984251969,
           "rgb(223, 255, 0)"
          ],
          [
           0.3031496062992126,
           "rgb(220, 255, 0)"
          ],
          [
           0.30708661417322836,
           "rgb(217, 255, 0)"
          ],
          [
           0.3110236220472441,
           "rgb(214, 255, 0)"
          ],
          [
           0.31496062992125984,
           "rgb(211, 255, 0)"
          ],
          [
           0.3188976377952756,
           "rgb(207, 255, 0)"
          ],
          [
           0.3228346456692913,
           "rgb(204, 255, 0)"
          ],
          [
           0.32677165354330706,
           "rgb(201, 255, 0)"
          ],
          [
           0.33070866141732286,
           "rgb(198, 255, 0)"
          ],
          [
           0.3346456692913386,
           "rgb(194, 255, 0)"
          ],
          [
           0.33858267716535434,
           "rgb(191, 255, 0)"
          ],
          [
           0.3425196850393701,
           "rgb(187, 255, 0)"
          ],
          [
           0.3464566929133858,
           "rgb(184, 255, 0)"
          ],
          [
           0.35039370078740156,
           "rgb(180, 255, 0)"
          ],
          [
           0.3543307086614173,
           "rgb(177, 255, 0)"
          ],
          [
           0.35826771653543305,
           "rgb(173, 255, 0)"
          ],
          [
           0.36220472440944884,
           "rgb(169, 255, 0)"
          ],
          [
           0.3661417322834646,
           "rgb(166, 255, 0)"
          ],
          [
           0.3700787401574803,
           "rgb(162, 255, 0)"
          ],
          [
           0.37401574803149606,
           "rgb(158, 255, 0)"
          ],
          [
           0.3779527559055118,
           "rgb(154, 255, 0)"
          ],
          [
           0.38188976377952755,
           "rgb(150, 255, 0)"
          ],
          [
           0.3858267716535433,
           "rgb(146, 255, 0)"
          ],
          [
           0.38976377952755903,
           "rgb(142, 255, 0)"
          ],
          [
           0.3937007874015748,
           "rgb(138, 255, 0)"
          ],
          [
           0.39763779527559057,
           "rgb(134, 255, 0)"
          ],
          [
           0.4015748031496063,
           "rgb(130, 255, 0)"
          ],
          [
           0.40551181102362205,
           "rgb(126, 255, 0)"
          ],
          [
           0.4094488188976378,
           "rgb(122, 255, 0)"
          ],
          [
           0.41338582677165353,
           "rgb(118, 255, 0)"
          ],
          [
           0.41732283464566927,
           "rgb(113, 255, 0)"
          ],
          [
           0.421259842519685,
           "rgb(109, 255, 0)"
          ],
          [
           0.4251968503937008,
           "rgb(105, 255, 0)"
          ],
          [
           0.42913385826771655,
           "rgb(100, 255, 0)"
          ],
          [
           0.4330708661417323,
           "rgb(96, 255, 0)"
          ],
          [
           0.43700787401574803,
           "rgb(92, 255, 0)"
          ],
          [
           0.4409448818897638,
           "rgb(87, 255, 0)"
          ],
          [
           0.4448818897637795,
           "rgb(82, 255, 0)"
          ],
          [
           0.44881889763779526,
           "rgb(78, 255, 0)"
          ],
          [
           0.452755905511811,
           "rgb(73, 255, 0)"
          ],
          [
           0.4566929133858268,
           "rgb(68, 255, 0)"
          ],
          [
           0.46062992125984253,
           "rgb(64, 255, 0)"
          ],
          [
           0.4645669291338583,
           "rgb(59, 255, 0)"
          ],
          [
           0.468503937007874,
           "rgb(54, 255, 0)"
          ],
          [
           0.47244094488188976,
           "rgb(49, 255, 0)"
          ],
          [
           0.4763779527559055,
           "rgb(43, 255, 0)"
          ],
          [
           0.48031496062992124,
           "rgb(38, 255, 0)"
          ],
          [
           0.484251968503937,
           "rgb(32, 255, 0)"
          ],
          [
           0.4881889763779528,
           "rgb(26, 255, 0)"
          ],
          [
           0.4921259842519685,
           "rgb(19, 255, 0)"
          ],
          [
           0.49606299212598426,
           "rgb(12, 255, 0)"
          ],
          [
           0.5,
           "rgb(1, 255, 0)"
          ],
          [
           0.5039370078740157,
           "rgb(0, 253, 8)"
          ],
          [
           0.5078740157480315,
           "rgb(0, 250, 15)"
          ],
          [
           0.5118110236220472,
           "rgb(0, 248, 21)"
          ],
          [
           0.515748031496063,
           "rgb(0, 246, 27)"
          ],
          [
           0.5196850393700787,
           "rgb(0, 243, 33)"
          ],
          [
           0.5236220472440944,
           "rgb(0, 241, 40)"
          ],
          [
           0.5275590551181102,
           "rgb(0, 238, 46)"
          ],
          [
           0.531496062992126,
           "rgb(0, 235, 53)"
          ],
          [
           0.5354330708661418,
           "rgb(0, 233, 60)"
          ],
          [
           0.5393700787401575,
           "rgb(0, 230, 67)"
          ],
          [
           0.5433070866141733,
           "rgb(0, 227, 74)"
          ],
          [
           0.547244094488189,
           "rgb(0, 224, 81)"
          ],
          [
           0.5511811023622047,
           "rgb(0, 221, 89)"
          ],
          [
           0.5551181102362205,
           "rgb(0, 218, 96)"
          ],
          [
           0.5590551181102362,
           "rgb(0, 215, 103)"
          ],
          [
           0.562992125984252,
           "rgb(0, 212, 111)"
          ],
          [
           0.5669291338582677,
           "rgb(0, 209, 118)"
          ],
          [
           0.5708661417322834,
           "rgb(0, 206, 126)"
          ],
          [
           0.5748031496062992,
           "rgb(0, 202, 133)"
          ],
          [
           0.5787401574803149,
           "rgb(0, 199, 140)"
          ],
          [
           0.5826771653543307,
           "rgb(0, 196, 148)"
          ],
          [
           0.5866141732283464,
           "rgb(0, 192, 155)"
          ],
          [
           0.5905511811023622,
           "rgb(0, 189, 163)"
          ],
          [
           0.594488188976378,
           "rgb(0, 186, 170)"
          ],
          [
           0.5984251968503937,
           "rgb(0, 182, 174)"
          ],
          [
           0.6023622047244095,
           "rgb(0, 178, 178)"
          ],
          [
           0.6062992125984252,
           "rgb(0, 175, 182)"
          ],
          [
           0.610236220472441,
           "rgb(0, 171, 186)"
          ],
          [
           0.6141732283464567,
           "rgb(0, 167, 190)"
          ],
          [
           0.6181102362204725,
           "rgb(0, 164, 194)"
          ],
          [
           0.6220472440944882,
           "rgb(0, 160, 197)"
          ],
          [
           0.6259842519685039,
           "rgb(0, 156, 201)"
          ],
          [
           0.6299212598425197,
           "rgb(0, 152, 204)"
          ],
          [
           0.6338582677165354,
           "rgb(0, 148, 208)"
          ],
          [
           0.6377952755905512,
           "rgb(0, 144, 211)"
          ],
          [
           0.6417322834645669,
           "rgb(0, 140, 214)"
          ],
          [
           0.6456692913385826,
           "rgb(0, 136, 217)"
          ],
          [
           0.6496062992125984,
           "rgb(0, 132, 220)"
          ],
          [
           0.6535433070866141,
           "rgb(0, 128, 222)"
          ],
          [
           0.65748031496063,
           "rgb(0, 124, 225)"
          ],
          [
           0.6614173228346457,
           "rgb(0, 120, 227)"
          ],
          [
           0.6653543307086615,
           "rgb(0, 116, 230)"
          ],
          [
           0.6692913385826772,
           "rgb(0, 111, 232)"
          ],
          [
           0.6732283464566929,
           "rgb(0, 107, 234)"
          ],
          [
           0.6771653543307087,
           "rgb(0, 103, 236)"
          ],
          [
           0.6811023622047244,
           "rgb(0, 98, 238)"
          ],
          [
           0.6850393700787402,
           "rgb(0, 94, 240)"
          ],
          [
           0.6889763779527559,
           "rgb(0, 89, 242)"
          ],
          [
           0.6929133858267716,
           "rgb(0, 85, 244)"
          ],
          [
           0.6968503937007874,
           "rgb(0, 80, 245)"
          ],
          [
           0.7007874015748031,
           "rgb(0, 76, 246)"
          ],
          [
           0.7047244094488189,
           "rgb(0, 71, 248)"
          ],
          [
           0.7086614173228346,
           "rgb(0, 66, 249)"
          ],
          [
           0.7125984251968503,
           "rgb(0, 61, 250)"
          ],
          [
           0.7165354330708661,
           "rgb(0, 56, 251)"
          ],
          [
           0.7204724409448819,
           "rgb(0, 51, 252)"
          ],
          [
           0.7244094488188977,
           "rgb(0, 46, 253)"
          ],
          [
           0.7283464566929134,
           "rgb(0, 41, 253)"
          ],
          [
           0.7322834645669292,
           "rgb(0, 35, 254)"
          ],
          [
           0.7362204724409449,
           "rgb(0, 29, 254)"
          ],
          [
           0.7401574803149606,
           "rgb(0, 23, 255)"
          ],
          [
           0.7440944881889764,
           "rgb(0, 16, 255)"
          ],
          [
           0.7480314960629921,
           "rgb(0, 7, 255)"
          ],
          [
           0.7519685039370079,
           "rgb(7, 0, 255)"
          ],
          [
           0.7559055118110236,
           "rgb(16, 0, 255)"
          ],
          [
           0.7598425196850394,
           "rgb(23, 0, 255)"
          ],
          [
           0.7637795275590551,
           "rgb(29, 0, 254)"
          ],
          [
           0.7677165354330708,
           "rgb(35, 0, 254)"
          ],
          [
           0.7716535433070866,
           "rgb(41, 0, 253)"
          ],
          [
           0.7755905511811023,
           "rgb(46, 0, 253)"
          ],
          [
           0.7795275590551181,
           "rgb(51, 0, 252)"
          ],
          [
           0.7834645669291339,
           "rgb(56, 0, 251)"
          ],
          [
           0.7874015748031497,
           "rgb(61, 0, 250)"
          ],
          [
           0.7913385826771654,
           "rgb(66, 0, 249)"
          ],
          [
           0.7952755905511811,
           "rgb(71, 0, 248)"
          ],
          [
           0.7992125984251969,
           "rgb(76, 0, 246)"
          ],
          [
           0.8031496062992126,
           "rgb(80, 0, 245)"
          ],
          [
           0.8070866141732284,
           "rgb(85, 0, 244)"
          ],
          [
           0.8110236220472441,
           "rgb(89, 0, 242)"
          ],
          [
           0.8149606299212598,
           "rgb(94, 0, 240)"
          ],
          [
           0.8188976377952756,
           "rgb(98, 0, 238)"
          ],
          [
           0.8228346456692913,
           "rgb(103, 0, 236)"
          ],
          [
           0.8267716535433071,
           "rgb(107, 0, 234)"
          ],
          [
           0.8307086614173228,
           "rgb(111, 0, 232)"
          ],
          [
           0.8346456692913385,
           "rgb(116, 0, 230)"
          ],
          [
           0.8385826771653543,
           "rgb(120, 0, 227)"
          ],
          [
           0.84251968503937,
           "rgb(124, 0, 225)"
          ],
          [
           0.8464566929133859,
           "rgb(128, 0, 219)"
          ],
          [
           0.8503937007874016,
           "rgb(132, 0, 213)"
          ],
          [
           0.8543307086614174,
           "rgb(136, 0, 206)"
          ],
          [
           0.8582677165354331,
           "rgb(140, 0, 199)"
          ],
          [
           0.8622047244094488,
           "rgb(144, 0, 192)"
          ],
          [
           0.8661417322834646,
           "rgb(148, 0, 185)"
          ],
          [
           0.8700787401574803,
           "rgb(152, 0, 178)"
          ],
          [
           0.8740157480314961,
           "rgb(156, 0, 171)"
          ],
          [
           0.8779527559055118,
           "rgb(160, 0, 163)"
          ],
          [
           0.8818897637795275,
           "rgb(164, 0, 156)"
          ],
          [
           0.8858267716535433,
           "rgb(167, 0, 148)"
          ],
          [
           0.889763779527559,
           "rgb(171, 0, 141)"
          ],
          [
           0.8937007874015748,
           "rgb(175, 0, 134)"
          ],
          [
           0.8976377952755905,
           "rgb(178, 0, 126)"
          ],
          [
           0.9015748031496063,
           "rgb(182, 0, 119)"
          ],
          [
           0.905511811023622,
           "rgb(186, 0, 111)"
          ],
          [
           0.9094488188976378,
           "rgb(189, 0, 104)"
          ],
          [
           0.9133858267716536,
           "rgb(192, 0, 96)"
          ],
          [
           0.9173228346456693,
           "rgb(196, 0, 89)"
          ],
          [
           0.9212598425196851,
           "rgb(199, 0, 82)"
          ],
          [
           0.9251968503937008,
           "rgb(202, 0, 75)"
          ],
          [
           0.9291338582677166,
           "rgb(206, 0, 67)"
          ],
          [
           0.9330708661417323,
           "rgb(209, 0, 60)"
          ],
          [
           0.937007874015748,
           "rgb(212, 0, 54)"
          ],
          [
           0.9409448818897638,
           "rgb(215, 0, 47)"
          ],
          [
           0.9448818897637795,
           "rgb(218, 0, 40)"
          ],
          [
           0.9488188976377953,
           "rgb(221, 0, 34)"
          ],
          [
           0.952755905511811,
           "rgb(224, 0, 27)"
          ],
          [
           0.9566929133858267,
           "rgb(227, 0, 21)"
          ],
          [
           0.9606299212598425,
           "rgb(230, 0, 15)"
          ],
          [
           0.9645669291338582,
           "rgb(233, 0, 9)"
          ],
          [
           0.968503937007874,
           "rgb(235, 0, 1)"
          ],
          [
           0.9724409448818898,
           "rgb(238, 0, 0)"
          ],
          [
           0.9763779527559056,
           "rgb(241, 0, 0)"
          ],
          [
           0.9803149606299213,
           "rgb(243, 0, 0)"
          ],
          [
           0.984251968503937,
           "rgb(246, 0, 0)"
          ],
          [
           0.9881889763779528,
           "rgb(248, 0, 0)"
          ],
          [
           0.9921259842519685,
           "rgb(250, 0, 0)"
          ],
          [
           0.9960629921259843,
           "rgb(253, 0, 0)"
          ],
          [
           1,
           "rgb(255, 0, 0)"
          ]
         ],
         "opacity": 1,
         "scene": "scene2",
         "surfacecolor": [
          [
           2.335789159505807,
           6.180978589072333,
           4.579837448088016,
           6.249864311301339,
           5.714660759448546,
           4.471542525143278,
           3.2965893955137338,
           2.761086276477428,
           4.659805918773748,
           1.2220253232109897,
           2.6559705602923245,
           3.690142056040321,
           5.902678930067221,
           2.274410109574349,
           1.092443895416239
          ],
          [
           4.021445752382288,
           4.611132187354719,
           4.780734744500314,
           4.6639281068701175,
           4.685669283068056,
           4.717929089908464,
           4.693343664402673,
           1.5707963267948966,
           1.5275800079883195,
           1.5051374189969031,
           1.6629136354080547,
           1.534840606474297,
           1.6480417028777763,
           1.5610405387493822,
           0.6876712560387296
          ],
          [
           1.047518004662921,
           4.727050686305016,
           4.777514143719076,
           4.718890839348085,
           4.68225393802668,
           4.73966953013831,
           4.777622922137009,
           5.4452040821711964,
           1.488564598975821,
           1.562897596911256,
           1.5857205917849817,
           1.5424898611465196,
           1.5976461129579629,
           1.6411027909135212,
           2.2264919530364327
          ],
          [
           3.9269908169872414,
           4.692831572084596,
           4.724230532133405,
           4.702080067238446,
           4.749219809870572,
           4.690024288864429,
           4.717162213823366,
           1.6447353644528369,
           1.5820066195014906,
           1.5927566202531653,
           1.5790096944616678,
           1.5451082478845604,
           1.607168419231297,
           1.6178204586376428,
           4.71238898038469
          ],
          [
           4.935865581525323,
           4.666862373829775,
           4.671802144137104,
           4.721628963820686,
           4.706260354358441,
           4.713634309753371,
           4.743258031481189,
           1.4659193880646628,
           1.5661451975437872,
           1.5325059360521236,
           1.578035083500008,
           1.55758571324152,
           1.566984401166931,
           1.5468201068201273,
           4.8120576328758515
          ],
          [
           0.2662520491509253,
           4.669558047715962,
           4.7510793404701825,
           4.688097084506172,
           4.645478702356048,
           4.713934574208048,
           4.797978187799376,
           1.5707963267948966,
           1.5707963267948966,
           1.5333545496002547,
           1.5826068012492116,
           1.5745463092169198,
           1.5660268876018675,
           1.5762310558957326,
           3.522099030702158
          ],
          [
           3.5552818668686563,
           4.602938031243326,
           4.6788819726038255,
           4.701128195123266,
           4.679766525218653,
           4.770801985150181,
           4.850890462300594,
           3.3002479157761946,
           1.5600440530037953,
           1.513388212158097,
           1.6195381781048281,
           1.5234277237291236,
           1.6009077048079792,
           1.5405025668761214,
           5.401313368599551
          ],
          [
           0.16514867741462683,
           1.446441332248135,
           5.864960977600357,
           4.624381606856948,
           3.2015208087110008,
           1.4758446204521403,
           5.639684198386302,
           2.0663480002807253,
           2.1948193797716535,
           3.4846165940104963,
           1.6539375586833378,
           5.185745022219605,
           2.654693421778524,
           3.887012129863951,
           2.51279636717436
          ]
         ],
         "type": "surface",
         "x": [
          [
           0,
           0,
           0,
           0,
           0,
           0,
           0,
           0,
           0,
           0,
           0,
           0,
           0,
           0,
           0
          ],
          [
           0.004938930837271293,
           0.012395547750835859,
           0.01536978766252902,
           0.007060786021702213,
           -0.007315708350631288,
           -0.016475072730014376,
           -0.013851345685490473,
           -0.0007319545576946463,
           -0.012211564671211969,
           -0.016693336709565097,
           -0.0070825251600306685,
           0.006796289026644474,
           0.01478471547693817,
           0.013519742887012758,
           0.0026522623626968815
          ],
          [
           0.003959007232497205,
           0.040526093690996405,
           0.05307142597532131,
           0.022569934219224257,
           -0.022403534351793392,
           -0.051251068933555875,
           -0.047395976495178606,
           -0.0017744476329640557,
           -0.04340153481459751,
           -0.052055966222617156,
           -0.02359930375569766,
           0.02281338902270734,
           0.052073111259115214,
           0.04228986330202123,
           0.00216321676292256
          ],
          [
           0.0011629693037507529,
           0.06061769311149683,
           0.07793932600554823,
           0.03550168247888745,
           -0.0357802455306208,
           -0.07795335617168074,
           -0.06208861963789978,
           -0.004452820997693377,
           -0.06609295698810261,
           -0.0793886274106988,
           -0.03564738932886812,
           0.03562134144462628,
           0.0761384169773442,
           0.063046693137552,
           0.006085341759355268
          ],
          [
           0.0037105829168648263,
           0.06511900934875667,
           0.08087170967394713,
           0.03564770870135368,
           -0.035829848482621905,
           -0.08234334135925471,
           -0.06241400942418697,
           -0.0031421700289299324,
           -0.06371859446947307,
           -0.07768316877505745,
           -0.035390930095753476,
           0.03601530689414158,
           0.08070315097052912,
           0.0618093149564579,
           0.001652889940365768
          ],
          [
           0.003007638056707869,
           0.04162940509596618,
           0.05102348070360213,
           0.022957768758777194,
           -0.02282597757455422,
           -0.053205686770771796,
           -0.04031280755298799,
           -0.0001318936538404323,
           -0.04622567755782574,
           -0.050527302371769514,
           -0.022365573303700086,
           0.02347944431648873,
           0.051725993273219265,
           0.0437308497838901,
           0.0007102690629458766
          ],
          [
           0.003277489491108371,
           0.012074574070079905,
           0.016347085774878967,
           0.0072321179340970945,
           -0.006991066288263063,
           -0.015634389416997303,
           -0.010986432605917655,
           -0.0018531609244037818,
           -0.012266818892330448,
           -0.015907750155676744,
           -0.007354406504421934,
           0.007223474327264292,
           0.015158229338079384,
           0.013063465520617247,
           0.0016119627016374582
          ],
          [
           2.5133470112277073e-19,
           1.5006798799763617e-19,
           2.5372707567584616e-19,
           1.5691173832141779e-19,
           -2.30272884768105e-19,
           -2.7172585048236927e-19,
           -3.7227286123246643e-19,
           -8.689314441577072e-19,
           -5.7340897701049e-19,
           -3.8298087209314174e-19,
           -5.535750043463777e-20,
           2.1177035312313447e-19,
           2.4777176428415894e-19,
           9.879268867218284e-19,
           8.43002215222662e-19
          ]
         ],
         "y": [
          [
           0,
           0,
           0,
           0,
           0,
           0,
           0,
           0,
           0,
           0,
           0,
           0,
           0,
           0,
           0
          ],
          [
           0,
           0.005969381183019297,
           0.019273104127108948,
           0.030935324834885737,
           0.032052212533910704,
           0.020659087763546434,
           0.006670456518461384,
           8.963858062020653e-20,
           -0.005880779601582386,
           -0.02093278213704345,
           -0.03103057022311222,
           -0.029776487782635065,
           -0.0185394468117084,
           -0.006510765027188971,
           -6.496169225951465e-19
          ],
          [
           0,
           0.019516338120999784,
           0.06654946323625509,
           0.09888534285385152,
           0.09815629739975709,
           0.06426680770549625,
           0.022824699313676235,
           2.1730716139640284e-19,
           -0.020901077584001476,
           -0.06527611698187129,
           -0.10339530546822105,
           -0.09995198804111742,
           -0.06529761617762768,
           -0.02036572479909338,
           -5.298352969150025e-19
          ],
          [
           0,
           0.02919194245316084,
           0.0977328235551208,
           0.15554303391913119,
           0.1567634983923332,
           0.09775041682698184,
           0.029900303334407234,
           5.453132982001319e-19,
           -0.03182869056740789,
           -0.09955019003449841,
           -0.15618141734003715,
           -0.1560672941025103,
           -0.09547455506201433,
           -0.030361687214791856,
           -1.4904788614624306e-18
          ],
          [
           0,
           0.03135966210425139,
           0.1014099163701029,
           0.15618281660232244,
           0.15698082312476483,
           0.10325528413512634,
           0.030057002796702353,
           3.8480484683057883e-19,
           -0.030685257842587993,
           -0.0974116125478798,
           -0.15505779602380945,
           -0.15779336951635486,
           -0.10119855044144889,
           -0.02976579728891071,
           -4.048412749623595e-19
          ],
          [
           0,
           0.0200476648902741,
           0.06398142109181537,
           0.10058455699607048,
           0.10000714209045226,
           0.06671782094865307,
           0.01941362493039146,
           1.6152314100353443e-20,
           -0.02226111304902965,
           -0.0633592331432896,
           -0.09798997918104455,
           -0.1028701669531807,
           -0.0648623439908248,
           -0.021059667314806185,
           -1.7396574689401155e-19
          ],
          [
           0,
           0.005814808405062,
           0.020498597198068413,
           0.031685978989851905,
           0.030629862724192616,
           0.019604904232488146,
           0.005290787094249401,
           2.2694675943760415e-19,
           -0.005907388632055024,
           -0.019947687756666332,
           -0.032221760223692573,
           -0.03164810887393341,
           -0.01900781837914674,
           -0.006291033428396548,
           -3.9481699258104663e-19
          ],
          [
           0,
           7.226893411517443e-20,
           3.1816368948865443e-19,
           6.874752443226453e-19,
           1.0088914278201277e-18,
           3.4073343922255723e-19,
           1.792771612404131e-19,
           1.0641341117662232e-34,
           -2.7613920952464157e-19,
           -4.802428236882726e-19,
           -2.4253705645933134e-19,
           -9.278265400093901e-19,
           -3.1069596520504793e-19,
           -4.757605138827733e-19,
           -2.0647599290931225e-34
          ]
         ],
         "z": [
          [
           0.00584631550393968,
           0.006613748544480908,
           0.002552868745755221,
           0.005063760313155584,
           0.007206795183272425,
           0.009901599553164364,
           0.0054638464928348845,
           0.0018169364597694375,
           0.003209704347459835,
           0.0019745631545269988,
           0.006867078301186736,
           0.0035586948571162025,
           0.0018169364597694375,
           0.007300954365536137,
           0.0051307589522497365
          ],
          [
           0.010255795559784765,
           0.028568823012464547,
           0.05118879706912397,
           0.06588986029315312,
           0.06826874510670153,
           0.054869928797506705,
           0.031924094951476245,
           0.001519919300371574,
           0.028144785273695915,
           0.055596852994641816,
           0.06609272563745794,
           0.06342162658677161,
           0.049240224841804694,
           0.03115982847043196,
           0.005507479545463574
          ],
          [
           0.0031572029143094936,
           0.035870807999355894,
           0.06788090165899846,
           0.08088642092519382,
           0.08029007493728907,
           0.06555257761144405,
           0.04195153832895203,
           0.0014150747672542058,
           0.038415943418639166,
           0.0665820798854129,
           0.08457548872689961,
           0.08175891738528636,
           0.06660400921018753,
           0.03743197107504178,
           0.0017251078028150781
          ],
          [
           0.00026544015449716553,
           0.015356349567876949,
           0.028531569411561045,
           0.03641467439314262,
           0.0367004012127902,
           0.028536705492142975,
           0.01572898106816449,
           0.0010163273353509504,
           0.016743404431724625,
           0.029062121133760725,
           0.03656412836626209,
           0.036537410612142725,
           0.02787230324163738,
           0.01597169092426735,
           0.0013889395460067143
          ],
          [
           -0.0008469163369579646,
           -0.016496673161646505,
           -0.029605039153527943,
           -0.0365644559520062,
           -0.036751279797125815,
           -0.03014376541316505,
           -0.015811412435106344,
           -0.0007171798045275654,
           -0.01614190445761847,
           -0.028437796881355913,
           -0.036301073806114435,
           -0.036941507617257306,
           -0.02954333417616965,
           -0.01565822449357368,
           -0.0003772613427736105
          ],
          [
           -0.002398511313614512,
           -0.03684738057190468,
           -0.065261481339348,
           -0.08227634734282983,
           -0.08180403239951872,
           -0.06805262766193027,
           -0.03568202232058409,
           -0.00010518167910021222,
           -0.04091567316998255,
           -0.06462684543255856,
           -0.08015402964424502,
           -0.08414593492503471,
           -0.06616002864189395,
           -0.038707429544217374,
           -0.0005664206766457776
          ],
          [
           -0.00680577705532751,
           -0.02782905414855469,
           -0.05444367058120784,
           -0.06748869585292777,
           -0.06523924951386287,
           -0.05207004837922712,
           -0.025321143927315857,
           -0.003848128310816222,
           -0.028272133261502165,
           -0.05298047132625598,
           -0.0686298686330385,
           -0.06740803542151244,
           -0.050484205933819096,
           -0.030108216424948295,
           -0.0033472750404267304
          ],
          [
           -0.0020523035808998947,
           -0.001360089298616744,
           -0.003322971435054367,
           -0.005758027144439627,
           -0.008450084966920448,
           -0.0035586948571162025,
           -0.0033739663034310107,
           -0.007095363698028616,
           -0.005196893913011125,
           -0.00501576150179415,
           -0.0020313967174211372,
           -0.007771116773767424,
           -0.0032449768828816524,
           -0.008953733600181807,
           -0.006883635476037605
          ]
         ]
        }
       ],
       "layout": {
        "annotations": [
         {
          "font": {
           "size": 16
          },
          "showarrow": false,
          "text": "$f_{0}^{(\\emptyset)}$",
          "x": 0.225,
          "xanchor": "center",
          "xref": "paper",
          "y": 1,
          "yanchor": "bottom",
          "yref": "paper"
         },
         {
          "font": {
           "size": 16
          },
          "showarrow": false,
          "text": "$f_{1}^{(1)}$",
          "x": 0.775,
          "xanchor": "center",
          "xref": "paper",
          "y": 1,
          "yanchor": "bottom",
          "yref": "paper"
         }
        ],
        "scene": {
         "domain": {
          "x": [
           0,
           0.45
          ],
          "y": [
           0,
           1
          ]
         }
        },
        "scene2": {
         "domain": {
          "x": [
           0.55,
           1
          ],
          "y": [
           0,
           1
          ]
         }
        },
        "template": {
         "data": {
          "bar": [
           {
            "error_x": {
             "color": "#2a3f5f"
            },
            "error_y": {
             "color": "#2a3f5f"
            },
            "marker": {
             "line": {
              "color": "#E5ECF6",
              "width": 0.5
             },
             "pattern": {
              "fillmode": "overlay",
              "size": 10,
              "solidity": 0.2
             }
            },
            "type": "bar"
           }
          ],
          "barpolar": [
           {
            "marker": {
             "line": {
              "color": "#E5ECF6",
              "width": 0.5
             },
             "pattern": {
              "fillmode": "overlay",
              "size": 10,
              "solidity": 0.2
             }
            },
            "type": "barpolar"
           }
          ],
          "carpet": [
           {
            "aaxis": {
             "endlinecolor": "#2a3f5f",
             "gridcolor": "white",
             "linecolor": "white",
             "minorgridcolor": "white",
             "startlinecolor": "#2a3f5f"
            },
            "baxis": {
             "endlinecolor": "#2a3f5f",
             "gridcolor": "white",
             "linecolor": "white",
             "minorgridcolor": "white",
             "startlinecolor": "#2a3f5f"
            },
            "type": "carpet"
           }
          ],
          "choropleth": [
           {
            "colorbar": {
             "outlinewidth": 0,
             "ticks": ""
            },
            "type": "choropleth"
           }
          ],
          "contour": [
           {
            "colorbar": {
             "outlinewidth": 0,
             "ticks": ""
            },
            "colorscale": [
             [
              0,
              "#0d0887"
             ],
             [
              0.1111111111111111,
              "#46039f"
             ],
             [
              0.2222222222222222,
              "#7201a8"
             ],
             [
              0.3333333333333333,
              "#9c179e"
             ],
             [
              0.4444444444444444,
              "#bd3786"
             ],
             [
              0.5555555555555556,
              "#d8576b"
             ],
             [
              0.6666666666666666,
              "#ed7953"
             ],
             [
              0.7777777777777778,
              "#fb9f3a"
             ],
             [
              0.8888888888888888,
              "#fdca26"
             ],
             [
              1,
              "#f0f921"
             ]
            ],
            "type": "contour"
           }
          ],
          "contourcarpet": [
           {
            "colorbar": {
             "outlinewidth": 0,
             "ticks": ""
            },
            "type": "contourcarpet"
           }
          ],
          "heatmap": [
           {
            "colorbar": {
             "outlinewidth": 0,
             "ticks": ""
            },
            "colorscale": [
             [
              0,
              "#0d0887"
             ],
             [
              0.1111111111111111,
              "#46039f"
             ],
             [
              0.2222222222222222,
              "#7201a8"
             ],
             [
              0.3333333333333333,
              "#9c179e"
             ],
             [
              0.4444444444444444,
              "#bd3786"
             ],
             [
              0.5555555555555556,
              "#d8576b"
             ],
             [
              0.6666666666666666,
              "#ed7953"
             ],
             [
              0.7777777777777778,
              "#fb9f3a"
             ],
             [
              0.8888888888888888,
              "#fdca26"
             ],
             [
              1,
              "#f0f921"
             ]
            ],
            "type": "heatmap"
           }
          ],
          "heatmapgl": [
           {
            "colorbar": {
             "outlinewidth": 0,
             "ticks": ""
            },
            "colorscale": [
             [
              0,
              "#0d0887"
             ],
             [
              0.1111111111111111,
              "#46039f"
             ],
             [
              0.2222222222222222,
              "#7201a8"
             ],
             [
              0.3333333333333333,
              "#9c179e"
             ],
             [
              0.4444444444444444,
              "#bd3786"
             ],
             [
              0.5555555555555556,
              "#d8576b"
             ],
             [
              0.6666666666666666,
              "#ed7953"
             ],
             [
              0.7777777777777778,
              "#fb9f3a"
             ],
             [
              0.8888888888888888,
              "#fdca26"
             ],
             [
              1,
              "#f0f921"
             ]
            ],
            "type": "heatmapgl"
           }
          ],
          "histogram": [
           {
            "marker": {
             "pattern": {
              "fillmode": "overlay",
              "size": 10,
              "solidity": 0.2
             }
            },
            "type": "histogram"
           }
          ],
          "histogram2d": [
           {
            "colorbar": {
             "outlinewidth": 0,
             "ticks": ""
            },
            "colorscale": [
             [
              0,
              "#0d0887"
             ],
             [
              0.1111111111111111,
              "#46039f"
             ],
             [
              0.2222222222222222,
              "#7201a8"
             ],
             [
              0.3333333333333333,
              "#9c179e"
             ],
             [
              0.4444444444444444,
              "#bd3786"
             ],
             [
              0.5555555555555556,
              "#d8576b"
             ],
             [
              0.6666666666666666,
              "#ed7953"
             ],
             [
              0.7777777777777778,
              "#fb9f3a"
             ],
             [
              0.8888888888888888,
              "#fdca26"
             ],
             [
              1,
              "#f0f921"
             ]
            ],
            "type": "histogram2d"
           }
          ],
          "histogram2dcontour": [
           {
            "colorbar": {
             "outlinewidth": 0,
             "ticks": ""
            },
            "colorscale": [
             [
              0,
              "#0d0887"
             ],
             [
              0.1111111111111111,
              "#46039f"
             ],
             [
              0.2222222222222222,
              "#7201a8"
             ],
             [
              0.3333333333333333,
              "#9c179e"
             ],
             [
              0.4444444444444444,
              "#bd3786"
             ],
             [
              0.5555555555555556,
              "#d8576b"
             ],
             [
              0.6666666666666666,
              "#ed7953"
             ],
             [
              0.7777777777777778,
              "#fb9f3a"
             ],
             [
              0.8888888888888888,
              "#fdca26"
             ],
             [
              1,
              "#f0f921"
             ]
            ],
            "type": "histogram2dcontour"
           }
          ],
          "mesh3d": [
           {
            "colorbar": {
             "outlinewidth": 0,
             "ticks": ""
            },
            "type": "mesh3d"
           }
          ],
          "parcoords": [
           {
            "line": {
             "colorbar": {
              "outlinewidth": 0,
              "ticks": ""
             }
            },
            "type": "parcoords"
           }
          ],
          "pie": [
           {
            "automargin": true,
            "type": "pie"
           }
          ],
          "scatter": [
           {
            "fillpattern": {
             "fillmode": "overlay",
             "size": 10,
             "solidity": 0.2
            },
            "type": "scatter"
           }
          ],
          "scatter3d": [
           {
            "line": {
             "colorbar": {
              "outlinewidth": 0,
              "ticks": ""
             }
            },
            "marker": {
             "colorbar": {
              "outlinewidth": 0,
              "ticks": ""
             }
            },
            "type": "scatter3d"
           }
          ],
          "scattercarpet": [
           {
            "marker": {
             "colorbar": {
              "outlinewidth": 0,
              "ticks": ""
             }
            },
            "type": "scattercarpet"
           }
          ],
          "scattergeo": [
           {
            "marker": {
             "colorbar": {
              "outlinewidth": 0,
              "ticks": ""
             }
            },
            "type": "scattergeo"
           }
          ],
          "scattergl": [
           {
            "marker": {
             "colorbar": {
              "outlinewidth": 0,
              "ticks": ""
             }
            },
            "type": "scattergl"
           }
          ],
          "scattermapbox": [
           {
            "marker": {
             "colorbar": {
              "outlinewidth": 0,
              "ticks": ""
             }
            },
            "type": "scattermapbox"
           }
          ],
          "scatterpolar": [
           {
            "marker": {
             "colorbar": {
              "outlinewidth": 0,
              "ticks": ""
             }
            },
            "type": "scatterpolar"
           }
          ],
          "scatterpolargl": [
           {
            "marker": {
             "colorbar": {
              "outlinewidth": 0,
              "ticks": ""
             }
            },
            "type": "scatterpolargl"
           }
          ],
          "scatterternary": [
           {
            "marker": {
             "colorbar": {
              "outlinewidth": 0,
              "ticks": ""
             }
            },
            "type": "scatterternary"
           }
          ],
          "surface": [
           {
            "colorbar": {
             "outlinewidth": 0,
             "ticks": ""
            },
            "colorscale": [
             [
              0,
              "#0d0887"
             ],
             [
              0.1111111111111111,
              "#46039f"
             ],
             [
              0.2222222222222222,
              "#7201a8"
             ],
             [
              0.3333333333333333,
              "#9c179e"
             ],
             [
              0.4444444444444444,
              "#bd3786"
             ],
             [
              0.5555555555555556,
              "#d8576b"
             ],
             [
              0.6666666666666666,
              "#ed7953"
             ],
             [
              0.7777777777777778,
              "#fb9f3a"
             ],
             [
              0.8888888888888888,
              "#fdca26"
             ],
             [
              1,
              "#f0f921"
             ]
            ],
            "type": "surface"
           }
          ],
          "table": [
           {
            "cells": {
             "fill": {
              "color": "#EBF0F8"
             },
             "line": {
              "color": "white"
             }
            },
            "header": {
             "fill": {
              "color": "#C8D4E3"
             },
             "line": {
              "color": "white"
             }
            },
            "type": "table"
           }
          ]
         },
         "layout": {
          "annotationdefaults": {
           "arrowcolor": "#2a3f5f",
           "arrowhead": 0,
           "arrowwidth": 1
          },
          "autotypenumbers": "strict",
          "coloraxis": {
           "colorbar": {
            "outlinewidth": 0,
            "ticks": ""
           }
          },
          "colorscale": {
           "diverging": [
            [
             0,
             "#8e0152"
            ],
            [
             0.1,
             "#c51b7d"
            ],
            [
             0.2,
             "#de77ae"
            ],
            [
             0.3,
             "#f1b6da"
            ],
            [
             0.4,
             "#fde0ef"
            ],
            [
             0.5,
             "#f7f7f7"
            ],
            [
             0.6,
             "#e6f5d0"
            ],
            [
             0.7,
             "#b8e186"
            ],
            [
             0.8,
             "#7fbc41"
            ],
            [
             0.9,
             "#4d9221"
            ],
            [
             1,
             "#276419"
            ]
           ],
           "sequential": [
            [
             0,
             "#0d0887"
            ],
            [
             0.1111111111111111,
             "#46039f"
            ],
            [
             0.2222222222222222,
             "#7201a8"
            ],
            [
             0.3333333333333333,
             "#9c179e"
            ],
            [
             0.4444444444444444,
             "#bd3786"
            ],
            [
             0.5555555555555556,
             "#d8576b"
            ],
            [
             0.6666666666666666,
             "#ed7953"
            ],
            [
             0.7777777777777778,
             "#fb9f3a"
            ],
            [
             0.8888888888888888,
             "#fdca26"
            ],
            [
             1,
             "#f0f921"
            ]
           ],
           "sequentialminus": [
            [
             0,
             "#0d0887"
            ],
            [
             0.1111111111111111,
             "#46039f"
            ],
            [
             0.2222222222222222,
             "#7201a8"
            ],
            [
             0.3333333333333333,
             "#9c179e"
            ],
            [
             0.4444444444444444,
             "#bd3786"
            ],
            [
             0.5555555555555556,
             "#d8576b"
            ],
            [
             0.6666666666666666,
             "#ed7953"
            ],
            [
             0.7777777777777778,
             "#fb9f3a"
            ],
            [
             0.8888888888888888,
             "#fdca26"
            ],
            [
             1,
             "#f0f921"
            ]
           ]
          },
          "colorway": [
           "#636efa",
           "#EF553B",
           "#00cc96",
           "#ab63fa",
           "#FFA15A",
           "#19d3f3",
           "#FF6692",
           "#B6E880",
           "#FF97FF",
           "#FECB52"
          ],
          "font": {
           "color": "#2a3f5f"
          },
          "geo": {
           "bgcolor": "white",
           "lakecolor": "white",
           "landcolor": "#E5ECF6",
           "showlakes": true,
           "showland": true,
           "subunitcolor": "white"
          },
          "hoverlabel": {
           "align": "left"
          },
          "hovermode": "closest",
          "mapbox": {
           "style": "light"
          },
          "paper_bgcolor": "white",
          "plot_bgcolor": "#E5ECF6",
          "polar": {
           "angularaxis": {
            "gridcolor": "white",
            "linecolor": "white",
            "ticks": ""
           },
           "bgcolor": "#E5ECF6",
           "radialaxis": {
            "gridcolor": "white",
            "linecolor": "white",
            "ticks": ""
           }
          },
          "scene": {
           "xaxis": {
            "backgroundcolor": "#E5ECF6",
            "gridcolor": "white",
            "gridwidth": 2,
            "linecolor": "white",
            "showbackground": true,
            "ticks": "",
            "zerolinecolor": "white"
           },
           "yaxis": {
            "backgroundcolor": "#E5ECF6",
            "gridcolor": "white",
            "gridwidth": 2,
            "linecolor": "white",
            "showbackground": true,
            "ticks": "",
            "zerolinecolor": "white"
           },
           "zaxis": {
            "backgroundcolor": "#E5ECF6",
            "gridcolor": "white",
            "gridwidth": 2,
            "linecolor": "white",
            "showbackground": true,
            "ticks": "",
            "zerolinecolor": "white"
           }
          },
          "shapedefaults": {
           "line": {
            "color": "#2a3f5f"
           }
          },
          "ternary": {
           "aaxis": {
            "gridcolor": "white",
            "linecolor": "white",
            "ticks": ""
           },
           "baxis": {
            "gridcolor": "white",
            "linecolor": "white",
            "ticks": ""
           },
           "bgcolor": "#E5ECF6",
           "caxis": {
            "gridcolor": "white",
            "linecolor": "white",
            "ticks": ""
           }
          },
          "title": {
           "x": 0.05
          },
          "xaxis": {
           "automargin": true,
           "gridcolor": "white",
           "linecolor": "white",
           "ticks": "",
           "title": {
            "standoff": 15
           },
           "zerolinecolor": "white",
           "zerolinewidth": 2
          },
          "yaxis": {
           "automargin": true,
           "gridcolor": "white",
           "linecolor": "white",
           "ticks": "",
           "title": {
            "standoff": 15
           },
           "zerolinecolor": "white",
           "zerolinewidth": 2
          }
         }
        }
       }
      }
     },
     "metadata": {},
     "output_type": "display_data"
    },
    {
     "data": {
      "text/plain": [
       "(None, None)"
      ]
     },
     "execution_count": 8,
     "metadata": {},
     "output_type": "execute_result"
    },
    {
     "data": {
      "text/plain": [
       "<Figure size 360x360 with 0 Axes>"
      ]
     },
     "metadata": {},
     "output_type": "display_data"
    }
   ],
   "source": [
    "# Target process matrix (important for calculating fidelity)\n",
    "Ut = U3Gate(theta=pi, phi=0, lam=0).to_matrix()\n",
    "\n",
    "# running quantum circuits \n",
    "# --Input--\n",
    "# res_theta: resolution of polar angles for sampling between [0,pi] for tomography\n",
    "# circuits: circuits for performing Wigner state tomography for single-qubit\n",
    "# device: provide a simulator or a quantum device\n",
    "# shots: number of shots\n",
    "# inter: interactivity of tomographed droplets. \n",
    "    # If inter=0: provides a matplotlib plot with fixed point of view. \n",
    "    # If inter=1: provides a plotly plot with three-dimensional interactive droplets. (Chose me!!)\n",
    "# Ut: target process matrix\n",
    "\n",
    "# --Output--\n",
    "# tomographed process fidelity\n",
    "# tomographed process matrix\n",
    "# plot of expectation values (required for constructing droplets)\n",
    "# droplet plots: f_{0}: droplet corresponds to identity term of the process matrix. \n",
    "    # f_{1}: droplet representing the corresponding Pauli component in the process matrix. \n",
    "    # The direction of the qubit reflects the direction of the Bloch vector and color represents the phase given by arg[dropelt function].\n",
    "    # color description: red- positive, green- negative, yellow-positive imaginary, blue-negative imaginary\n",
    "WQPT1Q.WQPT_1Q_runner(res_theta, circuits=circ_u, device=simulator, shots=1024, inter=1, Ut=Ut)"
   ]
  }
 ],
 "metadata": {
  "kernelspec": {
   "display_name": "base",
   "language": "python",
   "name": "python3"
  },
  "language_info": {
   "codemirror_mode": {
    "name": "ipython",
    "version": 3
   },
   "file_extension": ".py",
   "mimetype": "text/x-python",
   "name": "python",
   "nbconvert_exporter": "python",
   "pygments_lexer": "ipython3",
   "version": "3.9.7"
  },
  "orig_nbformat": 4,
  "vscode": {
   "interpreter": {
    "hash": "e0e8feff63ce8d1a867429cf8efe914fc8cd1b30dcff3e86b0107311e76732f2"
   }
  }
 },
 "nbformat": 4,
 "nbformat_minor": 2
}
