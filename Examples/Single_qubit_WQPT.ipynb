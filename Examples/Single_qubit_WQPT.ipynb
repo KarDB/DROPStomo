{
 "cells": [
  {
   "cell_type": "code",
   "execution_count": 1,
   "metadata": {},
   "outputs": [],
   "source": [
    "from DROPStomo import WQST1Q\n",
    "from DROPStomo import WQST2Q\n",
    "from DROPStomo import WQPT1Q\n",
    "\n",
    "from turtle import circle\n",
    "from IPython.display import display\n",
    "import matplotlib.pyplot as plt\n",
    "import numpy as np\n",
    "import pandas as pd\n",
    "from random import randint\n",
    "import time\n",
    "from fractions import Fraction\n",
    "from math import gcd\n",
    "from numpy import pi\n",
    "from qiskit import IBMQ\n",
    "\n",
    "from qiskit import QuantumCircuit, Aer, execute\n",
    "from qiskit.visualization import plot_histogram, plot_bloch_multivector, plot_state_qsphere, visualize_transition, plot_bloch_vector\n",
    "from qiskit.circuit.library import *\n",
    "from qiskit import (QuantumRegister, ClassicalRegister, QuantumCircuit,\n",
    "    execute, Aer, compiler)\n",
    "from qiskit.tools.monitor import job_monitor\n",
    "from qiskit.tools import job_monitor, backend_monitor, backend_overview\n",
    "from qiskit.quantum_info import Statevector\n",
    "from qiskit.visualization import exceptions\n",
    "from qiskit.visualization import latex as _latex\n",
    "from qiskit.visualization import text as _text\n",
    "from qiskit.visualization import utils\n",
    "from qiskit.visualization import matplotlib as _matplotlib\n",
    "import matplotlib as mpl\n",
    "\n",
    "from qiskit import QuantumCircuit\n",
    "from qiskit import Aer, transpile\n",
    "from qiskit.tools.visualization import plot_histogram, plot_state_city\n",
    "import qiskit.quantum_info as qi"
   ]
  },
  {
   "cell_type": "code",
   "execution_count": 2,
   "metadata": {},
   "outputs": [],
   "source": [
    "# Provide the simulator and the actual quantum device (qudevice5) name. For example ibmq_armonk is our system here which is a single qubit quantum processor. \n",
    "simulator = Aer.get_backend('qasm_simulator')"
   ]
  },
  {
   "cell_type": "code",
   "execution_count": 3,
   "metadata": {},
   "outputs": [
    {
     "data": {
      "text/html": [
       "<pre style=\"word-wrap: normal;white-space: pre;background: #fff0;line-height: 1.1;font-family: &quot;Courier New&quot;,Courier,monospace\">        ┌───┐ ░               ░               ░ ┌──────────────┐ ░ ┌─┐   \n",
       "   q_0: ┤ H ├─░───────■───────░───────────────░─┤ U3(-π/2,0,0) ├─░─┤M├───\n",
       "        └───┘ ░ ┌─────┴─────┐ ░ ┌───────────┐ ░ └──────────────┘ ░ └╥┘┌─┐\n",
       "   q_1: ──────░─┤ U3(π,0,0) ├─░─┤ U3(0,0,0) ├─░──────────────────░──╫─┤M├\n",
       "              ░ └───────────┘ ░ └───────────┘ ░                  ░  ║ └╥┘\n",
       "meas: 2/════════════════════════════════════════════════════════════╩══╩═\n",
       "                                                                    0  1 </pre>"
      ],
      "text/plain": [
       "        ┌───┐ ░               ░               ░ ┌──────────────┐ ░ ┌─┐   \n",
       "   q_0: ┤ H ├─░───────■───────░───────────────░─┤ U3(-π/2,0,0) ├─░─┤M├───\n",
       "        └───┘ ░ ┌─────┴─────┐ ░ ┌───────────┐ ░ └──────────────┘ ░ └╥┘┌─┐\n",
       "   q_1: ──────░─┤ U3(π,0,0) ├─░─┤ U3(0,0,0) ├─░──────────────────░──╫─┤M├\n",
       "              ░ └───────────┘ ░ └───────────┘ ░                  ░  ║ └╥┘\n",
       "meas: 2/════════════════════════════════════════════════════════════╩══╩═\n",
       "                                                                    0  1 "
      ]
     },
     "metadata": {},
     "output_type": "display_data"
    },
    {
     "data": {
      "text/html": [
       "<pre style=\"word-wrap: normal;white-space: pre;background: #fff0;line-height: 1.1;font-family: &quot;Courier New&quot;,Courier,monospace\">        ┌───┐ ░               ░               ░ ┌──────────────┐ ░ ┌─┐   \n",
       "   q_0: ┤ H ├─░───────■───────░───────────────░─┤ U3(-π/2,0,0) ├─░─┤M├───\n",
       "        ├───┤ ░ ┌─────┴─────┐ ░ ┌───────────┐ ░ └──────────────┘ ░ └╥┘┌─┐\n",
       "   q_1: ┤ X ├─░─┤ U3(π,0,0) ├─░─┤ U3(0,0,0) ├─░──────────────────░──╫─┤M├\n",
       "        └───┘ ░ └───────────┘ ░ └───────────┘ ░                  ░  ║ └╥┘\n",
       "meas: 2/════════════════════════════════════════════════════════════╩══╩═\n",
       "                                                                    0  1 </pre>"
      ],
      "text/plain": [
       "        ┌───┐ ░               ░               ░ ┌──────────────┐ ░ ┌─┐   \n",
       "   q_0: ┤ H ├─░───────■───────░───────────────░─┤ U3(-π/2,0,0) ├─░─┤M├───\n",
       "        ├───┤ ░ ┌─────┴─────┐ ░ ┌───────────┐ ░ └──────────────┘ ░ └╥┘┌─┐\n",
       "   q_1: ┤ X ├─░─┤ U3(π,0,0) ├─░─┤ U3(0,0,0) ├─░──────────────────░──╫─┤M├\n",
       "        └───┘ ░ └───────────┘ ░ └───────────┘ ░                  ░  ║ └╥┘\n",
       "meas: 2/════════════════════════════════════════════════════════════╩══╩═\n",
       "                                                                    0  1 "
      ]
     },
     "metadata": {},
     "output_type": "display_data"
    },
    {
     "data": {
      "text/html": [
       "<pre style=\"word-wrap: normal;white-space: pre;background: #fff0;line-height: 1.1;font-family: &quot;Courier New&quot;,Courier,monospace\">        ┌───┐ ░               ░               ░ ┌───────────────┐ ░ ┌─┐   \n",
       "   q_0: ┤ H ├─░───────■───────░───────────────░─┤ U3(π/2,0,π/2) ├─░─┤M├───\n",
       "        └───┘ ░ ┌─────┴─────┐ ░ ┌───────────┐ ░ └───────────────┘ ░ └╥┘┌─┐\n",
       "   q_1: ──────░─┤ U3(π,0,0) ├─░─┤ U3(0,0,0) ├─░───────────────────░──╫─┤M├\n",
       "              ░ └───────────┘ ░ └───────────┘ ░                   ░  ║ └╥┘\n",
       "meas: 2/═════════════════════════════════════════════════════════════╩══╩═\n",
       "                                                                     0  1 </pre>"
      ],
      "text/plain": [
       "        ┌───┐ ░               ░               ░ ┌───────────────┐ ░ ┌─┐   \n",
       "   q_0: ┤ H ├─░───────■───────░───────────────░─┤ U3(π/2,0,π/2) ├─░─┤M├───\n",
       "        └───┘ ░ ┌─────┴─────┐ ░ ┌───────────┐ ░ └───────────────┘ ░ └╥┘┌─┐\n",
       "   q_1: ──────░─┤ U3(π,0,0) ├─░─┤ U3(0,0,0) ├─░───────────────────░──╫─┤M├\n",
       "              ░ └───────────┘ ░ └───────────┘ ░                   ░  ║ └╥┘\n",
       "meas: 2/═════════════════════════════════════════════════════════════╩══╩═\n",
       "                                                                     0  1 "
      ]
     },
     "metadata": {},
     "output_type": "display_data"
    },
    {
     "data": {
      "text/html": [
       "<pre style=\"word-wrap: normal;white-space: pre;background: #fff0;line-height: 1.1;font-family: &quot;Courier New&quot;,Courier,monospace\">        ┌───┐ ░               ░               ░ ┌───────────────┐ ░ ┌─┐   \n",
       "   q_0: ┤ H ├─░───────■───────░───────────────░─┤ U3(π/2,0,π/2) ├─░─┤M├───\n",
       "        ├───┤ ░ ┌─────┴─────┐ ░ ┌───────────┐ ░ └───────────────┘ ░ └╥┘┌─┐\n",
       "   q_1: ┤ X ├─░─┤ U3(π,0,0) ├─░─┤ U3(0,0,0) ├─░───────────────────░──╫─┤M├\n",
       "        └───┘ ░ └───────────┘ ░ └───────────┘ ░                   ░  ║ └╥┘\n",
       "meas: 2/═════════════════════════════════════════════════════════════╩══╩═\n",
       "                                                                     0  1 </pre>"
      ],
      "text/plain": [
       "        ┌───┐ ░               ░               ░ ┌───────────────┐ ░ ┌─┐   \n",
       "   q_0: ┤ H ├─░───────■───────░───────────────░─┤ U3(π/2,0,π/2) ├─░─┤M├───\n",
       "        ├───┤ ░ ┌─────┴─────┐ ░ ┌───────────┐ ░ └───────────────┘ ░ └╥┘┌─┐\n",
       "   q_1: ┤ X ├─░─┤ U3(π,0,0) ├─░─┤ U3(0,0,0) ├─░───────────────────░──╫─┤M├\n",
       "        └───┘ ░ └───────────┘ ░ └───────────┘ ░                   ░  ║ └╥┘\n",
       "meas: 2/═════════════════════════════════════════════════════════════╩══╩═\n",
       "                                                                     0  1 "
      ]
     },
     "metadata": {},
     "output_type": "display_data"
    },
    {
     "name": "stdout",
     "output_type": "stream",
     "text": [
      "Total number of ciruits for WQPT for single qubit are:480\n"
     ]
    }
   ],
   "source": [
    "# gate to tomograph\n",
    "Up = U3Gate(theta=pi, phi=0, lam=0) \n",
    "# resolution for scanning (only polar angles)\n",
    "res_theta = 8\n",
    "circ_u = WQPT1Q.WQPT_1Q_circuits(res_theta,Up)"
   ]
  },
  {
   "cell_type": "code",
   "execution_count": 4,
   "metadata": {},
   "outputs": [
    {
     "name": "stdout",
     "output_type": "stream",
     "text": [
      "Job 0 of 2\n",
      "Job Status: job has successfully run\n"
     ]
    },
    {
     "data": {
      "text/plain": [
       "None"
      ]
     },
     "metadata": {},
     "output_type": "display_data"
    },
    {
     "name": "stdout",
     "output_type": "stream",
     "text": [
      "Job 1 of 2\n",
      "Job Status: job has successfully run\n"
     ]
    },
    {
     "data": {
      "text/plain": [
       "None"
      ]
     },
     "metadata": {},
     "output_type": "display_data"
    },
    {
     "name": "stdout",
     "output_type": "stream",
     "text": [
      "Process matrix is: [[-0.00546439-0.0099424j  -0.99675995+0.00428322j]\n",
      " [ 0.99107909+0.00020603j -0.00200922-0.00138056j]]\n",
      "Process fidelity is: 0.9939216131120858\n"
     ]
    },
    {
     "data": {
      "image/png": "[encoded data removed]",
      "text/plain": [
       "<Figure size 432x288 with 4 Axes>"
      ]
     },
     "metadata": {
      "needs_background": "light"
     },
     "output_type": "display_data"
    },
    {
     "data": {
      "application/vnd.plotly.v1+json": {
       "config": {
        "plotlyServerURL": "https://plot.ly"
       },
       "data": [
        {
         "cmax": 6.283185307179586,
         "cmid": 3.141592653589793,
         "cmin": 0,
         "colorscale": [
          [
           0,
           "rgb(255, 0, 0)"
          ],
          [
           0.003937007874015748,
           "rgb(255, 12, 0)"
          ],
          [
           0.007874015748031496,
           "rgb(255, 19, 0)"
          ],
          [
           0.011811023622047244,
           "rgb(255, 26, 0)"
          ],
          [
           0.015748031496062992,
           "rgb(255, 32, 0)"
          ],
          [
           0.01968503937007874,
           "rgb(255, 38, 0)"
          ],
          [
           0.023622047244094488,
           "rgb(255, 43, 0)"
          ],
          [
           0.027559055118110236,
           "rgb(255, 49, 0)"
          ],
          [
           0.031496062992125984,
           "rgb(255, 54, 0)"
          ],
          [
           0.03543307086614173,
           "rgb(255, 59, 0)"
          ],
          [
           0.03937007874015748,
           "rgb(255, 64, 0)"
          ],
          [
           0.04330708661417323,
           "rgb(255, 68, 0)"
          ],
          [
           0.047244094488188976,
           "rgb(255, 73, 0)"
          ],
          [
           0.051181102362204724,
           "rgb(255, 78, 0)"
          ],
          [
           0.05511811023622047,
           "rgb(255, 82, 0)"
          ],
          [
           0.05905511811023622,
           "rgb(255, 87, 0)"
          ],
          [
           0.06299212598425197,
           "rgb(255, 92, 0)"
          ],
          [
           0.06692913385826772,
           "rgb(255, 96, 0)"
          ],
          [
           0.07086614173228346,
           "rgb(255, 100, 0)"
          ],
          [
           0.07480314960629922,
           "rgb(255, 105, 0)"
          ],
          [
           0.07874015748031496,
           "rgb(255, 109, 0)"
          ],
          [
           0.08267716535433071,
           "rgb(255, 113, 0)"
          ],
          [
           0.08661417322834646,
           "rgb(255, 118, 0)"
          ],
          [
           0.09055118110236221,
           "rgb(255, 122, 0)"
          ],
          [
           0.09448818897637795,
           "rgb(255, 126, 0)"
          ],
          [
           0.0984251968503937,
           "rgb(255, 130, 0)"
          ],
          [
           0.10236220472440945,
           "rgb(255, 134, 0)"
          ],
          [
           0.1062992125984252,
           "rgb(255, 138, 0)"
          ],
          [
           0.11023622047244094,
           "rgb(255, 142, 0)"
          ],
          [
           0.1141732283464567,
           "rgb(255, 146, 0)"
          ],
          [
           0.11811023622047244,
           "rgb(255, 150, 0)"
          ],
          [
           0.1220472440944882,
           "rgb(255, 154, 0)"
          ],
          [
           0.12598425196850394,
           "rgb(255, 158, 0)"
          ],
          [
           0.12992125984251968,
           "rgb(255, 162, 0)"
          ],
          [
           0.13385826771653545,
           "rgb(255, 166, 0)"
          ],
          [
           0.1377952755905512,
           "rgb(255, 169, 0)"
          ],
          [
           0.14173228346456693,
           "rgb(255, 173, 0)"
          ],
          [
           0.14566929133858267,
           "rgb(255, 177, 0)"
          ],
          [
           0.14960629921259844,
           "rgb(255, 180, 0)"
          ],
          [
           0.15354330708661418,
           "rgb(255, 184, 0)"
          ],
          [
           0.15748031496062992,
           "rgb(255, 187, 0)"
          ],
          [
           0.16141732283464566,
           "rgb(255, 191, 0)"
          ],
          [
           0.16535433070866143,
           "rgb(255, 194, 0)"
          ],
          [
           0.16929133858267717,
           "rgb(255, 198, 0)"
          ],
          [
           0.1732283464566929,
           "rgb(255, 201, 0)"
          ],
          [
           0.17716535433070865,
           "rgb(255, 204, 0)"
          ],
          [
           0.18110236220472442,
           "rgb(255, 207, 0)"
          ],
          [
           0.18503937007874016,
           "rgb(255, 211, 0)"
          ],
          [
           0.1889763779527559,
           "rgb(255, 214, 0)"
          ],
          [
           0.19291338582677164,
           "rgb(255, 217, 0)"
          ],
          [
           0.1968503937007874,
           "rgb(255, 220, 0)"
          ],
          [
           0.20078740157480315,
           "rgb(255, 223, 0)"
          ],
          [
           0.2047244094488189,
           "rgb(255, 226, 0)"
          ],
          [
           0.20866141732283464,
           "rgb(255, 228, 0)"
          ],
          [
           0.2125984251968504,
           "rgb(255, 231, 0)"
          ],
          [
           0.21653543307086615,
           "rgb(255, 234, 0)"
          ],
          [
           0.2204724409448819,
           "rgb(255, 237, 0)"
          ],
          [
           0.22440944881889763,
           "rgb(255, 239, 0)"
          ],
          [
           0.2283464566929134,
           "rgb(255, 242, 0)"
          ],
          [
           0.23228346456692914,
           "rgb(255, 244, 0)"
          ],
          [
           0.23622047244094488,
           "rgb(255, 247, 0)"
          ],
          [
           0.24015748031496062,
           "rgb(255, 249, 0)"
          ],
          [
           0.2440944881889764,
           "rgb(255, 252, 0)"
          ],
          [
           0.24803149606299213,
           "rgb(255, 254, 0)"
          ],
          [
           0.25196850393700787,
           "rgb(254, 255, 0)"
          ],
          [
           0.2559055118110236,
           "rgb(252, 255, 0)"
          ],
          [
           0.25984251968503935,
           "rgb(249, 255, 0)"
          ],
          [
           0.2637795275590551,
           "rgb(247, 255, 0)"
          ],
          [
           0.2677165354330709,
           "rgb(244, 255, 0)"
          ],
          [
           0.27165354330708663,
           "rgb(242, 255, 0)"
          ],
          [
           0.2755905511811024,
           "rgb(239, 255, 0)"
          ],
          [
           0.2795275590551181,
           "rgb(237, 255, 0)"
          ],
          [
           0.28346456692913385,
           "rgb(234, 255, 0)"
          ],
          [
           0.2874015748031496,
           "rgb(231, 255, 0)"
          ],
          [
           0.29133858267716534,
           "rgb(228, 255, 0)"
          ],
          [
           0.2952755905511811,
           "rgb(226, 255, 0)"
          ],
          [
           0.2992125984251969,
           "rgb(223, 255, 0)"
          ],
          [
           0.3031496062992126,
           "rgb(220, 255, 0)"
          ],
          [
           0.30708661417322836,
           "rgb(217, 255, 0)"
          ],
          [
           0.3110236220472441,
           "rgb(214, 255, 0)"
          ],
          [
           0.31496062992125984,
           "rgb(211, 255, 0)"
          ],
          [
           0.3188976377952756,
           "rgb(207, 255, 0)"
          ],
          [
           0.3228346456692913,
           "rgb(204, 255, 0)"
          ],
          [
           0.32677165354330706,
           "rgb(201, 255, 0)"
          ],
          [
           0.33070866141732286,
           "rgb(198, 255, 0)"
          ],
          [
           0.3346456692913386,
           "rgb(194, 255, 0)"
          ],
          [
           0.33858267716535434,
           "rgb(191, 255, 0)"
          ],
          [
           0.3425196850393701,
           "rgb(187, 255, 0)"
          ],
          [
           0.3464566929133858,
           "rgb(184, 255, 0)"
          ],
          [
           0.35039370078740156,
           "rgb(180, 255, 0)"
          ],
          [
           0.3543307086614173,
           "rgb(177, 255, 0)"
          ],
          [
           0.35826771653543305,
           "rgb(173, 255, 0)"
          ],
          [
           0.36220472440944884,
           "rgb(169, 255, 0)"
          ],
          [
           0.3661417322834646,
           "rgb(166, 255, 0)"
          ],
          [
           0.3700787401574803,
           "rgb(162, 255, 0)"
          ],
          [
           0.37401574803149606,
           "rgb(158, 255, 0)"
          ],
          [
           0.3779527559055118,
           "rgb(154, 255, 0)"
          ],
          [
           0.38188976377952755,
           "rgb(150, 255, 0)"
          ],
          [
           0.3858267716535433,
           "rgb(146, 255, 0)"
          ],
          [
           0.38976377952755903,
           "rgb(142, 255, 0)"
          ],
          [
           0.3937007874015748,
           "rgb(138, 255, 0)"
          ],
          [
           0.39763779527559057,
           "rgb(134, 255, 0)"
          ],
          [
           0.4015748031496063,
           "rgb(130, 255, 0)"
          ],
          [
           0.40551181102362205,
           "rgb(126, 255, 0)"
          ],
          [
           0.4094488188976378,
           "rgb(122, 255, 0)"
          ],
          [
           0.41338582677165353,
           "rgb(118, 255, 0)"
          ],
          [
           0.41732283464566927,
           "rgb(113, 255, 0)"
          ],
          [
           0.421259842519685,
           "rgb(109, 255, 0)"
          ],
          [
           0.4251968503937008,
           "rgb(105, 255, 0)"
          ],
          [
           0.42913385826771655,
           "rgb(100, 255, 0)"
          ],
          [
           0.4330708661417323,
           "rgb(96, 255, 0)"
          ],
          [
           0.43700787401574803,
           "rgb(92, 255, 0)"
          ],
          [
           0.4409448818897638,
           "rgb(87, 255, 0)"
          ],
          [
           0.4448818897637795,
           "rgb(82, 255, 0)"
          ],
          [
           0.44881889763779526,
           "rgb(78, 255, 0)"
          ],
          [
           0.452755905511811,
           "rgb(73, 255, 0)"
          ],
          [
           0.4566929133858268,
           "rgb(68, 255, 0)"
          ],
          [
           0.46062992125984253,
           "rgb(64, 255, 0)"
          ],
          [
           0.4645669291338583,
           "rgb(59, 255, 0)"
          ],
          [
           0.468503937007874,
           "rgb(54, 255, 0)"
          ],
          [
           0.47244094488188976,
           "rgb(49, 255, 0)"
          ],
          [
           0.4763779527559055,
           "rgb(43, 255, 0)"
          ],
          [
           0.48031496062992124,
           "rgb(38, 255, 0)"
          ],
          [
           0.484251968503937,
           "rgb(32, 255, 0)"
          ],
          [
           0.4881889763779528,
           "rgb(26, 255, 0)"
          ],
          [
           0.4921259842519685,
           "rgb(19, 255, 0)"
          ],
          [
           0.49606299212598426,
           "rgb(12, 255, 0)"
          ],
          [
           0.5,
           "rgb(1, 255, 0)"
          ],
          [
           0.5039370078740157,
           "rgb(0, 253, 8)"
          ],
          [
           0.5078740157480315,
           "rgb(0, 250, 15)"
          ],
          [
           0.5118110236220472,
           "rgb(0, 248, 21)"
          ],
          [
           0.515748031496063,
           "rgb(0, 246, 27)"
          ],
          [
           0.5196850393700787,
           "rgb(0, 243, 33)"
          ],
          [
           0.5236220472440944,
           "rgb(0, 241, 40)"
          ],
          [
           0.5275590551181102,
           "rgb(0, 238, 46)"
          ],
          [
           0.531496062992126,
           "rgb(0, 235, 53)"
          ],
          [
           0.5354330708661418,
           "rgb(0, 233, 60)"
          ],
          [
           0.5393700787401575,
           "rgb(0, 230, 67)"
          ],
          [
           0.5433070866141733,
           "rgb(0, 227, 74)"
          ],
          [
           0.547244094488189,
           "rgb(0, 224, 81)"
          ],
          [
           0.5511811023622047,
           "rgb(0, 221, 89)"
          ],
          [
           0.5551181102362205,
           "rgb(0, 218, 96)"
          ],
          [
           0.5590551181102362,
           "rgb(0, 215, 103)"
          ],
          [
           0.562992125984252,
           "rgb(0, 212, 111)"
          ],
          [
           0.5669291338582677,
           "rgb(0, 209, 118)"
          ],
          [
           0.5708661417322834,
           "rgb(0, 206, 126)"
          ],
          [
           0.5748031496062992,
           "rgb(0, 202, 133)"
          ],
          [
           0.5787401574803149,
           "rgb(0, 199, 140)"
          ],
          [
           0.5826771653543307,
           "rgb(0, 196, 148)"
          ],
          [
           0.5866141732283464,
           "rgb(0, 192, 155)"
          ],
          [
           0.5905511811023622,
           "rgb(0, 189, 163)"
          ],
          [
           0.594488188976378,
           "rgb(0, 186, 170)"
          ],
          [
           0.5984251968503937,
           "rgb(0, 182, 174)"
          ],
          [
           0.6023622047244095,
           "rgb(0, 178, 178)"
          ],
          [
           0.6062992125984252,
           "rgb(0, 175, 182)"
          ],
          [
           0.610236220472441,
           "rgb(0, 171, 186)"
          ],
          [
           0.6141732283464567,
           "rgb(0, 167, 190)"
          ],
          [
           0.6181102362204725,
           "rgb(0, 164, 194)"
          ],
          [
           0.6220472440944882,
           "rgb(0, 160, 197)"
          ],
          [
           0.6259842519685039,
           "rgb(0, 156, 201)"
          ],
          [
           0.6299212598425197,
           "rgb(0, 152, 204)"
          ],
          [
           0.6338582677165354,
           "rgb(0, 148, 208)"
          ],
          [
           0.6377952755905512,
           "rgb(0, 144, 211)"
          ],
          [
           0.6417322834645669,
           "rgb(0, 140, 214)"
          ],
          [
           0.6456692913385826,
           "rgb(0, 136, 217)"
          ],
          [
           0.6496062992125984,
           "rgb(0, 132, 220)"
          ],
          [
           0.6535433070866141,
           "rgb(0, 128, 222)"
          ],
          [
           0.65748031496063,
           "rgb(0, 124, 225)"
          ],
          [
           0.6614173228346457,
           "rgb(0, 120, 227)"
          ],
          [
           0.6653543307086615,
           "rgb(0, 116, 230)"
          ],
          [
           0.6692913385826772,
           "rgb(0, 111, 232)"
          ],
          [
           0.6732283464566929,
           "rgb(0, 107, 234)"
          ],
          [
           0.6771653543307087,
           "rgb(0, 103, 236)"
          ],
          [
           0.6811023622047244,
           "rgb(0, 98, 238)"
          ],
          [
           0.6850393700787402,
           "rgb(0, 94, 240)"
          ],
          [
           0.6889763779527559,
           "rgb(0, 89, 242)"
          ],
          [
           0.6929133858267716,
           "rgb(0, 85, 244)"
          ],
          [
           0.6968503937007874,
           "rgb(0, 80, 245)"
          ],
          [
           0.7007874015748031,
           "rgb(0, 76, 246)"
          ],
          [
           0.7047244094488189,
           "rgb(0, 71, 248)"
          ],
          [
           0.7086614173228346,
           "rgb(0, 66, 249)"
          ],
          [
           0.7125984251968503,
           "rgb(0, 61, 250)"
          ],
          [
           0.7165354330708661,
           "rgb(0, 56, 251)"
          ],
          [
           0.7204724409448819,
           "rgb(0, 51, 252)"
          ],
          [
           0.7244094488188977,
           "rgb(0, 46, 253)"
          ],
          [
           0.7283464566929134,
           "rgb(0, 41, 253)"
          ],
          [
           0.7322834645669292,
           "rgb(0, 35, 254)"
          ],
          [
           0.7362204724409449,
           "rgb(0, 29, 254)"
          ],
          [
           0.7401574803149606,
           "rgb(0, 23, 255)"
          ],
          [
           0.7440944881889764,
           "rgb(0, 16, 255)"
          ],
          [
           0.7480314960629921,
           "rgb(0, 7, 255)"
          ],
          [
           0.7519685039370079,
           "rgb(7, 0, 255)"
          ],
          [
           0.7559055118110236,
           "rgb(16, 0, 255)"
          ],
          [
           0.7598425196850394,
           "rgb(23, 0, 255)"
          ],
          [
           0.7637795275590551,
           "rgb(29, 0, 254)"
          ],
          [
           0.7677165354330708,
           "rgb(35, 0, 254)"
          ],
          [
           0.7716535433070866,
           "rgb(41, 0, 253)"
          ],
          [
           0.7755905511811023,
           "rgb(46, 0, 253)"
          ],
          [
           0.7795275590551181,
           "rgb(51, 0, 252)"
          ],
          [
           0.7834645669291339,
           "rgb(56, 0, 251)"
          ],
          [
           0.7874015748031497,
           "rgb(61, 0, 250)"
          ],
          [
           0.7913385826771654,
           "rgb(66, 0, 249)"
          ],
          [
           0.7952755905511811,
           "rgb(71, 0, 248)"
          ],
          [
           0.7992125984251969,
           "rgb(76, 0, 246)"
          ],
          [
           0.8031496062992126,
           "rgb(80, 0, 245)"
          ],
          [
           0.8070866141732284,
           "rgb(85, 0, 244)"
          ],
          [
           0.8110236220472441,
           "rgb(89, 0, 242)"
          ],
          [
           0.8149606299212598,
           "rgb(94, 0, 240)"
          ],
          [
           0.8188976377952756,
           "rgb(98, 0, 238)"
          ],
          [
           0.8228346456692913,
           "rgb(103, 0, 236)"
          ],
          [
           0.8267716535433071,
           "rgb(107, 0, 234)"
          ],
          [
           0.8307086614173228,
           "rgb(111, 0, 232)"
          ],
          [
           0.8346456692913385,
           "rgb(116, 0, 230)"
          ],
          [
           0.8385826771653543,
           "rgb(120, 0, 227)"
          ],
          [
           0.84251968503937,
           "rgb(124, 0, 225)"
          ],
          [
           0.8464566929133859,
           "rgb(128, 0, 219)"
          ],
          [
           0.8503937007874016,
           "rgb(132, 0, 213)"
          ],
          [
           0.8543307086614174,
           "rgb(136, 0, 206)"
          ],
          [
           0.8582677165354331,
           "rgb(140, 0, 199)"
          ],
          [
           0.8622047244094488,
           "rgb(144, 0, 192)"
          ],
          [
           0.8661417322834646,
           "rgb(148, 0, 185)"
          ],
          [
           0.8700787401574803,
           "rgb(152, 0, 178)"
          ],
          [
           0.8740157480314961,
           "rgb(156, 0, 171)"
          ],
          [
           0.8779527559055118,
           "rgb(160, 0, 163)"
          ],
          [
           0.8818897637795275,
           "rgb(164, 0, 156)"
          ],
          [
           0.8858267716535433,
           "rgb(167, 0, 148)"
          ],
          [
           0.889763779527559,
           "rgb(171, 0, 141)"
          ],
          [
           0.8937007874015748,
           "rgb(175, 0, 134)"
          ],
          [
           0.8976377952755905,
           "rgb(178, 0, 126)"
          ],
          [
           0.9015748031496063,
           "rgb(182, 0, 119)"
          ],
          [
           0.905511811023622,
           "rgb(186, 0, 111)"
          ],
          [
           0.9094488188976378,
           "rgb(189, 0, 104)"
          ],
          [
           0.9133858267716536,
           "rgb(192, 0, 96)"
          ],
          [
           0.9173228346456693,
           "rgb(196, 0, 89)"
          ],
          [
           0.9212598425196851,
           "rgb(199, 0, 82)"
          ],
          [
           0.9251968503937008,
           "rgb(202, 0, 75)"
          ],
          [
           0.9291338582677166,
           "rgb(206, 0, 67)"
          ],
          [
           0.9330708661417323,
           "rgb(209, 0, 60)"
          ],
          [
           0.937007874015748,
           "rgb(212, 0, 54)"
          ],
          [
           0.9409448818897638,
           "rgb(215, 0, 47)"
          ],
          [
           0.9448818897637795,
           "rgb(218, 0, 40)"
          ],
          [
           0.9488188976377953,
           "rgb(221, 0, 34)"
          ],
          [
           0.952755905511811,
           "rgb(224, 0, 27)"
          ],
          [
           0.9566929133858267,
           "rgb(227, 0, 21)"
          ],
          [
           0.9606299212598425,
           "rgb(230, 0, 15)"
          ],
          [
           0.9645669291338582,
           "rgb(233, 0, 9)"
          ],
          [
           0.968503937007874,
           "rgb(235, 0, 1)"
          ],
          [
           0.9724409448818898,
           "rgb(238, 0, 0)"
          ],
          [
           0.9763779527559056,
           "rgb(241, 0, 0)"
          ],
          [
           0.9803149606299213,
           "rgb(243, 0, 0)"
          ],
          [
           0.984251968503937,
           "rgb(246, 0, 0)"
          ],
          [
           0.9881889763779528,
           "rgb(248, 0, 0)"
          ],
          [
           0.9921259842519685,
           "rgb(250, 0, 0)"
          ],
          [
           0.9960629921259843,
           "rgb(253, 0, 0)"
          ],
          [
           1,
           "rgb(255, 0, 0)"
          ]
         ],
         "opacity": 1,
         "scene": "scene",
         "surfacecolor": [
          [
           3.1031500635686053,
           -0.8831250707561671,
           0.5404195002705842,
           0.14481249823893905,
           -1.6030432092301505,
           0.18534794999569476,
           2.1498705961626277,
           -0.9922721123771914,
           1.0121970114513341,
           1.5707963267948966,
           2.356194490192345,
           2.0344439357957027,
           2.729182211992406,
           -1.4711276743037345,
           1.4876550949064553
          ],
          [
           -1.7126933813990606,
           2.041200589731488,
           -2.356194490192345,
           3.111298893671018,
           2.6271413405307653,
           -1.5707963267948966,
           0.5880026035475675,
           1.380808038876181,
           2.63286282927424,
           2.4370985893475754,
           -2.459276098715045,
           0,
           2.8632929945846817,
           -2.5444159954971157,
           -1.1071487177940904
          ],
          [
           0.3120421215625333,
           2.0899424410414196,
           0,
           -1.042721878368537,
           2.0106389096106327,
           -2.7928216500058864,
           -2.6992184306130484,
           -2.251317551462111,
           2.1833338834052,
           -1.8086322542523474,
           -0.49934672168013006,
           1.8244704229335393,
           2.63742669211064,
           -1.2490457723982544,
           -1.423717971406494
          ],
          [
           -0.982793723247329,
           -1.9138202672156,
           2.996780155350854,
           3.0916342578678506,
           0.24497866312686414,
           0.8023456932038533,
           0.982793723247329,
           1.1501329776618616,
           -2.0736395377227574,
           -2.356194490192345,
           1.6078164426688266,
           -1.923786714621807,
           -1.1839206090638685,
           -2.523836928023561,
           -1.0014831356942346
          ],
          [
           2.704965493776252,
           2.677945044588987,
           2.819842099193151,
           0.7853981633974483,
           -1.5707963267948966,
           1.6614562139956417,
           0.9944211062037129,
           -1.6631256615264955,
           1.695151321341658,
           0.9994588469612699,
           -2.223642957895671,
           -2.4668517113662407,
           -2.498091544796509,
           0.9097531579442097,
           2.6260436461308143
          ],
          [
           1.8157749899217608,
           0.4844779290370232,
           1.042721878368537,
           -3.0890095919788516,
           -1.373400766945016,
           -2.782821983319221,
           1.373400766945016,
           -1.7561442767905915,
           -0.6086893073274117,
           -0.04164257909858842,
           -1.8329161680603694,
           1.446441332248135,
           2.1451011569695986,
           -1.5707963267948966,
           1.477319545636307
          ],
          [
           -1.198728567936776,
           -2.7314653130483024,
           -2.850135859111926,
           1.1410340476982082,
           0.3217505543966422,
           0.8288490587889792,
           2.988943325194528,
           -1.6814535479687922,
           3.1031500635686053,
           0.47835243137865757,
           0.6435011087932844,
           -2.922923707715851,
           1.4909663410826592,
           0.906021831977551,
           3.141592653589793
          ],
          [
           -0.49934672168013006,
           -2.173083672929861,
           2.5308666892005847,
           0.18534794999569476,
           -0.23109066719589708,
           0.4964227534048819,
           -0.7631795980707293,
           -1.9756881130799802,
           0.5880026035475676,
           0.5880026035475675,
           -0.83798122500839,
           0.5606869949828056,
           -0.3639789565096441,
           2.651635327336065,
           -0.25732371497108864
          ]
         ],
         "type": "surface",
         "x": [
          [
           0,
           0,
           0,
           0,
           0,
           0,
           0,
           0,
           0,
           0,
           0,
           0,
           0,
           0,
           0
          ],
          [
           0.0005976383937521448,
           0.0025201123533208926,
           0.00033535929933332687,
           0.0003104614024946398,
           -0.0004968806370698796,
           -0.00007904494489752154,
           -0.0005491170694899672,
           -0.0011188773981771576,
           -0.002266947155103483,
           -0.0006916119001003846,
           -0.00019386027796580902,
           0.0004043550037009301,
           0.00057545588504608,
           0.0011510822962893484,
           0.00047247463535533016
          ],
          [
           0.0024803956683498397,
           0.0016593996339417513,
           0.00037982418409455515,
           0.00023540343776841572,
           -0.000636724402768531,
           -0.0005557160117075867,
           -0.0014423949446380612,
           -0.002057428267203763,
           -0.00310255659997345,
           -0.0016121568030079496,
           -0.0006369498318436665,
           0.0004726328948360898,
           0.0015725191407466564,
           0.0019526102571502412,
           0.0020784587449131572
          ],
          [
           0.003423688928535481,
           0.001271828473664669,
           0.002871857853927858,
           0.00042312207388108474,
           -0.00008712001811203422,
           -0.002470309463661896,
           -0.004010028279390456,
           -0.00395295530233728,
           -0.0019527707826172225,
           -0.00033490911356398497,
           -0.000570893274035579,
           0.0008556879582287098,
           0.0017260820627578622,
           0.003988065385179841,
           0.0028184515688488673
          ],
          [
           0.0031436044823390193,
           0.0024869139666470774,
           0.0007488795442132673,
           0.0006872841528149665,
           -0.00031694562068968304,
           -0.0006539309489178246,
           -0.0020407440553696496,
           -0.005149560140382871,
           -0.002069237497941595,
           -0.002956059122115213,
           -0.00045219549914346096,
           0.0004058884371572613,
           0.0008880618948085096,
           0.0019508958222399816,
           0.0032742629177100625
          ],
          [
           0.000941909089080453,
           0.001473070456826326,
           0.00131917155084302,
           0.00032239509939330604,
           -0.00008640140810785547,
           -0.002433914438599541,
           -0.0003498321594470392,
           -0.0012396132487857712,
           -0.002759702808480448,
           -0.0011404612488274042,
           -0.000719302450243461,
           0.00027322524266656223,
           0.001922713389286556,
           0.0022640551249073428,
           0.0024474477732835155
          ],
          [
           0.001859894466687598,
           0.0019098031046686362,
           0.0005501689684733801,
           0.0004965245778073363,
           -0.00008921042755679683,
           -0.00042891949233844675,
           -0.0005007907842223721,
           -0.0003826752884254795,
           -0.0009906668049066798,
           -0.0016027054301071056,
           -0.0000940360473723095,
           0.0002600908558011318,
           0.0006608123775082576,
           0.0017899026600784122,
           0.0006761506574713242
          ],
          [
           4.483653581274092e-19,
           2.086610696205854e-19,
           1.8155719054585911e-19,
           4.320706642951303e-20,
           -1.39060253915205e-19,
           -2.0298710993221153e-19,
           -3.4203888094282e-19,
           -9.083954836987964e-20,
           -2.324843273254798e-19,
           -1.3407012193892624e-19,
           -7.141692169749466e-20,
           1.3476381603253542e-19,
           1.6712291916976606e-19,
           1.826920611478732e-19,
           2.343444226783065e-19
          ]
         ],
         "y": [
          [
           0,
           0,
           0,
           0,
           0,
           0,
           0,
           0,
           0,
           0,
           0,
           0,
           0,
           0,
           0
          ],
          [
           0,
           0.001213622145902653,
           0.00042052726023034624,
           0.0013602202793493664,
           0.0021769763117982185,
           0.00009911922579422595,
           0.00026444084342033825,
           1.3702296243159747e-19,
           -0.0010917042120757712,
           -0.000867253891781422,
           -0.000849357373672082,
           -0.001771595024923879,
           -0.0007215988559223729,
           -0.000554332018051638,
           -1.157229099732436e-19
          ],
          [
           0,
           0.0007991247461648514,
           0.0004762844621396693,
           0.001031369849225248,
           0.0027896718820540774,
           0.0006968458376854166,
           0.000694620795633981,
           2.519622941906374e-19,
           -0.001494112511960996,
           -0.0020215806890650726,
           -0.0027906595513652686,
           -0.002070740011730592,
           -0.001971876632711743,
           -0.0009403275402667984,
           -5.090755698235446e-19
          ],
          [
           0,
           0.0006124803123936239,
           0.0036011958442306647,
           0.0018538189317860512,
           0.0003816977389816407,
           0.003097670089184845,
           0.0019311278400548693,
           4.8409740581799095e-19,
           -0.000940404845257368,
           -0.00041996274513101127,
           -0.0025012468617600747,
           -0.0037490139006823605,
           -0.0021644384462493863,
           -0.0019205510676474828,
           -6.903215384685204e-19
          ],
          [
           0,
           0.0011976346454951852,
           0.0009390652461303603,
           0.003011188620622517,
           0.0013886294954830096,
           0.0008200034735130878,
           0.0009827705405483695,
           6.306392342936678e-19,
           -0.0009964922592934676,
           -0.0037067808949185067,
           -0.0019811979306382987,
           -0.0017783134358682817,
           -0.0011135943934794598,
           -0.0009395019119284199,
           -8.019631203481004e-19
          ],
          [
           0,
           0.00070939334372277,
           0.0016541888033301457,
           0.0014125052216924158,
           0.0003785493028386192,
           0.0030520321712684114,
           0.00016847028883232253,
           1.5180883973061464e-19,
           -0.0013290028280160374,
           -0.00143009317267084,
           -0.0031514699474558235,
           -0.0011970780036388796,
           -0.0024110063308583726,
           -0.001090311483736486,
           -5.994518163263949e-19
          ],
          [
           0,
           0.0009197127021282332,
           0.0006898900654784212,
           0.0021754163142408077,
           0.0003908564211755043,
           0.0005378480314428344,
           0.0002411681310142123,
           4.686420670830536e-20,
           -0.00047707998893820654,
           -0.0020097290423109542,
           -0.0004119988430055534,
           -0.0011395324948328795,
           -0.0008286325120319492,
           -0.0008619716912298434,
           -1.6560914768272712e-19
          ],
          [
           0,
           1.0048587506250461e-19,
           2.276655159619773e-19,
           1.893025268080903e-19,
           6.092627808385936e-19,
           2.545377849117724e-19,
           1.6471724370739227e-19,
           1.1124636214716426e-35,
           -1.1195855131049262e-19,
           -1.6811861537701573e-19,
           -3.1289797830284293e-19,
           -5.904388565439372e-19,
           -2.0956551215329673e-19,
           -8.79798597064488e-20,
           -5.73978294262045e-35
          ]
         ],
         "z": [
          [
           0.0025342208062008793,
           0.0035292504673692447,
           0.003975462090059686,
           0.004724556874729688,
           0.003020909075269366,
           0.0015855248561654851,
           0.006051231531708743,
           0.005700072843990396,
           0.0018377021221126714,
           0.0024349504419032757,
           0.0035812815361918127,
           0.003266828825963326,
           0.0034019665038963445,
           0.0029365138901665524,
           0.002345654883268031
          ],
          [
           0.0012410089120394516,
           0.005808266422812596,
           0.0011169080208355063,
           0.002897164476293902,
           0.004636791946148582,
           0.00026325774516481075,
           0.001265585731806343,
           0.0023233728574560534,
           0.005224780167410855,
           0.0023034008004639197,
           0.001809065816794086,
           0.0037733610140289536,
           0.0019165453140040293,
           0.002652974040074523,
           0.0009811036896530557
          ],
          [
           0.001978049539408182,
           0.0014687822151620384,
           0.00048581336593859494,
           0.0008436418719535015,
           0.0022819011147941323,
           0.0007107874576159841,
           0.0012767051399737647,
           0.0016407442926294374,
           0.0027461618421295653,
           0.0020620259469710887,
           0.002282709010416823,
           0.0016938278553883545,
           0.0020113274740262963,
           0.0017283113483836775,
           0.0016575155389581637
          ],
          [
           0.0007814346562800281,
           0.00032219376273607864,
           0.0010513128082945764,
           0.00043400344640268405,
           0.00008936047170612387,
           0.0009043163386540984,
           0.0010158650531640365,
           0.0009022362523144267,
           0.0004946976571452413,
           0.0001226015557221395,
           0.0005855748583071722,
           0.0008776935684544491,
           0.000631873955134288,
           0.0010103011680389436,
           0.0006432931784744345
          ],
          [
           -0.0007175072091575064,
           -0.0006300127612382666,
           -0.0002741454127419321,
           -0.0007049589454023017,
           -0.0003250964678817943,
           -0.00023938719021112282,
           -0.0005169840270097556,
           -0.0011753534980220143,
           -0.0005242023034248974,
           -0.0010821367126180228,
           -0.00046382454896739704,
           -0.0004163266145995454,
           -0.0003250964678817943,
           -0.0004942226712871374,
           -0.000747329144404974
          ],
          [
           -0.0007511474332881268,
           -0.0013038569157253859,
           -0.0016872837439070028,
           -0.0011554037092201563,
           -0.000309646479110636,
           -0.0031130934135785034,
           -0.000309646479110636,
           -0.0009885585784127151,
           -0.002442692116666511,
           -0.001458704688160263,
           -0.002577845384828754,
           -0.0009791881434413588,
           -0.0024592427299257274,
           -0.002003980134496704,
           -0.0019517744698730982
          ],
          [
           -0.0038621106554432906,
           -0.004401647106095364,
           -0.0018323277002435254,
           -0.004633469271450186,
           -0.0008324940864009811,
           -0.0014285085346905629,
           -0.0011542050071774777,
           -0.0007946334243549981,
           -0.002283254050777562,
           -0.005337781160331026,
           -0.0008775258172160357,
           -0.0024271164852736537,
           -0.002200823553047682,
           -0.004125304773391032,
           -0.001404041307545657
          ],
          [
           -0.0036611809906299396,
           -0.0018911274257462016,
           -0.0023777886392518156,
           -0.0015855248561654851,
           -0.005102949755844517,
           -0.002658448516746892,
           -0.0030999510814291977,
           -0.0007417612035823363,
           -0.0021070412811590306,
           -0.0017558677342991921,
           -0.0026207126254898135,
           -0.004945287835726505,
           -0.0021887482250949205,
           -0.0016557663004942275,
           -0.0019135674289229043
          ]
         ]
        },
        {
         "cmax": 6.283185307179586,
         "cmid": 3.141592653589793,
         "cmin": 0,
         "colorscale": [
          [
           0,
           "rgb(255, 0, 0)"
          ],
          [
           0.003937007874015748,
           "rgb(255, 12, 0)"
          ],
          [
           0.007874015748031496,
           "rgb(255, 19, 0)"
          ],
          [
           0.011811023622047244,
           "rgb(255, 26, 0)"
          ],
          [
           0.015748031496062992,
           "rgb(255, 32, 0)"
          ],
          [
           0.01968503937007874,
           "rgb(255, 38, 0)"
          ],
          [
           0.023622047244094488,
           "rgb(255, 43, 0)"
          ],
          [
           0.027559055118110236,
           "rgb(255, 49, 0)"
          ],
          [
           0.031496062992125984,
           "rgb(255, 54, 0)"
          ],
          [
           0.03543307086614173,
           "rgb(255, 59, 0)"
          ],
          [
           0.03937007874015748,
           "rgb(255, 64, 0)"
          ],
          [
           0.04330708661417323,
           "rgb(255, 68, 0)"
          ],
          [
           0.047244094488188976,
           "rgb(255, 73, 0)"
          ],
          [
           0.051181102362204724,
           "rgb(255, 78, 0)"
          ],
          [
           0.05511811023622047,
           "rgb(255, 82, 0)"
          ],
          [
           0.05905511811023622,
           "rgb(255, 87, 0)"
          ],
          [
           0.06299212598425197,
           "rgb(255, 92, 0)"
          ],
          [
           0.06692913385826772,
           "rgb(255, 96, 0)"
          ],
          [
           0.07086614173228346,
           "rgb(255, 100, 0)"
          ],
          [
           0.07480314960629922,
           "rgb(255, 105, 0)"
          ],
          [
           0.07874015748031496,
           "rgb(255, 109, 0)"
          ],
          [
           0.08267716535433071,
           "rgb(255, 113, 0)"
          ],
          [
           0.08661417322834646,
           "rgb(255, 118, 0)"
          ],
          [
           0.09055118110236221,
           "rgb(255, 122, 0)"
          ],
          [
           0.09448818897637795,
           "rgb(255, 126, 0)"
          ],
          [
           0.0984251968503937,
           "rgb(255, 130, 0)"
          ],
          [
           0.10236220472440945,
           "rgb(255, 134, 0)"
          ],
          [
           0.1062992125984252,
           "rgb(255, 138, 0)"
          ],
          [
           0.11023622047244094,
           "rgb(255, 142, 0)"
          ],
          [
           0.1141732283464567,
           "rgb(255, 146, 0)"
          ],
          [
           0.11811023622047244,
           "rgb(255, 150, 0)"
          ],
          [
           0.1220472440944882,
           "rgb(255, 154, 0)"
          ],
          [
           0.12598425196850394,
           "rgb(255, 158, 0)"
          ],
          [
           0.12992125984251968,
           "rgb(255, 162, 0)"
          ],
          [
           0.13385826771653545,
           "rgb(255, 166, 0)"
          ],
          [
           0.1377952755905512,
           "rgb(255, 169, 0)"
          ],
          [
           0.14173228346456693,
           "rgb(255, 173, 0)"
          ],
          [
           0.14566929133858267,
           "rgb(255, 177, 0)"
          ],
          [
           0.14960629921259844,
           "rgb(255, 180, 0)"
          ],
          [
           0.15354330708661418,
           "rgb(255, 184, 0)"
          ],
          [
           0.15748031496062992,
           "rgb(255, 187, 0)"
          ],
          [
           0.16141732283464566,
           "rgb(255, 191, 0)"
          ],
          [
           0.16535433070866143,
           "rgb(255, 194, 0)"
          ],
          [
           0.16929133858267717,
           "rgb(255, 198, 0)"
          ],
          [
           0.1732283464566929,
           "rgb(255, 201, 0)"
          ],
          [
           0.17716535433070865,
           "rgb(255, 204, 0)"
          ],
          [
           0.18110236220472442,
           "rgb(255, 207, 0)"
          ],
          [
           0.18503937007874016,
           "rgb(255, 211, 0)"
          ],
          [
           0.1889763779527559,
           "rgb(255, 214, 0)"
          ],
          [
           0.19291338582677164,
           "rgb(255, 217, 0)"
          ],
          [
           0.1968503937007874,
           "rgb(255, 220, 0)"
          ],
          [
           0.20078740157480315,
           "rgb(255, 223, 0)"
          ],
          [
           0.2047244094488189,
           "rgb(255, 226, 0)"
          ],
          [
           0.20866141732283464,
           "rgb(255, 228, 0)"
          ],
          [
           0.2125984251968504,
           "rgb(255, 231, 0)"
          ],
          [
           0.21653543307086615,
           "rgb(255, 234, 0)"
          ],
          [
           0.2204724409448819,
           "rgb(255, 237, 0)"
          ],
          [
           0.22440944881889763,
           "rgb(255, 239, 0)"
          ],
          [
           0.2283464566929134,
           "rgb(255, 242, 0)"
          ],
          [
           0.23228346456692914,
           "rgb(255, 244, 0)"
          ],
          [
           0.23622047244094488,
           "rgb(255, 247, 0)"
          ],
          [
           0.24015748031496062,
           "rgb(255, 249, 0)"
          ],
          [
           0.2440944881889764,
           "rgb(255, 252, 0)"
          ],
          [
           0.24803149606299213,
           "rgb(255, 254, 0)"
          ],
          [
           0.25196850393700787,
           "rgb(254, 255, 0)"
          ],
          [
           0.2559055118110236,
           "rgb(252, 255, 0)"
          ],
          [
           0.25984251968503935,
           "rgb(249, 255, 0)"
          ],
          [
           0.2637795275590551,
           "rgb(247, 255, 0)"
          ],
          [
           0.2677165354330709,
           "rgb(244, 255, 0)"
          ],
          [
           0.27165354330708663,
           "rgb(242, 255, 0)"
          ],
          [
           0.2755905511811024,
           "rgb(239, 255, 0)"
          ],
          [
           0.2795275590551181,
           "rgb(237, 255, 0)"
          ],
          [
           0.28346456692913385,
           "rgb(234, 255, 0)"
          ],
          [
           0.2874015748031496,
           "rgb(231, 255, 0)"
          ],
          [
           0.29133858267716534,
           "rgb(228, 255, 0)"
          ],
          [
           0.2952755905511811,
           "rgb(226, 255, 0)"
          ],
          [
           0.2992125984251969,
           "rgb(223, 255, 0)"
          ],
          [
           0.3031496062992126,
           "rgb(220, 255, 0)"
          ],
          [
           0.30708661417322836,
           "rgb(217, 255, 0)"
          ],
          [
           0.3110236220472441,
           "rgb(214, 255, 0)"
          ],
          [
           0.31496062992125984,
           "rgb(211, 255, 0)"
          ],
          [
           0.3188976377952756,
           "rgb(207, 255, 0)"
          ],
          [
           0.3228346456692913,
           "rgb(204, 255, 0)"
          ],
          [
           0.32677165354330706,
           "rgb(201, 255, 0)"
          ],
          [
           0.33070866141732286,
           "rgb(198, 255, 0)"
          ],
          [
           0.3346456692913386,
           "rgb(194, 255, 0)"
          ],
          [
           0.33858267716535434,
           "rgb(191, 255, 0)"
          ],
          [
           0.3425196850393701,
           "rgb(187, 255, 0)"
          ],
          [
           0.3464566929133858,
           "rgb(184, 255, 0)"
          ],
          [
           0.35039370078740156,
           "rgb(180, 255, 0)"
          ],
          [
           0.3543307086614173,
           "rgb(177, 255, 0)"
          ],
          [
           0.35826771653543305,
           "rgb(173, 255, 0)"
          ],
          [
           0.36220472440944884,
           "rgb(169, 255, 0)"
          ],
          [
           0.3661417322834646,
           "rgb(166, 255, 0)"
          ],
          [
           0.3700787401574803,
           "rgb(162, 255, 0)"
          ],
          [
           0.37401574803149606,
           "rgb(158, 255, 0)"
          ],
          [
           0.3779527559055118,
           "rgb(154, 255, 0)"
          ],
          [
           0.38188976377952755,
           "rgb(150, 255, 0)"
          ],
          [
           0.3858267716535433,
           "rgb(146, 255, 0)"
          ],
          [
           0.38976377952755903,
           "rgb(142, 255, 0)"
          ],
          [
           0.3937007874015748,
           "rgb(138, 255, 0)"
          ],
          [
           0.39763779527559057,
           "rgb(134, 255, 0)"
          ],
          [
           0.4015748031496063,
           "rgb(130, 255, 0)"
          ],
          [
           0.40551181102362205,
           "rgb(126, 255, 0)"
          ],
          [
           0.4094488188976378,
           "rgb(122, 255, 0)"
          ],
          [
           0.41338582677165353,
           "rgb(118, 255, 0)"
          ],
          [
           0.41732283464566927,
           "rgb(113, 255, 0)"
          ],
          [
           0.421259842519685,
           "rgb(109, 255, 0)"
          ],
          [
           0.4251968503937008,
           "rgb(105, 255, 0)"
          ],
          [
           0.42913385826771655,
           "rgb(100, 255, 0)"
          ],
          [
           0.4330708661417323,
           "rgb(96, 255, 0)"
          ],
          [
           0.43700787401574803,
           "rgb(92, 255, 0)"
          ],
          [
           0.4409448818897638,
           "rgb(87, 255, 0)"
          ],
          [
           0.4448818897637795,
           "rgb(82, 255, 0)"
          ],
          [
           0.44881889763779526,
           "rgb(78, 255, 0)"
          ],
          [
           0.452755905511811,
           "rgb(73, 255, 0)"
          ],
          [
           0.4566929133858268,
           "rgb(68, 255, 0)"
          ],
          [
           0.46062992125984253,
           "rgb(64, 255, 0)"
          ],
          [
           0.4645669291338583,
           "rgb(59, 255, 0)"
          ],
          [
           0.468503937007874,
           "rgb(54, 255, 0)"
          ],
          [
           0.47244094488188976,
           "rgb(49, 255, 0)"
          ],
          [
           0.4763779527559055,
           "rgb(43, 255, 0)"
          ],
          [
           0.48031496062992124,
           "rgb(38, 255, 0)"
          ],
          [
           0.484251968503937,
           "rgb(32, 255, 0)"
          ],
          [
           0.4881889763779528,
           "rgb(26, 255, 0)"
          ],
          [
           0.4921259842519685,
           "rgb(19, 255, 0)"
          ],
          [
           0.49606299212598426,
           "rgb(12, 255, 0)"
          ],
          [
           0.5,
           "rgb(1, 255, 0)"
          ],
          [
           0.5039370078740157,
           "rgb(0, 253, 8)"
          ],
          [
           0.5078740157480315,
           "rgb(0, 250, 15)"
          ],
          [
           0.5118110236220472,
           "rgb(0, 248, 21)"
          ],
          [
           0.515748031496063,
           "rgb(0, 246, 27)"
          ],
          [
           0.5196850393700787,
           "rgb(0, 243, 33)"
          ],
          [
           0.5236220472440944,
           "rgb(0, 241, 40)"
          ],
          [
           0.5275590551181102,
           "rgb(0, 238, 46)"
          ],
          [
           0.531496062992126,
           "rgb(0, 235, 53)"
          ],
          [
           0.5354330708661418,
           "rgb(0, 233, 60)"
          ],
          [
           0.5393700787401575,
           "rgb(0, 230, 67)"
          ],
          [
           0.5433070866141733,
           "rgb(0, 227, 74)"
          ],
          [
           0.547244094488189,
           "rgb(0, 224, 81)"
          ],
          [
           0.5511811023622047,
           "rgb(0, 221, 89)"
          ],
          [
           0.5551181102362205,
           "rgb(0, 218, 96)"
          ],
          [
           0.5590551181102362,
           "rgb(0, 215, 103)"
          ],
          [
           0.562992125984252,
           "rgb(0, 212, 111)"
          ],
          [
           0.5669291338582677,
           "rgb(0, 209, 118)"
          ],
          [
           0.5708661417322834,
           "rgb(0, 206, 126)"
          ],
          [
           0.5748031496062992,
           "rgb(0, 202, 133)"
          ],
          [
           0.5787401574803149,
           "rgb(0, 199, 140)"
          ],
          [
           0.5826771653543307,
           "rgb(0, 196, 148)"
          ],
          [
           0.5866141732283464,
           "rgb(0, 192, 155)"
          ],
          [
           0.5905511811023622,
           "rgb(0, 189, 163)"
          ],
          [
           0.594488188976378,
           "rgb(0, 186, 170)"
          ],
          [
           0.5984251968503937,
           "rgb(0, 182, 174)"
          ],
          [
           0.6023622047244095,
           "rgb(0, 178, 178)"
          ],
          [
           0.6062992125984252,
           "rgb(0, 175, 182)"
          ],
          [
           0.610236220472441,
           "rgb(0, 171, 186)"
          ],
          [
           0.6141732283464567,
           "rgb(0, 167, 190)"
          ],
          [
           0.6181102362204725,
           "rgb(0, 164, 194)"
          ],
          [
           0.6220472440944882,
           "rgb(0, 160, 197)"
          ],
          [
           0.6259842519685039,
           "rgb(0, 156, 201)"
          ],
          [
           0.6299212598425197,
           "rgb(0, 152, 204)"
          ],
          [
           0.6338582677165354,
           "rgb(0, 148, 208)"
          ],
          [
           0.6377952755905512,
           "rgb(0, 144, 211)"
          ],
          [
           0.6417322834645669,
           "rgb(0, 140, 214)"
          ],
          [
           0.6456692913385826,
           "rgb(0, 136, 217)"
          ],
          [
           0.6496062992125984,
           "rgb(0, 132, 220)"
          ],
          [
           0.6535433070866141,
           "rgb(0, 128, 222)"
          ],
          [
           0.65748031496063,
           "rgb(0, 124, 225)"
          ],
          [
           0.6614173228346457,
           "rgb(0, 120, 227)"
          ],
          [
           0.6653543307086615,
           "rgb(0, 116, 230)"
          ],
          [
           0.6692913385826772,
           "rgb(0, 111, 232)"
          ],
          [
           0.6732283464566929,
           "rgb(0, 107, 234)"
          ],
          [
           0.6771653543307087,
           "rgb(0, 103, 236)"
          ],
          [
           0.6811023622047244,
           "rgb(0, 98, 238)"
          ],
          [
           0.6850393700787402,
           "rgb(0, 94, 240)"
          ],
          [
           0.6889763779527559,
           "rgb(0, 89, 242)"
          ],
          [
           0.6929133858267716,
           "rgb(0, 85, 244)"
          ],
          [
           0.6968503937007874,
           "rgb(0, 80, 245)"
          ],
          [
           0.7007874015748031,
           "rgb(0, 76, 246)"
          ],
          [
           0.7047244094488189,
           "rgb(0, 71, 248)"
          ],
          [
           0.7086614173228346,
           "rgb(0, 66, 249)"
          ],
          [
           0.7125984251968503,
           "rgb(0, 61, 250)"
          ],
          [
           0.7165354330708661,
           "rgb(0, 56, 251)"
          ],
          [
           0.7204724409448819,
           "rgb(0, 51, 252)"
          ],
          [
           0.7244094488188977,
           "rgb(0, 46, 253)"
          ],
          [
           0.7283464566929134,
           "rgb(0, 41, 253)"
          ],
          [
           0.7322834645669292,
           "rgb(0, 35, 254)"
          ],
          [
           0.7362204724409449,
           "rgb(0, 29, 254)"
          ],
          [
           0.7401574803149606,
           "rgb(0, 23, 255)"
          ],
          [
           0.7440944881889764,
           "rgb(0, 16, 255)"
          ],
          [
           0.7480314960629921,
           "rgb(0, 7, 255)"
          ],
          [
           0.7519685039370079,
           "rgb(7, 0, 255)"
          ],
          [
           0.7559055118110236,
           "rgb(16, 0, 255)"
          ],
          [
           0.7598425196850394,
           "rgb(23, 0, 255)"
          ],
          [
           0.7637795275590551,
           "rgb(29, 0, 254)"
          ],
          [
           0.7677165354330708,
           "rgb(35, 0, 254)"
          ],
          [
           0.7716535433070866,
           "rgb(41, 0, 253)"
          ],
          [
           0.7755905511811023,
           "rgb(46, 0, 253)"
          ],
          [
           0.7795275590551181,
           "rgb(51, 0, 252)"
          ],
          [
           0.7834645669291339,
           "rgb(56, 0, 251)"
          ],
          [
           0.7874015748031497,
           "rgb(61, 0, 250)"
          ],
          [
           0.7913385826771654,
           "rgb(66, 0, 249)"
          ],
          [
           0.7952755905511811,
           "rgb(71, 0, 248)"
          ],
          [
           0.7992125984251969,
           "rgb(76, 0, 246)"
          ],
          [
           0.8031496062992126,
           "rgb(80, 0, 245)"
          ],
          [
           0.8070866141732284,
           "rgb(85, 0, 244)"
          ],
          [
           0.8110236220472441,
           "rgb(89, 0, 242)"
          ],
          [
           0.8149606299212598,
           "rgb(94, 0, 240)"
          ],
          [
           0.8188976377952756,
           "rgb(98, 0, 238)"
          ],
          [
           0.8228346456692913,
           "rgb(103, 0, 236)"
          ],
          [
           0.8267716535433071,
           "rgb(107, 0, 234)"
          ],
          [
           0.8307086614173228,
           "rgb(111, 0, 232)"
          ],
          [
           0.8346456692913385,
           "rgb(116, 0, 230)"
          ],
          [
           0.8385826771653543,
           "rgb(120, 0, 227)"
          ],
          [
           0.84251968503937,
           "rgb(124, 0, 225)"
          ],
          [
           0.8464566929133859,
           "rgb(128, 0, 219)"
          ],
          [
           0.8503937007874016,
           "rgb(132, 0, 213)"
          ],
          [
           0.8543307086614174,
           "rgb(136, 0, 206)"
          ],
          [
           0.8582677165354331,
           "rgb(140, 0, 199)"
          ],
          [
           0.8622047244094488,
           "rgb(144, 0, 192)"
          ],
          [
           0.8661417322834646,
           "rgb(148, 0, 185)"
          ],
          [
           0.8700787401574803,
           "rgb(152, 0, 178)"
          ],
          [
           0.8740157480314961,
           "rgb(156, 0, 171)"
          ],
          [
           0.8779527559055118,
           "rgb(160, 0, 163)"
          ],
          [
           0.8818897637795275,
           "rgb(164, 0, 156)"
          ],
          [
           0.8858267716535433,
           "rgb(167, 0, 148)"
          ],
          [
           0.889763779527559,
           "rgb(171, 0, 141)"
          ],
          [
           0.8937007874015748,
           "rgb(175, 0, 134)"
          ],
          [
           0.8976377952755905,
           "rgb(178, 0, 126)"
          ],
          [
           0.9015748031496063,
           "rgb(182, 0, 119)"
          ],
          [
           0.905511811023622,
           "rgb(186, 0, 111)"
          ],
          [
           0.9094488188976378,
           "rgb(189, 0, 104)"
          ],
          [
           0.9133858267716536,
           "rgb(192, 0, 96)"
          ],
          [
           0.9173228346456693,
           "rgb(196, 0, 89)"
          ],
          [
           0.9212598425196851,
           "rgb(199, 0, 82)"
          ],
          [
           0.9251968503937008,
           "rgb(202, 0, 75)"
          ],
          [
           0.9291338582677166,
           "rgb(206, 0, 67)"
          ],
          [
           0.9330708661417323,
           "rgb(209, 0, 60)"
          ],
          [
           0.937007874015748,
           "rgb(212, 0, 54)"
          ],
          [
           0.9409448818897638,
           "rgb(215, 0, 47)"
          ],
          [
           0.9448818897637795,
           "rgb(218, 0, 40)"
          ],
          [
           0.9488188976377953,
           "rgb(221, 0, 34)"
          ],
          [
           0.952755905511811,
           "rgb(224, 0, 27)"
          ],
          [
           0.9566929133858267,
           "rgb(227, 0, 21)"
          ],
          [
           0.9606299212598425,
           "rgb(230, 0, 15)"
          ],
          [
           0.9645669291338582,
           "rgb(233, 0, 9)"
          ],
          [
           0.968503937007874,
           "rgb(235, 0, 1)"
          ],
          [
           0.9724409448818898,
           "rgb(238, 0, 0)"
          ],
          [
           0.9763779527559056,
           "rgb(241, 0, 0)"
          ],
          [
           0.9803149606299213,
           "rgb(243, 0, 0)"
          ],
          [
           0.984251968503937,
           "rgb(246, 0, 0)"
          ],
          [
           0.9881889763779528,
           "rgb(248, 0, 0)"
          ],
          [
           0.9921259842519685,
           "rgb(250, 0, 0)"
          ],
          [
           0.9960629921259843,
           "rgb(253, 0, 0)"
          ],
          [
           1,
           "rgb(255, 0, 0)"
          ]
         ],
         "opacity": 1,
         "scene": "scene2",
         "surfacecolor": [
          [
           5.62748968093805,
           0.2267988480538859,
           2.473303234759209,
           0.2709468503384206,
           0.15037142800713454,
           4.897736930380384,
           3.540115099256213,
           1.6575346654708818,
           5.961434752782944,
           4.037648038161137,
           2.922923707715851,
           1.1284221038181517,
           3.4107601463754933,
           5.431218980006314,
           4.868990857366705
          ],
          [
           5.342192315805108,
           4.642849547703396,
           4.660412714815778,
           4.68858395419962,
           4.644062834241741,
           4.704236987056673,
           4.617632281839773,
           5.196866909421713,
           1.4845907531191178,
           1.5761726190806056,
           1.624483005370411,
           1.5567785534329535,
           1.5823231937695779,
           1.611497818273699,
           1.3876855095324125
          ],
          [
           1.0121970114513341,
           4.667973765137779,
           4.734965788871551,
           4.6905415573026135,
           4.761827828160134,
           4.793713919511709,
           4.755258142275816,
           6.049442126310685,
           1.5481373160175167,
           1.5869500104457583,
           1.5656015683283409,
           1.5745889761195455,
           1.5804734440620474,
           1.5549246438031066,
           3.682012153860377
          ],
          [
           4.037648038161137,
           4.7102476560344195,
           4.718694067071904,
           4.7052316383922,
           4.719509918005759,
           4.679974915806047,
           4.717094828000322,
           2.064737695714478,
           1.6220334941983154,
           1.5668593392619397,
           1.5987973051538444,
           1.6140237585029962,
           1.5433880484129594,
           1.5616849616238555,
           0.9380474917927135
          ],
          [
           1.5707963267948966,
           4.687222669987393,
           4.708502989582798,
           4.70321492583958,
           4.715472218302097,
           4.686319268612999,
           4.728118020199357,
           1.9513027039072615,
           1.5979501448797435,
           1.5655880405558247,
           1.491662235194404,
           1.5802300092008974,
           1.5643197334148862,
           1.5777406596099122,
           1.5152978215491797
          ],
          [
           2.2455372690184494,
           4.790660120905968,
           4.715447074827149,
           4.685745540467701,
           4.714933504155169,
           4.706197109052117,
           4.679367954500445,
           2.782821983319221,
           1.5801710521511765,
           1.5439120493647676,
           1.520524254797169,
           1.6172145725275024,
           1.5897215118347634,
           1.5282084567099992,
           1.7524451567949086
          ],
          [
           0.3217505543966422,
           4.560200693911576,
           4.7480880930640135,
           4.67702636975374,
           4.6830520271722955,
           4.6975971598775175,
           4.6886967319142645,
           0.7086262721276703,
           1.6709170588212643,
           1.6335879233532684,
           1.636205070800384,
           1.5317357444448603,
           1.5646235656901157,
           1.452306367636759,
           5.003845774862556
          ],
          [
           4.588033985837928,
           0.4636476090008061,
           3.522099030702158,
           5.497787143782138,
           2.44685437739309,
           2.4668517113662407,
           1.5707963267948966,
           1.1309537439791604,
           2.417342652841646,
           1.3909428270024184,
           3.0750244898139694,
           0.2635638835830379,
           4.373096365930645,
           5.034139534781332,
           5.4765137577580765
          ]
         ],
         "type": "surface",
         "x": [
          [
           0,
           0,
           0,
           0,
           0,
           0,
           0,
           0,
           0,
           0,
           0,
           0,
           0,
           0,
           0
          ],
          [
           0.005343769586391909,
           0.013287426487862958,
           0.015811623591468187,
           0.007526967372264465,
           -0.007395503193039954,
           -0.016794834286221732,
           -0.016031048324425645,
           -0.003143146167509962,
           -0.010723205512044443,
           -0.016977068076254914,
           -0.0069811173442006665,
           0.006971744020246386,
           0.015836959320638253,
           0.014586329021069567,
           0.002009878443577108
          ],
          [
           0.004977128967074572,
           0.042821777914771014,
           0.0509982924975736,
           0.022839049484965204,
           -0.022567682403065555,
           -0.052639490271359,
           -0.04436512443658639,
           -0.0028471926770583995,
           -0.04195849375240667,
           -0.05090970355618154,
           -0.022599111180969675,
           0.02321530430352878,
           0.050987683214546005,
           0.03743681919658412,
           0.0007690655507789388
          ],
          [
           0.0010531134949294586,
           0.06920076738619843,
           0.08131944834644733,
           0.03579349467377318,
           -0.03597647865002693,
           -0.07910340396559334,
           -0.06297769670265094,
           -0.002428351198322431,
           -0.05786659870861945,
           -0.07813955633710369,
           -0.03529404500938267,
           0.03556962149181437,
           0.07857864181004928,
           0.06505423611788447,
           0.003059294592246431
          ],
          [
           0.0069076852403492225,
           0.06477568502010254,
           0.07916499404096755,
           0.035903881938502455,
           -0.035609758491232074,
           -0.07867840811942298,
           -0.06594878066852186,
           -0.0017713820692900517,
           -0.06003550750850386,
           -0.0787552862554024,
           -0.03564795292544146,
           0.034915786044594145,
           0.07916605666368601,
           0.06401581114376953,
           0.002965001586767251
          ],
          [
           0.0008445314516692502,
           0.042553333355885924,
           0.05378151513760356,
           0.023135301115748096,
           -0.023068466521410716,
           -0.053124407244468236,
           -0.039592665027783275,
           -0.0022537997447925353,
           -0.038027935354273075,
           -0.04894712467270971,
           -0.023362048749929407,
           0.02277007816292359,
           0.05214591477525751,
           0.04186685252188134,
           0.006570898946249943
          ],
          [
           0.002314643546056208,
           0.010875029672377795,
           0.016622320597439705,
           0.006910229199711482,
           -0.007218477975757095,
           -0.015426865285064439,
           -0.013918686734412803,
           -0.0006748287585383946,
           -0.01451504491732745,
           -0.015272729802292575,
           -0.007475670594396019,
           0.007090480101134638,
           0.014786546654399572,
           0.013946623553508935,
           0.0015283659865852322
          ],
          [
           1.6656290061055643e-19,
           3.745923407523635e-19,
           2.0809958058753894e-19,
           1.430309916508584e-19,
           -3.5905203168864246e-20,
           -8.247890367838834e-20,
           -5.584092918486997e-20,
           -7.763167295935197e-19,
           -6.461374375245172e-19,
           -1.4401441272711836e-19,
           -1.3822184518078707e-19,
           2.999820713483108e-19,
           2.322162629751749e-19,
           1.1772301525623917e-19,
           6.8675643252658055e-19
          ]
         ],
         "y": [
          [
           0,
           0,
           0,
           0,
           0,
           0,
           0,
           0,
           0,
           0,
           0,
           0,
           0,
           0,
           0
          ],
          [
           0,
           0.006398887345825663,
           0.01982714885775302,
           0.032977798784284966,
           0.0324018165811759,
           0.021060056072539763,
           0.0077201459859203535,
           3.8492438932933456e-19,
           -0.005164023606857591,
           -0.021288570017423313,
           -0.03058627355219553,
           -0.030545206336673535,
           -0.01985891885725806,
           -0.007024405838122774,
           -4.922782405203939e-19
          ],
          [
           0,
           0.020621881375966496,
           0.06394983608047872,
           0.1000644138720263,
           0.09887547700263842,
           0.06600783299506596,
           0.021365117888897674,
           3.486805398515353e-19,
           -0.02020614563455331,
           -0.06383874906161752,
           -0.09901317547567504,
           -0.1017128939416928,
           -0.06393653246035111,
           -0.01802862193396138,
           -1.8836673301918474e-19
          ],
          [
           0,
           0.03332533317519697,
           0.1019713629070559,
           0.15682154668128323,
           0.15762325186362278,
           0.09919253114696472,
           0.030328460282955293,
           2.973872522231205e-19,
           -0.027867085214791636,
           -0.09798390444928837,
           -0.15463331472536412,
           -0.15584069418349794,
           -0.0985345002172061,
           -0.0313284689602852,
           -7.493110660086799e-19
          ],
          [
           0,
           0.031194325821552425,
           0.0992697626586776,
           0.15730518488835235,
           0.1560165458678667,
           0.09865960321219569,
           0.03175925891126474,
           2.169317381223077e-19,
           -0.028911576643324263,
           -0.09875600534554727,
           -0.15618388661796437,
           -0.1529760539173645,
           -0.0992710951454205,
           -0.030828389849215578,
           -7.262159405402676e-19
          ],
          [
           0,
           0.020492605289850453,
           0.06743988688196118,
           0.1013623770737102,
           0.10106955558334361,
           0.06661589964640441,
           0.01906682256832891,
           2.7601086433792997e-19,
           -0.01831328847227139,
           -0.061377752982209495,
           -0.1023558233695447,
           -0.09976223076591176,
           -0.06538890889931251,
           -0.02016201354389604,
           -1.6094060724091417e-18
          ],
          [
           0,
           0.0052371382689959,
           0.020843730749103208,
           0.030275692298214057,
           0.03162621842768713,
           0.019344677201936455,
           0.006702886258426254,
           8.26426879116627e-20,
           -0.006990077223036121,
           -0.01915139741991403,
           -0.03275305291584114,
           -0.031065423097330132,
           -0.01854174303561622,
           -0.00671633992143317,
           -3.7434170267945824e-19
          ],
          [
           0,
           1.8039416370603934e-19,
           2.6094862034101734e-19,
           6.266597195517937e-19,
           1.573109735767928e-19,
           1.0342527390660149e-19,
           2.6891574186061966e-20,
           9.507137980212451e-35,
           -3.111633901731426e-19,
           -1.8058836161159323e-19,
           -6.055894721639064e-19,
           -1.3143073297050068e-18,
           -2.9118998353112167e-19,
           -5.66924161968963e-20,
           -1.6820681337750642e-34
          ]
         ],
         "z": [
          [
           0.005533716181635132,
           0.0022507162492029337,
           0.008167507630470338,
           0.009454633824878777,
           0.005630582687207058,
           0.0027462096075419563,
           0.0034778048615802058,
           0.003894703041534316,
           0.0048012382203753475,
           0.001080196270689041,
           0.0015553216165945173,
           0.003546678970733065,
           0.005074988176858782,
           0.001793287688636248,
           0.009734930648644958
          ],
          [
           0.011096451884495304,
           0.030624393794723,
           0.052660323559984644,
           0.07024017256227001,
           0.06901337481255312,
           0.055934888819765875,
           0.036947797022838264,
           0.0065268102693887735,
           0.024714467368271337,
           0.056541815128831795,
           0.0651464079332908,
           0.06505893792585381,
           0.052744703743209095,
           0.033618058724061775,
           0.00417355559259737
          ],
          [
           0.003969127904277739,
           0.03790278395652702,
           0.06522926441460995,
           0.0818508796803982,
           0.08087835083744394,
           0.06732843515739532,
           0.039268844233212724,
           0.002270560392974926,
           0.03713866638148584,
           0.06511595490561906,
           0.08099098569645695,
           0.08319930654482145,
           0.0652156946322905,
           0.033136402529849965,
           0.0006133093110523929
          ],
          [
           0.00024036628300985323,
           0.017530709596506468,
           0.029768944689633963,
           0.036713991082345486,
           0.03690168083249764,
           0.028957708214905734,
           0.015954211978453144,
           0.0005542553145445958,
           0.014659411674395778,
           0.028604868552006103,
           0.036201697139224304,
           0.03648436058437589,
           0.028765606375785395,
           0.01648026408494205,
           0.0006982640269173226
          ],
          [
           -0.001576634079250864,
           -0.016409698416562226,
           -0.02898025474694112,
           -0.03682721716126882,
           -0.03652552978151975,
           -0.02880212823871024,
           -0.01670688007968734,
           -0.00040430639796717457,
           -0.01520886382280741,
           -0.0288302713339273,
           -0.036564706456771436,
           -0.03581371054035674,
           -0.028980643745607198,
           -0.01621719869785792,
           -0.0006767422637360648
          ],
          [
           -0.000673491358780453,
           -0.037665175977241845,
           -0.06878913978729777,
           -0.08291259009011968,
           -0.0826730674101939,
           -0.06794866724574572,
           -0.035044603514548786,
           -0.0017973453203419998,
           -0.033659616396931547,
           -0.06260572229478006,
           -0.08372521118170256,
           -0.08160369936820783,
           -0.06669712840246214,
           -0.03705755209965883,
           -0.005240117050669758
          ],
          [
           -0.00480640684882378,
           -0.02506438635957101,
           -0.0553603351303718,
           -0.06448489377290173,
           -0.06736141045627868,
           -0.05137889304841174,
           -0.03207930023540619,
           -0.0014012963561273227,
           -0.033453765625898885,
           -0.05086554763844253,
           -0.06976148116490255,
           -0.06616695957633814,
           -0.049246323544892015,
           -0.032143688034665385,
           -0.0031736846729376223
          ],
          [
           -0.001360089298616744,
           -0.0033949881037194395,
           -0.0027254046896541565,
           -0.005248659795832149,
           -0.0013175759613946012,
           -0.001080196270689041,
           -0.0005060949455146516,
           -0.006339107162440808,
           -0.005856043157096125,
           -0.0018861045020663555,
           -0.005072183541012165,
           -0.01100813060990116,
           -0.0030412521271770505,
           -0.0010669418267500773,
           -0.005607791838469076
          ]
         ]
        }
       ],
       "layout": {
        "annotations": [
         {
          "font": {
           "size": 16
          },
          "showarrow": false,
          "text": "$f_{0}^{(\\emptyset)}$",
          "x": 0.225,
          "xanchor": "center",
          "xref": "paper",
          "y": 1,
          "yanchor": "bottom",
          "yref": "paper"
         },
         {
          "font": {
           "size": 16
          },
          "showarrow": false,
          "text": "$f_{1}^{(1)}$",
          "x": 0.775,
          "xanchor": "center",
          "xref": "paper",
          "y": 1,
          "yanchor": "bottom",
          "yref": "paper"
         }
        ],
        "scene": {
         "domain": {
          "x": [
           0,
           0.45
          ],
          "y": [
           0,
           1
          ]
         }
        },
        "scene2": {
         "domain": {
          "x": [
           0.55,
           1
          ],
          "y": [
           0,
           1
          ]
         }
        },
        "template": {
         "data": {
          "bar": [
           {
            "error_x": {
             "color": "#2a3f5f"
            },
            "error_y": {
             "color": "#2a3f5f"
            },
            "marker": {
             "line": {
              "color": "#E5ECF6",
              "width": 0.5
             },
             "pattern": {
              "fillmode": "overlay",
              "size": 10,
              "solidity": 0.2
             }
            },
            "type": "bar"
           }
          ],
          "barpolar": [
           {
            "marker": {
             "line": {
              "color": "#E5ECF6",
              "width": 0.5
             },
             "pattern": {
              "fillmode": "overlay",
              "size": 10,
              "solidity": 0.2
             }
            },
            "type": "barpolar"
           }
          ],
          "carpet": [
           {
            "aaxis": {
             "endlinecolor": "#2a3f5f",
             "gridcolor": "white",
             "linecolor": "white",
             "minorgridcolor": "white",
             "startlinecolor": "#2a3f5f"
            },
            "baxis": {
             "endlinecolor": "#2a3f5f",
             "gridcolor": "white",
             "linecolor": "white",
             "minorgridcolor": "white",
             "startlinecolor": "#2a3f5f"
            },
            "type": "carpet"
           }
          ],
          "choropleth": [
           {
            "colorbar": {
             "outlinewidth": 0,
             "ticks": ""
            },
            "type": "choropleth"
           }
          ],
          "contour": [
           {
            "colorbar": {
             "outlinewidth": 0,
             "ticks": ""
            },
            "colorscale": [
             [
              0,
              "#0d0887"
             ],
             [
              0.1111111111111111,
              "#46039f"
             ],
             [
              0.2222222222222222,
              "#7201a8"
             ],
             [
              0.3333333333333333,
              "#9c179e"
             ],
             [
              0.4444444444444444,
              "#bd3786"
             ],
             [
              0.5555555555555556,
              "#d8576b"
             ],
             [
              0.6666666666666666,
              "#ed7953"
             ],
             [
              0.7777777777777778,
              "#fb9f3a"
             ],
             [
              0.8888888888888888,
              "#fdca26"
             ],
             [
              1,
              "#f0f921"
             ]
            ],
            "type": "contour"
           }
          ],
          "contourcarpet": [
           {
            "colorbar": {
             "outlinewidth": 0,
             "ticks": ""
            },
            "type": "contourcarpet"
           }
          ],
          "heatmap": [
           {
            "colorbar": {
             "outlinewidth": 0,
             "ticks": ""
            },
            "colorscale": [
             [
              0,
              "#0d0887"
             ],
             [
              0.1111111111111111,
              "#46039f"
             ],
             [
              0.2222222222222222,
              "#7201a8"
             ],
             [
              0.3333333333333333,
              "#9c179e"
             ],
             [
              0.4444444444444444,
              "#bd3786"
             ],
             [
              0.5555555555555556,
              "#d8576b"
             ],
             [
              0.6666666666666666,
              "#ed7953"
             ],
             [
              0.7777777777777778,
              "#fb9f3a"
             ],
             [
              0.8888888888888888,
              "#fdca26"
             ],
             [
              1,
              "#f0f921"
             ]
            ],
            "type": "heatmap"
           }
          ],
          "heatmapgl": [
           {
            "colorbar": {
             "outlinewidth": 0,
             "ticks": ""
            },
            "colorscale": [
             [
              0,
              "#0d0887"
             ],
             [
              0.1111111111111111,
              "#46039f"
             ],
             [
              0.2222222222222222,
              "#7201a8"
             ],
             [
              0.3333333333333333,
              "#9c179e"
             ],
             [
              0.4444444444444444,
              "#bd3786"
             ],
             [
              0.5555555555555556,
              "#d8576b"
             ],
             [
              0.6666666666666666,
              "#ed7953"
             ],
             [
              0.7777777777777778,
              "#fb9f3a"
             ],
             [
              0.8888888888888888,
              "#fdca26"
             ],
             [
              1,
              "#f0f921"
             ]
            ],
            "type": "heatmapgl"
           }
          ],
          "histogram": [
           {
            "marker": {
             "pattern": {
              "fillmode": "overlay",
              "size": 10,
              "solidity": 0.2
             }
            },
            "type": "histogram"
           }
          ],
          "histogram2d": [
           {
            "colorbar": {
             "outlinewidth": 0,
             "ticks": ""
            },
            "colorscale": [
             [
              0,
              "#0d0887"
             ],
             [
              0.1111111111111111,
              "#46039f"
             ],
             [
              0.2222222222222222,
              "#7201a8"
             ],
             [
              0.3333333333333333,
              "#9c179e"
             ],
             [
              0.4444444444444444,
              "#bd3786"
             ],
             [
              0.5555555555555556,
              "#d8576b"
             ],
             [
              0.6666666666666666,
              "#ed7953"
             ],
             [
              0.7777777777777778,
              "#fb9f3a"
             ],
             [
              0.8888888888888888,
              "#fdca26"
             ],
             [
              1,
              "#f0f921"
             ]
            ],
            "type": "histogram2d"
           }
          ],
          "histogram2dcontour": [
           {
            "colorbar": {
             "outlinewidth": 0,
             "ticks": ""
            },
            "colorscale": [
             [
              0,
              "#0d0887"
             ],
             [
              0.1111111111111111,
              "#46039f"
             ],
             [
              0.2222222222222222,
              "#7201a8"
             ],
             [
              0.3333333333333333,
              "#9c179e"
             ],
             [
              0.4444444444444444,
              "#bd3786"
             ],
             [
              0.5555555555555556,
              "#d8576b"
             ],
             [
              0.6666666666666666,
              "#ed7953"
             ],
             [
              0.7777777777777778,
              "#fb9f3a"
             ],
             [
              0.8888888888888888,
              "#fdca26"
             ],
             [
              1,
              "#f0f921"
             ]
            ],
            "type": "histogram2dcontour"
           }
          ],
          "mesh3d": [
           {
            "colorbar": {
             "outlinewidth": 0,
             "ticks": ""
            },
            "type": "mesh3d"
           }
          ],
          "parcoords": [
           {
            "line": {
             "colorbar": {
              "outlinewidth": 0,
              "ticks": ""
             }
            },
            "type": "parcoords"
           }
          ],
          "pie": [
           {
            "automargin": true,
            "type": "pie"
           }
          ],
          "scatter": [
           {
            "fillpattern": {
             "fillmode": "overlay",
             "size": 10,
             "solidity": 0.2
            },
            "type": "scatter"
           }
          ],
          "scatter3d": [
           {
            "line": {
             "colorbar": {
              "outlinewidth": 0,
              "ticks": ""
             }
            },
            "marker": {
             "colorbar": {
              "outlinewidth": 0,
              "ticks": ""
             }
            },
            "type": "scatter3d"
           }
          ],
          "scattercarpet": [
           {
            "marker": {
             "colorbar": {
              "outlinewidth": 0,
              "ticks": ""
             }
            },
            "type": "scattercarpet"
           }
          ],
          "scattergeo": [
           {
            "marker": {
             "colorbar": {
              "outlinewidth": 0,
              "ticks": ""
             }
            },
            "type": "scattergeo"
           }
          ],
          "scattergl": [
           {
            "marker": {
             "colorbar": {
              "outlinewidth": 0,
              "ticks": ""
             }
            },
            "type": "scattergl"
           }
          ],
          "scattermapbox": [
           {
            "marker": {
             "colorbar": {
              "outlinewidth": 0,
              "ticks": ""
             }
            },
            "type": "scattermapbox"
           }
          ],
          "scatterpolar": [
           {
            "marker": {
             "colorbar": {
              "outlinewidth": 0,
              "ticks": ""
             }
            },
            "type": "scatterpolar"
           }
          ],
          "scatterpolargl": [
           {
            "marker": {
             "colorbar": {
              "outlinewidth": 0,
              "ticks": ""
             }
            },
            "type": "scatterpolargl"
           }
          ],
          "scatterternary": [
           {
            "marker": {
             "colorbar": {
              "outlinewidth": 0,
              "ticks": ""
             }
            },
            "type": "scatterternary"
           }
          ],
          "surface": [
           {
            "colorbar": {
             "outlinewidth": 0,
             "ticks": ""
            },
            "colorscale": [
             [
              0,
              "#0d0887"
             ],
             [
              0.1111111111111111,
              "#46039f"
             ],
             [
              0.2222222222222222,
              "#7201a8"
             ],
             [
              0.3333333333333333,
              "#9c179e"
             ],
             [
              0.4444444444444444,
              "#bd3786"
             ],
             [
              0.5555555555555556,
              "#d8576b"
             ],
             [
              0.6666666666666666,
              "#ed7953"
             ],
             [
              0.7777777777777778,
              "#fb9f3a"
             ],
             [
              0.8888888888888888,
              "#fdca26"
             ],
             [
              1,
              "#f0f921"
             ]
            ],
            "type": "surface"
           }
          ],
          "table": [
           {
            "cells": {
             "fill": {
              "color": "#EBF0F8"
             },
             "line": {
              "color": "white"
             }
            },
            "header": {
             "fill": {
              "color": "#C8D4E3"
             },
             "line": {
              "color": "white"
             }
            },
            "type": "table"
           }
          ]
         },
         "layout": {
          "annotationdefaults": {
           "arrowcolor": "#2a3f5f",
           "arrowhead": 0,
           "arrowwidth": 1
          },
          "autotypenumbers": "strict",
          "coloraxis": {
           "colorbar": {
            "outlinewidth": 0,
            "ticks": ""
           }
          },
          "colorscale": {
           "diverging": [
            [
             0,
             "#8e0152"
            ],
            [
             0.1,
             "#c51b7d"
            ],
            [
             0.2,
             "#de77ae"
            ],
            [
             0.3,
             "#f1b6da"
            ],
            [
             0.4,
             "#fde0ef"
            ],
            [
             0.5,
             "#f7f7f7"
            ],
            [
             0.6,
             "#e6f5d0"
            ],
            [
             0.7,
             "#b8e186"
            ],
            [
             0.8,
             "#7fbc41"
            ],
            [
             0.9,
             "#4d9221"
            ],
            [
             1,
             "#276419"
            ]
           ],
           "sequential": [
            [
             0,
             "#0d0887"
            ],
            [
             0.1111111111111111,
             "#46039f"
            ],
            [
             0.2222222222222222,
             "#7201a8"
            ],
            [
             0.3333333333333333,
             "#9c179e"
            ],
            [
             0.4444444444444444,
             "#bd3786"
            ],
            [
             0.5555555555555556,
             "#d8576b"
            ],
            [
             0.6666666666666666,
             "#ed7953"
            ],
            [
             0.7777777777777778,
             "#fb9f3a"
            ],
            [
             0.8888888888888888,
             "#fdca26"
            ],
            [
             1,
             "#f0f921"
            ]
           ],
           "sequentialminus": [
            [
             0,
             "#0d0887"
            ],
            [
             0.1111111111111111,
             "#46039f"
            ],
            [
             0.2222222222222222,
             "#7201a8"
            ],
            [
             0.3333333333333333,
             "#9c179e"
            ],
            [
             0.4444444444444444,
             "#bd3786"
            ],
            [
             0.5555555555555556,
             "#d8576b"
            ],
            [
             0.6666666666666666,
             "#ed7953"
            ],
            [
             0.7777777777777778,
             "#fb9f3a"
            ],
            [
             0.8888888888888888,
             "#fdca26"
            ],
            [
             1,
             "#f0f921"
            ]
           ]
          },
          "colorway": [
           "#636efa",
           "#EF553B",
           "#00cc96",
           "#ab63fa",
           "#FFA15A",
           "#19d3f3",
           "#FF6692",
           "#B6E880",
           "#FF97FF",
           "#FECB52"
          ],
          "font": {
           "color": "#2a3f5f"
          },
          "geo": {
           "bgcolor": "white",
           "lakecolor": "white",
           "landcolor": "#E5ECF6",
           "showlakes": true,
           "showland": true,
           "subunitcolor": "white"
          },
          "hoverlabel": {
           "align": "left"
          },
          "hovermode": "closest",
          "mapbox": {
           "style": "light"
          },
          "paper_bgcolor": "white",
          "plot_bgcolor": "#E5ECF6",
          "polar": {
           "angularaxis": {
            "gridcolor": "white",
            "linecolor": "white",
            "ticks": ""
           },
           "bgcolor": "#E5ECF6",
           "radialaxis": {
            "gridcolor": "white",
            "linecolor": "white",
            "ticks": ""
           }
          },
          "scene": {
           "xaxis": {
            "backgroundcolor": "#E5ECF6",
            "gridcolor": "white",
            "gridwidth": 2,
            "linecolor": "white",
            "showbackground": true,
            "ticks": "",
            "zerolinecolor": "white"
           },
           "yaxis": {
            "backgroundcolor": "#E5ECF6",
            "gridcolor": "white",
            "gridwidth": 2,
            "linecolor": "white",
            "showbackground": true,
            "ticks": "",
            "zerolinecolor": "white"
           },
           "zaxis": {
            "backgroundcolor": "#E5ECF6",
            "gridcolor": "white",
            "gridwidth": 2,
            "linecolor": "white",
            "showbackground": true,
            "ticks": "",
            "zerolinecolor": "white"
           }
          },
          "shapedefaults": {
           "line": {
            "color": "#2a3f5f"
           }
          },
          "ternary": {
           "aaxis": {
            "gridcolor": "white",
            "linecolor": "white",
            "ticks": ""
           },
           "baxis": {
            "gridcolor": "white",
            "linecolor": "white",
            "ticks": ""
           },
           "bgcolor": "#E5ECF6",
           "caxis": {
            "gridcolor": "white",
            "linecolor": "white",
            "ticks": ""
           }
          },
          "title": {
           "x": 0.05
          },
          "xaxis": {
           "automargin": true,
           "gridcolor": "white",
           "linecolor": "white",
           "ticks": "",
           "title": {
            "standoff": 15
           },
           "zerolinecolor": "white",
           "zerolinewidth": 2
          },
          "yaxis": {
           "automargin": true,
           "gridcolor": "white",
           "linecolor": "white",
           "ticks": "",
           "title": {
            "standoff": 15
           },
           "zerolinecolor": "white",
           "zerolinewidth": 2
          }
         }
        }
       }
      }
     },
     "metadata": {},
     "output_type": "display_data"
    },
    {
     "data": {
      "text/plain": [
       "(None, None)"
      ]
     },
     "execution_count": 4,
     "metadata": {},
     "output_type": "execute_result"
    },
    {
     "data": {
      "text/plain": [
       "<Figure size 360x360 with 0 Axes>"
      ]
     },
     "metadata": {},
     "output_type": "display_data"
    }
   ],
   "source": [
    "# target matrix \n",
    "Ut = U3Gate(theta=pi, phi=0, lam=0).to_matrix()\n",
    "WQPT1Q.WQPT_1Q_runner(res_theta, circuits=circ_u, device=simulator, shots=1024, inter=1, Ut=Ut)"
   ]
  }
 ],
 "metadata": {
  "kernelspec": {
   "display_name": "base",
   "language": "python",
   "name": "python3"
  },
  "language_info": {
   "codemirror_mode": {
    "name": "ipython",
    "version": 3
   },
   "file_extension": ".py",
   "mimetype": "text/x-python",
   "name": "python",
   "nbconvert_exporter": "python",
   "pygments_lexer": "ipython3",
   "version": "3.9.7"
  },
  "orig_nbformat": 4,
  "vscode": {
   "interpreter": {
    "hash": "e0e8feff63ce8d1a867429cf8efe914fc8cd1b30dcff3e86b0107311e76732f2"
   }
  }
 },
 "nbformat": 4,
 "nbformat_minor": 2
}
