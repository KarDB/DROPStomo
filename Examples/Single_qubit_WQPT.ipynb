{
 "cells": [
  {
   "cell_type": "code",
   "execution_count": 1,
   "metadata": {},
   "outputs": [],
   "source": [
    "from DROPStomo import WQST1Q\n",
    "from DROPStomo import WQST2Q\n",
    "from DROPStomo import WQPT1Q\n",
    "\n",
    "from turtle import circle\n",
    "from IPython.display import display\n",
    "import matplotlib.pyplot as plt\n",
    "import numpy as np\n",
    "import pandas as pd\n",
    "from random import randint\n",
    "import time\n",
    "from fractions import Fraction\n",
    "from math import gcd\n",
    "from numpy import pi\n",
    "from qiskit import IBMQ\n",
    "\n",
    "from qiskit import QuantumCircuit, Aer, execute\n",
    "from qiskit.visualization import plot_histogram, plot_bloch_multivector, plot_state_qsphere, visualize_transition, plot_bloch_vector\n",
    "from qiskit.circuit.library import *\n",
    "from qiskit import (QuantumRegister, ClassicalRegister, QuantumCircuit,\n",
    "    execute, Aer, compiler)\n",
    "from qiskit.tools.monitor import job_monitor\n",
    "from qiskit.tools import job_monitor, backend_monitor, backend_overview\n",
    "from qiskit.quantum_info import Statevector\n",
    "from qiskit.visualization import exceptions\n",
    "from qiskit.visualization import latex as _latex\n",
    "from qiskit.visualization import text as _text\n",
    "from qiskit.visualization import utils\n",
    "from qiskit.visualization import matplotlib as _matplotlib\n",
    "import matplotlib as mpl\n",
    "\n",
    "from qiskit import QuantumCircuit\n",
    "from qiskit import Aer, transpile\n",
    "from qiskit.tools.visualization import plot_histogram, plot_state_city\n",
    "import qiskit.quantum_info as qi"
   ]
  },
  {
   "cell_type": "code",
   "execution_count": 2,
   "metadata": {},
   "outputs": [],
   "source": [
    "# Provide the simulator and the actual quantum device (qudevice5) name. For example ibmq_armonk is our system here which is a single qubit quantum processor. \n",
    "simulator = Aer.get_backend('qasm_simulator')"
   ]
  },
  {
   "cell_type": "code",
   "execution_count": 3,
   "metadata": {},
   "outputs": [
    {
     "data": {
      "text/html": [
       "<pre style=\"word-wrap: normal;white-space: pre;background: #fff0;line-height: 1.1;font-family: &quot;Courier New&quot;,Courier,monospace\">        ┌───┐                ░               ░ ┌──────────────┐ ░ ┌─┐   \n",
       "   q_0: ┤ H ├───────■────────░───────────────░─┤ U3(-π/2,0,0) ├─░─┤M├───\n",
       "        └───┘┌──────┴──────┐ ░ ┌───────────┐ ░ └──────────────┘ ░ └╥┘┌─┐\n",
       "   q_1: ─────┤ U3(π/2,0,0) ├─░─┤ U3(0,0,0) ├─░──────────────────░──╫─┤M├\n",
       "             └─────────────┘ ░ └───────────┘ ░                  ░  ║ └╥┘\n",
       "meas: 2/═══════════════════════════════════════════════════════════╩══╩═\n",
       "                                                                   0  1 </pre>"
      ],
      "text/plain": [
       "        ┌───┐                ░               ░ ┌──────────────┐ ░ ┌─┐   \n",
       "   q_0: ┤ H ├───────■────────░───────────────░─┤ U3(-π/2,0,0) ├─░─┤M├───\n",
       "        └───┘┌──────┴──────┐ ░ ┌───────────┐ ░ └──────────────┘ ░ └╥┘┌─┐\n",
       "   q_1: ─────┤ U3(π/2,0,0) ├─░─┤ U3(0,0,0) ├─░──────────────────░──╫─┤M├\n",
       "             └─────────────┘ ░ └───────────┘ ░                  ░  ║ └╥┘\n",
       "meas: 2/═══════════════════════════════════════════════════════════╩══╩═\n",
       "                                                                   0  1 "
      ]
     },
     "metadata": {},
     "output_type": "display_data"
    },
    {
     "data": {
      "text/html": [
       "<pre style=\"word-wrap: normal;white-space: pre;background: #fff0;line-height: 1.1;font-family: &quot;Courier New&quot;,Courier,monospace\">        ┌───┐                ░               ░ ┌──────────────┐ ░ ┌─┐   \n",
       "   q_0: ┤ H ├───────■────────░───────────────░─┤ U3(-π/2,0,0) ├─░─┤M├───\n",
       "        ├───┤┌──────┴──────┐ ░ ┌───────────┐ ░ └──────────────┘ ░ └╥┘┌─┐\n",
       "   q_1: ┤ X ├┤ U3(π/2,0,0) ├─░─┤ U3(0,0,0) ├─░──────────────────░──╫─┤M├\n",
       "        └───┘└─────────────┘ ░ └───────────┘ ░                  ░  ║ └╥┘\n",
       "meas: 2/═══════════════════════════════════════════════════════════╩══╩═\n",
       "                                                                   0  1 </pre>"
      ],
      "text/plain": [
       "        ┌───┐                ░               ░ ┌──────────────┐ ░ ┌─┐   \n",
       "   q_0: ┤ H ├───────■────────░───────────────░─┤ U3(-π/2,0,0) ├─░─┤M├───\n",
       "        ├───┤┌──────┴──────┐ ░ ┌───────────┐ ░ └──────────────┘ ░ └╥┘┌─┐\n",
       "   q_1: ┤ X ├┤ U3(π/2,0,0) ├─░─┤ U3(0,0,0) ├─░──────────────────░──╫─┤M├\n",
       "        └───┘└─────────────┘ ░ └───────────┘ ░                  ░  ║ └╥┘\n",
       "meas: 2/═══════════════════════════════════════════════════════════╩══╩═\n",
       "                                                                   0  1 "
      ]
     },
     "metadata": {},
     "output_type": "display_data"
    },
    {
     "data": {
      "text/html": [
       "<pre style=\"word-wrap: normal;white-space: pre;background: #fff0;line-height: 1.1;font-family: &quot;Courier New&quot;,Courier,monospace\">        ┌───┐                ░               ░ ┌───────────────┐ ░ ┌─┐   \n",
       "   q_0: ┤ H ├───────■────────░───────────────░─┤ U3(π/2,0,π/2) ├─░─┤M├───\n",
       "        └───┘┌──────┴──────┐ ░ ┌───────────┐ ░ └───────────────┘ ░ └╥┘┌─┐\n",
       "   q_1: ─────┤ U3(π/2,0,0) ├─░─┤ U3(0,0,0) ├─░───────────────────░──╫─┤M├\n",
       "             └─────────────┘ ░ └───────────┘ ░                   ░  ║ └╥┘\n",
       "meas: 2/════════════════════════════════════════════════════════════╩══╩═\n",
       "                                                                    0  1 </pre>"
      ],
      "text/plain": [
       "        ┌───┐                ░               ░ ┌───────────────┐ ░ ┌─┐   \n",
       "   q_0: ┤ H ├───────■────────░───────────────░─┤ U3(π/2,0,π/2) ├─░─┤M├───\n",
       "        └───┘┌──────┴──────┐ ░ ┌───────────┐ ░ └───────────────┘ ░ └╥┘┌─┐\n",
       "   q_1: ─────┤ U3(π/2,0,0) ├─░─┤ U3(0,0,0) ├─░───────────────────░──╫─┤M├\n",
       "             └─────────────┘ ░ └───────────┘ ░                   ░  ║ └╥┘\n",
       "meas: 2/════════════════════════════════════════════════════════════╩══╩═\n",
       "                                                                    0  1 "
      ]
     },
     "metadata": {},
     "output_type": "display_data"
    },
    {
     "data": {
      "text/html": [
       "<pre style=\"word-wrap: normal;white-space: pre;background: #fff0;line-height: 1.1;font-family: &quot;Courier New&quot;,Courier,monospace\">        ┌───┐                ░               ░ ┌───────────────┐ ░ ┌─┐   \n",
       "   q_0: ┤ H ├───────■────────░───────────────░─┤ U3(π/2,0,π/2) ├─░─┤M├───\n",
       "        ├───┤┌──────┴──────┐ ░ ┌───────────┐ ░ └───────────────┘ ░ └╥┘┌─┐\n",
       "   q_1: ┤ X ├┤ U3(π/2,0,0) ├─░─┤ U3(0,0,0) ├─░───────────────────░──╫─┤M├\n",
       "        └───┘└─────────────┘ ░ └───────────┘ ░                   ░  ║ └╥┘\n",
       "meas: 2/════════════════════════════════════════════════════════════╩══╩═\n",
       "                                                                    0  1 </pre>"
      ],
      "text/plain": [
       "        ┌───┐                ░               ░ ┌───────────────┐ ░ ┌─┐   \n",
       "   q_0: ┤ H ├───────■────────░───────────────░─┤ U3(π/2,0,π/2) ├─░─┤M├───\n",
       "        ├───┤┌──────┴──────┐ ░ ┌───────────┐ ░ └───────────────┘ ░ └╥┘┌─┐\n",
       "   q_1: ┤ X ├┤ U3(π/2,0,0) ├─░─┤ U3(0,0,0) ├─░───────────────────░──╫─┤M├\n",
       "        └───┘└─────────────┘ ░ └───────────┘ ░                   ░  ║ └╥┘\n",
       "meas: 2/════════════════════════════════════════════════════════════╩══╩═\n",
       "                                                                    0  1 "
      ]
     },
     "metadata": {},
     "output_type": "display_data"
    },
    {
     "name": "stdout",
     "output_type": "stream",
     "text": [
      "Total number of ciruits for WQPT for single qubit are:480\n"
     ]
    }
   ],
   "source": [
    "# gate to tomograph\n",
    "Up = U3Gate(theta=pi/2, phi=0, lam=0) \n",
    "# resolution for scanning (only polar angles)\n",
    "res_theta = 8\n",
    "circ_u = WQPT1Q.WQPT_1Q_circuits(res_theta,Up)"
   ]
  },
  {
   "cell_type": "code",
   "execution_count": 5,
   "metadata": {},
   "outputs": [
    {
     "name": "stdout",
     "output_type": "stream",
     "text": [
      "Job 0 of 2\n",
      "Job Status: job has successfully run\n"
     ]
    },
    {
     "data": {
      "text/plain": [
       "None"
      ]
     },
     "metadata": {},
     "output_type": "display_data"
    },
    {
     "name": "stdout",
     "output_type": "stream",
     "text": [
      "Job 1 of 2\n",
      "Job Status: job has successfully run\n"
     ]
    },
    {
     "data": {
      "text/plain": [
       "None"
      ]
     },
     "metadata": {},
     "output_type": "display_data"
    },
    {
     "name": "stdout",
     "output_type": "stream",
     "text": [
      "Process matrix is: [[ 0.73567072+0.00586912j -0.68552514-0.0255398j ]\n",
      " [ 0.6784775 -0.0119711j   0.73121809+0.03121367j]]\n",
      "Process fidelity is: 1.0010314696613682\n"
     ]
    },
    {
     "data": {
      "image/png": "[encoded data removed]",
      "text/plain": [
       "<Figure size 432x288 with 4 Axes>"
      ]
     },
     "metadata": {
      "needs_background": "light"
     },
     "output_type": "display_data"
    },
    {
     "data": {
      "application/vnd.plotly.v1+json": {
       "config": {
        "plotlyServerURL": "https://plot.ly"
       },
       "data": [
        {
         "cmax": 6.283185307179586,
         "cmid": 3.141592653589793,
         "cmin": 0,
         "colorscale": [
          [
           0,
           "rgb(255, 0, 0)"
          ],
          [
           0.003937007874015748,
           "rgb(255, 12, 0)"
          ],
          [
           0.007874015748031496,
           "rgb(255, 19, 0)"
          ],
          [
           0.011811023622047244,
           "rgb(255, 26, 0)"
          ],
          [
           0.015748031496062992,
           "rgb(255, 32, 0)"
          ],
          [
           0.01968503937007874,
           "rgb(255, 38, 0)"
          ],
          [
           0.023622047244094488,
           "rgb(255, 43, 0)"
          ],
          [
           0.027559055118110236,
           "rgb(255, 49, 0)"
          ],
          [
           0.031496062992125984,
           "rgb(255, 54, 0)"
          ],
          [
           0.03543307086614173,
           "rgb(255, 59, 0)"
          ],
          [
           0.03937007874015748,
           "rgb(255, 64, 0)"
          ],
          [
           0.04330708661417323,
           "rgb(255, 68, 0)"
          ],
          [
           0.047244094488188976,
           "rgb(255, 73, 0)"
          ],
          [
           0.051181102362204724,
           "rgb(255, 78, 0)"
          ],
          [
           0.05511811023622047,
           "rgb(255, 82, 0)"
          ],
          [
           0.05905511811023622,
           "rgb(255, 87, 0)"
          ],
          [
           0.06299212598425197,
           "rgb(255, 92, 0)"
          ],
          [
           0.06692913385826772,
           "rgb(255, 96, 0)"
          ],
          [
           0.07086614173228346,
           "rgb(255, 100, 0)"
          ],
          [
           0.07480314960629922,
           "rgb(255, 105, 0)"
          ],
          [
           0.07874015748031496,
           "rgb(255, 109, 0)"
          ],
          [
           0.08267716535433071,
           "rgb(255, 113, 0)"
          ],
          [
           0.08661417322834646,
           "rgb(255, 118, 0)"
          ],
          [
           0.09055118110236221,
           "rgb(255, 122, 0)"
          ],
          [
           0.09448818897637795,
           "rgb(255, 126, 0)"
          ],
          [
           0.0984251968503937,
           "rgb(255, 130, 0)"
          ],
          [
           0.10236220472440945,
           "rgb(255, 134, 0)"
          ],
          [
           0.1062992125984252,
           "rgb(255, 138, 0)"
          ],
          [
           0.11023622047244094,
           "rgb(255, 142, 0)"
          ],
          [
           0.1141732283464567,
           "rgb(255, 146, 0)"
          ],
          [
           0.11811023622047244,
           "rgb(255, 150, 0)"
          ],
          [
           0.1220472440944882,
           "rgb(255, 154, 0)"
          ],
          [
           0.12598425196850394,
           "rgb(255, 158, 0)"
          ],
          [
           0.12992125984251968,
           "rgb(255, 162, 0)"
          ],
          [
           0.13385826771653545,
           "rgb(255, 166, 0)"
          ],
          [
           0.1377952755905512,
           "rgb(255, 169, 0)"
          ],
          [
           0.14173228346456693,
           "rgb(255, 173, 0)"
          ],
          [
           0.14566929133858267,
           "rgb(255, 177, 0)"
          ],
          [
           0.14960629921259844,
           "rgb(255, 180, 0)"
          ],
          [
           0.15354330708661418,
           "rgb(255, 184, 0)"
          ],
          [
           0.15748031496062992,
           "rgb(255, 187, 0)"
          ],
          [
           0.16141732283464566,
           "rgb(255, 191, 0)"
          ],
          [
           0.16535433070866143,
           "rgb(255, 194, 0)"
          ],
          [
           0.16929133858267717,
           "rgb(255, 198, 0)"
          ],
          [
           0.1732283464566929,
           "rgb(255, 201, 0)"
          ],
          [
           0.17716535433070865,
           "rgb(255, 204, 0)"
          ],
          [
           0.18110236220472442,
           "rgb(255, 207, 0)"
          ],
          [
           0.18503937007874016,
           "rgb(255, 211, 0)"
          ],
          [
           0.1889763779527559,
           "rgb(255, 214, 0)"
          ],
          [
           0.19291338582677164,
           "rgb(255, 217, 0)"
          ],
          [
           0.1968503937007874,
           "rgb(255, 220, 0)"
          ],
          [
           0.20078740157480315,
           "rgb(255, 223, 0)"
          ],
          [
           0.2047244094488189,
           "rgb(255, 226, 0)"
          ],
          [
           0.20866141732283464,
           "rgb(255, 228, 0)"
          ],
          [
           0.2125984251968504,
           "rgb(255, 231, 0)"
          ],
          [
           0.21653543307086615,
           "rgb(255, 234, 0)"
          ],
          [
           0.2204724409448819,
           "rgb(255, 237, 0)"
          ],
          [
           0.22440944881889763,
           "rgb(255, 239, 0)"
          ],
          [
           0.2283464566929134,
           "rgb(255, 242, 0)"
          ],
          [
           0.23228346456692914,
           "rgb(255, 244, 0)"
          ],
          [
           0.23622047244094488,
           "rgb(255, 247, 0)"
          ],
          [
           0.24015748031496062,
           "rgb(255, 249, 0)"
          ],
          [
           0.2440944881889764,
           "rgb(255, 252, 0)"
          ],
          [
           0.24803149606299213,
           "rgb(255, 254, 0)"
          ],
          [
           0.25196850393700787,
           "rgb(254, 255, 0)"
          ],
          [
           0.2559055118110236,
           "rgb(252, 255, 0)"
          ],
          [
           0.25984251968503935,
           "rgb(249, 255, 0)"
          ],
          [
           0.2637795275590551,
           "rgb(247, 255, 0)"
          ],
          [
           0.2677165354330709,
           "rgb(244, 255, 0)"
          ],
          [
           0.27165354330708663,
           "rgb(242, 255, 0)"
          ],
          [
           0.2755905511811024,
           "rgb(239, 255, 0)"
          ],
          [
           0.2795275590551181,
           "rgb(237, 255, 0)"
          ],
          [
           0.28346456692913385,
           "rgb(234, 255, 0)"
          ],
          [
           0.2874015748031496,
           "rgb(231, 255, 0)"
          ],
          [
           0.29133858267716534,
           "rgb(228, 255, 0)"
          ],
          [
           0.2952755905511811,
           "rgb(226, 255, 0)"
          ],
          [
           0.2992125984251969,
           "rgb(223, 255, 0)"
          ],
          [
           0.3031496062992126,
           "rgb(220, 255, 0)"
          ],
          [
           0.30708661417322836,
           "rgb(217, 255, 0)"
          ],
          [
           0.3110236220472441,
           "rgb(214, 255, 0)"
          ],
          [
           0.31496062992125984,
           "rgb(211, 255, 0)"
          ],
          [
           0.3188976377952756,
           "rgb(207, 255, 0)"
          ],
          [
           0.3228346456692913,
           "rgb(204, 255, 0)"
          ],
          [
           0.32677165354330706,
           "rgb(201, 255, 0)"
          ],
          [
           0.33070866141732286,
           "rgb(198, 255, 0)"
          ],
          [
           0.3346456692913386,
           "rgb(194, 255, 0)"
          ],
          [
           0.33858267716535434,
           "rgb(191, 255, 0)"
          ],
          [
           0.3425196850393701,
           "rgb(187, 255, 0)"
          ],
          [
           0.3464566929133858,
           "rgb(184, 255, 0)"
          ],
          [
           0.35039370078740156,
           "rgb(180, 255, 0)"
          ],
          [
           0.3543307086614173,
           "rgb(177, 255, 0)"
          ],
          [
           0.35826771653543305,
           "rgb(173, 255, 0)"
          ],
          [
           0.36220472440944884,
           "rgb(169, 255, 0)"
          ],
          [
           0.3661417322834646,
           "rgb(166, 255, 0)"
          ],
          [
           0.3700787401574803,
           "rgb(162, 255, 0)"
          ],
          [
           0.37401574803149606,
           "rgb(158, 255, 0)"
          ],
          [
           0.3779527559055118,
           "rgb(154, 255, 0)"
          ],
          [
           0.38188976377952755,
           "rgb(150, 255, 0)"
          ],
          [
           0.3858267716535433,
           "rgb(146, 255, 0)"
          ],
          [
           0.38976377952755903,
           "rgb(142, 255, 0)"
          ],
          [
           0.3937007874015748,
           "rgb(138, 255, 0)"
          ],
          [
           0.39763779527559057,
           "rgb(134, 255, 0)"
          ],
          [
           0.4015748031496063,
           "rgb(130, 255, 0)"
          ],
          [
           0.40551181102362205,
           "rgb(126, 255, 0)"
          ],
          [
           0.4094488188976378,
           "rgb(122, 255, 0)"
          ],
          [
           0.41338582677165353,
           "rgb(118, 255, 0)"
          ],
          [
           0.41732283464566927,
           "rgb(113, 255, 0)"
          ],
          [
           0.421259842519685,
           "rgb(109, 255, 0)"
          ],
          [
           0.4251968503937008,
           "rgb(105, 255, 0)"
          ],
          [
           0.42913385826771655,
           "rgb(100, 255, 0)"
          ],
          [
           0.4330708661417323,
           "rgb(96, 255, 0)"
          ],
          [
           0.43700787401574803,
           "rgb(92, 255, 0)"
          ],
          [
           0.4409448818897638,
           "rgb(87, 255, 0)"
          ],
          [
           0.4448818897637795,
           "rgb(82, 255, 0)"
          ],
          [
           0.44881889763779526,
           "rgb(78, 255, 0)"
          ],
          [
           0.452755905511811,
           "rgb(73, 255, 0)"
          ],
          [
           0.4566929133858268,
           "rgb(68, 255, 0)"
          ],
          [
           0.46062992125984253,
           "rgb(64, 255, 0)"
          ],
          [
           0.4645669291338583,
           "rgb(59, 255, 0)"
          ],
          [
           0.468503937007874,
           "rgb(54, 255, 0)"
          ],
          [
           0.47244094488188976,
           "rgb(49, 255, 0)"
          ],
          [
           0.4763779527559055,
           "rgb(43, 255, 0)"
          ],
          [
           0.48031496062992124,
           "rgb(38, 255, 0)"
          ],
          [
           0.484251968503937,
           "rgb(32, 255, 0)"
          ],
          [
           0.4881889763779528,
           "rgb(26, 255, 0)"
          ],
          [
           0.4921259842519685,
           "rgb(19, 255, 0)"
          ],
          [
           0.49606299212598426,
           "rgb(12, 255, 0)"
          ],
          [
           0.5,
           "rgb(1, 255, 0)"
          ],
          [
           0.5039370078740157,
           "rgb(0, 253, 8)"
          ],
          [
           0.5078740157480315,
           "rgb(0, 250, 15)"
          ],
          [
           0.5118110236220472,
           "rgb(0, 248, 21)"
          ],
          [
           0.515748031496063,
           "rgb(0, 246, 27)"
          ],
          [
           0.5196850393700787,
           "rgb(0, 243, 33)"
          ],
          [
           0.5236220472440944,
           "rgb(0, 241, 40)"
          ],
          [
           0.5275590551181102,
           "rgb(0, 238, 46)"
          ],
          [
           0.531496062992126,
           "rgb(0, 235, 53)"
          ],
          [
           0.5354330708661418,
           "rgb(0, 233, 60)"
          ],
          [
           0.5393700787401575,
           "rgb(0, 230, 67)"
          ],
          [
           0.5433070866141733,
           "rgb(0, 227, 74)"
          ],
          [
           0.547244094488189,
           "rgb(0, 224, 81)"
          ],
          [
           0.5511811023622047,
           "rgb(0, 221, 89)"
          ],
          [
           0.5551181102362205,
           "rgb(0, 218, 96)"
          ],
          [
           0.5590551181102362,
           "rgb(0, 215, 103)"
          ],
          [
           0.562992125984252,
           "rgb(0, 212, 111)"
          ],
          [
           0.5669291338582677,
           "rgb(0, 209, 118)"
          ],
          [
           0.5708661417322834,
           "rgb(0, 206, 126)"
          ],
          [
           0.5748031496062992,
           "rgb(0, 202, 133)"
          ],
          [
           0.5787401574803149,
           "rgb(0, 199, 140)"
          ],
          [
           0.5826771653543307,
           "rgb(0, 196, 148)"
          ],
          [
           0.5866141732283464,
           "rgb(0, 192, 155)"
          ],
          [
           0.5905511811023622,
           "rgb(0, 189, 163)"
          ],
          [
           0.594488188976378,
           "rgb(0, 186, 170)"
          ],
          [
           0.5984251968503937,
           "rgb(0, 182, 174)"
          ],
          [
           0.6023622047244095,
           "rgb(0, 178, 178)"
          ],
          [
           0.6062992125984252,
           "rgb(0, 175, 182)"
          ],
          [
           0.610236220472441,
           "rgb(0, 171, 186)"
          ],
          [
           0.6141732283464567,
           "rgb(0, 167, 190)"
          ],
          [
           0.6181102362204725,
           "rgb(0, 164, 194)"
          ],
          [
           0.6220472440944882,
           "rgb(0, 160, 197)"
          ],
          [
           0.6259842519685039,
           "rgb(0, 156, 201)"
          ],
          [
           0.6299212598425197,
           "rgb(0, 152, 204)"
          ],
          [
           0.6338582677165354,
           "rgb(0, 148, 208)"
          ],
          [
           0.6377952755905512,
           "rgb(0, 144, 211)"
          ],
          [
           0.6417322834645669,
           "rgb(0, 140, 214)"
          ],
          [
           0.6456692913385826,
           "rgb(0, 136, 217)"
          ],
          [
           0.6496062992125984,
           "rgb(0, 132, 220)"
          ],
          [
           0.6535433070866141,
           "rgb(0, 128, 222)"
          ],
          [
           0.65748031496063,
           "rgb(0, 124, 225)"
          ],
          [
           0.6614173228346457,
           "rgb(0, 120, 227)"
          ],
          [
           0.6653543307086615,
           "rgb(0, 116, 230)"
          ],
          [
           0.6692913385826772,
           "rgb(0, 111, 232)"
          ],
          [
           0.6732283464566929,
           "rgb(0, 107, 234)"
          ],
          [
           0.6771653543307087,
           "rgb(0, 103, 236)"
          ],
          [
           0.6811023622047244,
           "rgb(0, 98, 238)"
          ],
          [
           0.6850393700787402,
           "rgb(0, 94, 240)"
          ],
          [
           0.6889763779527559,
           "rgb(0, 89, 242)"
          ],
          [
           0.6929133858267716,
           "rgb(0, 85, 244)"
          ],
          [
           0.6968503937007874,
           "rgb(0, 80, 245)"
          ],
          [
           0.7007874015748031,
           "rgb(0, 76, 246)"
          ],
          [
           0.7047244094488189,
           "rgb(0, 71, 248)"
          ],
          [
           0.7086614173228346,
           "rgb(0, 66, 249)"
          ],
          [
           0.7125984251968503,
           "rgb(0, 61, 250)"
          ],
          [
           0.7165354330708661,
           "rgb(0, 56, 251)"
          ],
          [
           0.7204724409448819,
           "rgb(0, 51, 252)"
          ],
          [
           0.7244094488188977,
           "rgb(0, 46, 253)"
          ],
          [
           0.7283464566929134,
           "rgb(0, 41, 253)"
          ],
          [
           0.7322834645669292,
           "rgb(0, 35, 254)"
          ],
          [
           0.7362204724409449,
           "rgb(0, 29, 254)"
          ],
          [
           0.7401574803149606,
           "rgb(0, 23, 255)"
          ],
          [
           0.7440944881889764,
           "rgb(0, 16, 255)"
          ],
          [
           0.7480314960629921,
           "rgb(0, 7, 255)"
          ],
          [
           0.7519685039370079,
           "rgb(7, 0, 255)"
          ],
          [
           0.7559055118110236,
           "rgb(16, 0, 255)"
          ],
          [
           0.7598425196850394,
           "rgb(23, 0, 255)"
          ],
          [
           0.7637795275590551,
           "rgb(29, 0, 254)"
          ],
          [
           0.7677165354330708,
           "rgb(35, 0, 254)"
          ],
          [
           0.7716535433070866,
           "rgb(41, 0, 253)"
          ],
          [
           0.7755905511811023,
           "rgb(46, 0, 253)"
          ],
          [
           0.7795275590551181,
           "rgb(51, 0, 252)"
          ],
          [
           0.7834645669291339,
           "rgb(56, 0, 251)"
          ],
          [
           0.7874015748031497,
           "rgb(61, 0, 250)"
          ],
          [
           0.7913385826771654,
           "rgb(66, 0, 249)"
          ],
          [
           0.7952755905511811,
           "rgb(71, 0, 248)"
          ],
          [
           0.7992125984251969,
           "rgb(76, 0, 246)"
          ],
          [
           0.8031496062992126,
           "rgb(80, 0, 245)"
          ],
          [
           0.8070866141732284,
           "rgb(85, 0, 244)"
          ],
          [
           0.8110236220472441,
           "rgb(89, 0, 242)"
          ],
          [
           0.8149606299212598,
           "rgb(94, 0, 240)"
          ],
          [
           0.8188976377952756,
           "rgb(98, 0, 238)"
          ],
          [
           0.8228346456692913,
           "rgb(103, 0, 236)"
          ],
          [
           0.8267716535433071,
           "rgb(107, 0, 234)"
          ],
          [
           0.8307086614173228,
           "rgb(111, 0, 232)"
          ],
          [
           0.8346456692913385,
           "rgb(116, 0, 230)"
          ],
          [
           0.8385826771653543,
           "rgb(120, 0, 227)"
          ],
          [
           0.84251968503937,
           "rgb(124, 0, 225)"
          ],
          [
           0.8464566929133859,
           "rgb(128, 0, 219)"
          ],
          [
           0.8503937007874016,
           "rgb(132, 0, 213)"
          ],
          [
           0.8543307086614174,
           "rgb(136, 0, 206)"
          ],
          [
           0.8582677165354331,
           "rgb(140, 0, 199)"
          ],
          [
           0.8622047244094488,
           "rgb(144, 0, 192)"
          ],
          [
           0.8661417322834646,
           "rgb(148, 0, 185)"
          ],
          [
           0.8700787401574803,
           "rgb(152, 0, 178)"
          ],
          [
           0.8740157480314961,
           "rgb(156, 0, 171)"
          ],
          [
           0.8779527559055118,
           "rgb(160, 0, 163)"
          ],
          [
           0.8818897637795275,
           "rgb(164, 0, 156)"
          ],
          [
           0.8858267716535433,
           "rgb(167, 0, 148)"
          ],
          [
           0.889763779527559,
           "rgb(171, 0, 141)"
          ],
          [
           0.8937007874015748,
           "rgb(175, 0, 134)"
          ],
          [
           0.8976377952755905,
           "rgb(178, 0, 126)"
          ],
          [
           0.9015748031496063,
           "rgb(182, 0, 119)"
          ],
          [
           0.905511811023622,
           "rgb(186, 0, 111)"
          ],
          [
           0.9094488188976378,
           "rgb(189, 0, 104)"
          ],
          [
           0.9133858267716536,
           "rgb(192, 0, 96)"
          ],
          [
           0.9173228346456693,
           "rgb(196, 0, 89)"
          ],
          [
           0.9212598425196851,
           "rgb(199, 0, 82)"
          ],
          [
           0.9251968503937008,
           "rgb(202, 0, 75)"
          ],
          [
           0.9291338582677166,
           "rgb(206, 0, 67)"
          ],
          [
           0.9330708661417323,
           "rgb(209, 0, 60)"
          ],
          [
           0.937007874015748,
           "rgb(212, 0, 54)"
          ],
          [
           0.9409448818897638,
           "rgb(215, 0, 47)"
          ],
          [
           0.9448818897637795,
           "rgb(218, 0, 40)"
          ],
          [
           0.9488188976377953,
           "rgb(221, 0, 34)"
          ],
          [
           0.952755905511811,
           "rgb(224, 0, 27)"
          ],
          [
           0.9566929133858267,
           "rgb(227, 0, 21)"
          ],
          [
           0.9606299212598425,
           "rgb(230, 0, 15)"
          ],
          [
           0.9645669291338582,
           "rgb(233, 0, 9)"
          ],
          [
           0.968503937007874,
           "rgb(235, 0, 1)"
          ],
          [
           0.9724409448818898,
           "rgb(238, 0, 0)"
          ],
          [
           0.9763779527559056,
           "rgb(241, 0, 0)"
          ],
          [
           0.9803149606299213,
           "rgb(243, 0, 0)"
          ],
          [
           0.984251968503937,
           "rgb(246, 0, 0)"
          ],
          [
           0.9881889763779528,
           "rgb(248, 0, 0)"
          ],
          [
           0.9921259842519685,
           "rgb(250, 0, 0)"
          ],
          [
           0.9960629921259843,
           "rgb(253, 0, 0)"
          ],
          [
           1,
           "rgb(255, 0, 0)"
          ]
         ],
         "opacity": 1,
         "scene": "scene",
         "surfacecolor": [
          [
           -0.015623728620476845,
           0.04107277859045407,
           0.154996741923941,
           -0.08550529367820468,
           -0.0867383386759852,
           0,
           0.11379200714370809,
           -0.024385409172718555,
           0.13352904909187144,
           0,
           0.11487660541689917,
           0.03844259002118798,
           0.03029375991877513,
           -0.15264932839526515,
           0.15808997112168577
          ],
          [
           -0.10566558209985584,
           0.14392544938821633,
           -0.07878396098914382,
           0.01351269101332819,
           -0.08931399299322225,
           -0.14189705460416385,
           -0.044089057398071806,
           -0.013157135472755752,
           0,
           -0.014924264990085,
           -0.2782996590051113,
           0.062418809995957364,
           -0.04345089539153084,
           0.025968187211556408,
           -0.1495597398737032
          ],
          [
           0.22347660114063297,
           0.11202896242598785,
           0.013887995930967087,
           0.12970253715591218,
           -0.013512691013328226,
           0.14955973987370325,
           -0.22024872339068896,
           0.04107277859045407,
           0.045423279421577006,
           -0.05627853628876197,
           0,
           0.08800737352774086,
           0.0532828515596924,
           0.02702044918726477,
           -0.04164257909858842
          ],
          [
           -0.014083575822860203,
           0.05123716740341882,
           -0.06401497783434411,
           0.17162806838088,
           -0.05328285155969237,
           0.11425432796143957,
           0.1380060236575195,
           -0.014491739065500034,
           0.16076274062583476,
           -0.08090409915523061,
           0.11542666036692478,
           0.012657551834051971,
           -0.18362232616928015,
           -0.11379200714370813,
           -0.15660187698201541
          ],
          [
           -0.02702044918726481,
           0.06320683189746024,
           0.013332543294145687,
           -0.18216831047276344,
           0.07130746478529028,
           -0.02816156698789241,
           0.09827395325600922,
           -0.09559811866384031,
           -0.16514867741462694,
           -0.10257985241829475,
           -0.08673833867598514,
           0.04164257909858846,
           0.025968187211556408,
           0.014924264990085001,
           -0.05963071313116932
          ],
          [
           -0.18948015788114736,
           0,
           0,
           0.027770636593421025,
           -0.03029375991877509,
           0,
           0.04164257909858846,
           -0.015150355874769822,
           -0.01428474258739664,
           -0.1672539374622611,
           0.0312398334302683,
           0.17623469773667583,
           0.2516899717581868,
           0.17623469773667583,
           0.0693331336882086
          ],
          [
           -0.07030646411862448,
           -0.0693331336882086,
           -0.058755822715722626,
           -0.042830932668727326,
           0.07030646411862448,
           -0.014924264990085001,
           0.05473978004988072,
           0,
           0.03844259002118802,
           0.01249934901936169,
           -0.03277514440407579,
           -0.11425432796143949,
           -0.11635516520687482,
           -0.12266865550445671,
           -0.04408905739807185
          ],
          [
           0.064014977834344,
           0.02897739385156128,
           0.12970253715591218,
           0.12266865550445671,
           0,
           -0.0532828515596924,
           0.02739040847486256,
           0.04474623145461559,
           0.15160548743827282,
           0.02739040847486256,
           0.03894134309703928,
           -0.06241880999595732,
           -0.099668652491162,
           -0.17863100651394934,
           -0.04051835247834693
          ]
         ],
         "type": "surface",
         "x": [
          [
           0,
           0,
           0,
           0,
           0,
           0,
           0,
           0,
           0,
           0,
           0,
           0,
           0,
           0,
           0
          ],
          [
           0.028720791553878917,
           0.027182916045426553,
           0.020569114976000995,
           0.007126326123770451,
           -0.006477443216485703,
           -0.01907821791762926,
           -0.02653776740816378,
           -0.032890814806329334,
           -0.026901860976093213,
           -0.018079065302815583,
           -0.006309206861635598,
           0.006174771283051521,
           0.018634253206462892,
           0.030031042420025984,
           0.03194638342279865
          ],
          [
           0.05277683895865141,
           0.056557997487488694,
           0.03500797285832062,
           0.012073870002538718,
           -0.012841195960073788,
           -0.03589143598178318,
           -0.04823561305975929,
           -0.05697082566848453,
           -0.046415724911958875,
           -0.03457315872826587,
           -0.011798940626385425,
           0.011844781708012037,
           0.03651494351009624,
           0.05200717847332786,
           0.056191728332255615
          ],
          [
           0.06904369089605444,
           0.06842223890741145,
           0.047384575662298145,
           0.01646958660980945,
           -0.016250678666457352,
           -0.037223963041417014,
           -0.06368157089128877,
           -0.06709918952236492,
           -0.06567506651580529,
           -0.04500974346592091,
           -0.01502941621976006,
           0.017094457985076805,
           0.04316314476499574,
           0.061723173884292534,
           0.07481409594337
          ],
          [
           0.07198016836488277,
           0.0693469809776121,
           0.04547281050293878,
           0.016720657556964384,
           -0.015184362750986917,
           -0.04306084208566375,
           -0.06250161720590168,
           -0.07130713340290652,
           -0.058617313551948796,
           -0.041442870020367485,
           -0.014985744100233742,
           0.015592028297014783,
           0.046697013626080204,
           0.058702356292518305,
           0.06526344226759646
          ],
          [
           0.057960132565421256,
           0.04355767629397498,
           0.036949296628718334,
           0.012497814856644139,
           -0.011457169749319384,
           -0.03305989698359007,
           -0.05062699786099263,
           -0.05147033665808587,
           -0.049183039531698745,
           -0.037965252554534916,
           -0.011110306279535243,
           0.012865790365858477,
           0.035139385894763765,
           0.05209252169898345,
           0.05627822709938225
          ],
          [
           0.030800377640639982,
           0.02813911354969113,
           0.018378573235995406,
           0.006746691294450173,
           -0.0068537287988023905,
           -0.018079065302815573,
           -0.028504083924766124,
           -0.02856060377158873,
           -0.030433284246733208,
           -0.02158622584630873,
           -0.00587702395972539,
           0.0059124161937539775,
           0.020916549320881897,
           0.028676877809156467,
           0.029454699661207392
          ],
          [
           9.5465398283168e-18,
           7.596300968347127e-18,
           5.299106806833625e-18,
           1.999081190371146e-18,
           -1.8753437742136616e-18,
           -5.719635201888197e-18,
           -8.036306695135823e-18,
           -8.191636109887688e-18,
           -8.015182307539966e-18,
           -5.561296785638687e-18,
           -2.0943627111209867e-18,
           1.7428433484591102e-18,
           5.357337507906761e-18,
           8.051361610346325e-18,
           9.045847089248059e-18
          ]
         ],
         "y": [
          [
           0,
           0,
           0,
           0,
           0,
           0,
           0,
           0,
           0,
           0,
           0,
           0,
           0,
           0,
           0
          ],
          [
           0,
           0.013090602432653345,
           0.02579285436072918,
           0.031222474784050134,
           0.028379533013125412,
           0.023923328581993038,
           0.012779915223589336,
           4.027963107391959e-18,
           -0.012955253444775217,
           -0.02267043083174469,
           -0.027642441381920506,
           -0.02705344062760203,
           -0.02336661444286854,
           -0.014462187805816746,
           -7.824607240612887e-18
          ],
          [
           0,
           0.02723689608055453,
           0.04389860946630649,
           0.052899080838123516,
           0.05626095551859495,
           0.045006437182916165,
           0.02322904697220104,
           6.976913929969145e-18,
           -0.022352635031151702,
           -0.043353369792962504,
           -0.051694536537841146,
           -0.05189537943926084,
           -0.04578829089365485,
           -0.025045337148547984,
           -1.3763004048130896e-17
          ],
          [
           0,
           0.032950413619794325,
           0.05941837849749931,
           0.07215797364553353,
           0.07119887527947073,
           0.0466773732645593,
           0.030667428227037014,
           8.217280767394582e-18,
           -0.03162744512250801,
           -0.056440433114637846,
           -0.06584817489269983,
           -0.07489571402096808,
           -0.054124871584098254,
           -0.029724313934919002,
           -1.8324168625630214e-17
          ],
          [
           0,
           0.033395745929746486,
           0.057021100812737265,
           0.07325798733848042,
           0.06652704000216629,
           0.0539965880817793,
           0.030099192480786185,
           8.73260526782428e-18,
           -0.028228610429301117,
           -0.051967715284451536,
           -0.06565683483514503,
           -0.0683131394607253,
           -0.05855620297439944,
           -0.028269564854673253,
           -1.5984933134870017e-17
          ],
          [
           0,
           0.020976271357412726,
           0.046332952476947034,
           0.05475650460560765,
           0.05019714048750842,
           0.04145579958463682,
           0.024380677196277106,
           6.303298303936154e-18,
           -0.023685303514273427,
           -0.04760692091273441,
           -0.04867743233063363,
           -0.056368710650917614,
           -0.04406339620185804,
           -0.025086436279910883,
           -1.3784190135789262e-17
          ],
          [
           0,
           0.01355108288127427,
           0.023046001900767533,
           0.029559185919671275,
           0.03002814786760086,
           0.0226704308317447,
           0.013726843350527058,
           3.497665199059196e-18,
           -0.014655897260181707,
           -0.02706827105110067,
           -0.02574892436871796,
           -0.02590398787764483,
           -0.026228523249151675,
           -0.013810056499534611,
           -7.214320731988852e-18
          ],
          [
           0,
           3.6581857431790286e-18,
           6.644869760807824e-18,
           8.758546967060269e-18,
           8.216417924869244e-18,
           7.172195689067212e-18,
           3.870081333330426e-18,
           1.003186094175383e-33,
           -3.859908364426406e-18,
           -6.973645595161993e-18,
           -9.176002585471374e-18,
           -7.635895629068315e-18,
           -6.717888750387833e-18,
           -3.8773313983841045e-18,
           -2.2155935366848074e-33
          ]
         ],
         "z": [
          [
           0.0638385562301251,
           0.0728684210677256,
           0.06460525042583579,
           0.07007089263299685,
           0.06907723313490406,
           0.07380432187426506,
           0.07026935398469274,
           0.08180748961442467,
           0.06742301581850414,
           0.0708122547712543,
           0.07830989018642277,
           0.07785126316649102,
           0.06585569223122742,
           0.0787089966894003,
           0.06968654964260647
          ],
          [
           0.05963933818812362,
           0.06265022999182163,
           0.06850506171695173,
           0.06650146757817804,
           0.06044622047449942,
           0.06353965629641993,
           0.06116331407610909,
           0.06829848069604108,
           0.062002464141216226,
           0.060211996763069764,
           0.058876272046203784,
           0.05762174578466471,
           0.062061039935235415,
           0.06921449160806016,
           0.0663373487205452
          ],
          [
           0.04208812461885662,
           0.05006110591785187,
           0.044776877937698224,
           0.04327049081027337,
           0.04602044345901188,
           0.04590686968563055,
           0.042694724736873794,
           0.04543271741327501,
           0.041083889534551894,
           0.04422072979093626,
           0.0422851953712953,
           0.04244948123000017,
           0.04670436574749904,
           0.04603304547014462,
           0.044811408020283286
          ],
          [
           0.015758771894835034,
           0.01733348408601384,
           0.01734626636943184,
           0.0168931327168094,
           0.01666859514780885,
           0.013626729145873913,
           0.016132525232186622,
           0.015314952145347716,
           0.016637539760136426,
           0.016476901786436553,
           0.015415925661749923,
           0.01753407382379746,
           0.015800909810229396,
           0.015636402277180696,
           0.017075829191472797
          ],
          [
           -0.0164290037147888,
           -0.01756775005294866,
           -0.01664641863994309,
           -0.017150660421184023,
           -0.015574856931734906,
           -0.01576345944792908,
           -0.015833606214707998,
           -0.016275387876681296,
           -0.014849591124787507,
           -0.015171161763911626,
           -0.015371130432296915,
           -0.015993006356870912,
           -0.017094567708864642,
           -0.014871135099580372,
           -0.014895954813817176
          ],
          [
           -0.04622166333701986,
           -0.038554148720886895,
           -0.04725992423850651,
           -0.04478982983825479,
           -0.04106035250051772,
           -0.04228519537129529,
           -0.04481140802028327,
           -0.041046223801641954,
           -0.04353331908370562,
           -0.04855938064132299,
           -0.03981725873037121,
           -0.04610858520720586,
           -0.044944961520145314,
           -0.04610858520720586,
           -0.0448803884852379
          ],
          [
           -0.06395764319329708,
           -0.06485404040935261,
           -0.061209502463783656,
           -0.06295879034798804,
           -0.06395764319329708,
           -0.06021199676306975,
           -0.06569521130876747,
           -0.05930670483072855,
           -0.07014156443988671,
           -0.0718925308922035,
           -0.054843226583499306,
           -0.055173499919702836,
           -0.0696621854564235,
           -0.06609346058342748,
           -0.061163314076109074
          ],
          [
           -0.07795341346552714,
           -0.06884644616068071,
           -0.06940047885510937,
           -0.07335820685713842,
           -0.06881754336924714,
           -0.07490798663950084,
           -0.07283428586134236,
           -0.06688978500242701,
           -0.07264283228158615,
           -0.07283428586134236,
           -0.07685465389615626,
           -0.06395531281654175,
           -0.07016310521571283,
           -0.07297073087764863,
           -0.07386494698345784
          ]
         ]
        },
        {
         "cmax": 6.283185307179586,
         "cmid": 3.141592653589793,
         "cmin": 0,
         "colorscale": [
          [
           0,
           "rgb(255, 0, 0)"
          ],
          [
           0.003937007874015748,
           "rgb(255, 12, 0)"
          ],
          [
           0.007874015748031496,
           "rgb(255, 19, 0)"
          ],
          [
           0.011811023622047244,
           "rgb(255, 26, 0)"
          ],
          [
           0.015748031496062992,
           "rgb(255, 32, 0)"
          ],
          [
           0.01968503937007874,
           "rgb(255, 38, 0)"
          ],
          [
           0.023622047244094488,
           "rgb(255, 43, 0)"
          ],
          [
           0.027559055118110236,
           "rgb(255, 49, 0)"
          ],
          [
           0.031496062992125984,
           "rgb(255, 54, 0)"
          ],
          [
           0.03543307086614173,
           "rgb(255, 59, 0)"
          ],
          [
           0.03937007874015748,
           "rgb(255, 64, 0)"
          ],
          [
           0.04330708661417323,
           "rgb(255, 68, 0)"
          ],
          [
           0.047244094488188976,
           "rgb(255, 73, 0)"
          ],
          [
           0.051181102362204724,
           "rgb(255, 78, 0)"
          ],
          [
           0.05511811023622047,
           "rgb(255, 82, 0)"
          ],
          [
           0.05905511811023622,
           "rgb(255, 87, 0)"
          ],
          [
           0.06299212598425197,
           "rgb(255, 92, 0)"
          ],
          [
           0.06692913385826772,
           "rgb(255, 96, 0)"
          ],
          [
           0.07086614173228346,
           "rgb(255, 100, 0)"
          ],
          [
           0.07480314960629922,
           "rgb(255, 105, 0)"
          ],
          [
           0.07874015748031496,
           "rgb(255, 109, 0)"
          ],
          [
           0.08267716535433071,
           "rgb(255, 113, 0)"
          ],
          [
           0.08661417322834646,
           "rgb(255, 118, 0)"
          ],
          [
           0.09055118110236221,
           "rgb(255, 122, 0)"
          ],
          [
           0.09448818897637795,
           "rgb(255, 126, 0)"
          ],
          [
           0.0984251968503937,
           "rgb(255, 130, 0)"
          ],
          [
           0.10236220472440945,
           "rgb(255, 134, 0)"
          ],
          [
           0.1062992125984252,
           "rgb(255, 138, 0)"
          ],
          [
           0.11023622047244094,
           "rgb(255, 142, 0)"
          ],
          [
           0.1141732283464567,
           "rgb(255, 146, 0)"
          ],
          [
           0.11811023622047244,
           "rgb(255, 150, 0)"
          ],
          [
           0.1220472440944882,
           "rgb(255, 154, 0)"
          ],
          [
           0.12598425196850394,
           "rgb(255, 158, 0)"
          ],
          [
           0.12992125984251968,
           "rgb(255, 162, 0)"
          ],
          [
           0.13385826771653545,
           "rgb(255, 166, 0)"
          ],
          [
           0.1377952755905512,
           "rgb(255, 169, 0)"
          ],
          [
           0.14173228346456693,
           "rgb(255, 173, 0)"
          ],
          [
           0.14566929133858267,
           "rgb(255, 177, 0)"
          ],
          [
           0.14960629921259844,
           "rgb(255, 180, 0)"
          ],
          [
           0.15354330708661418,
           "rgb(255, 184, 0)"
          ],
          [
           0.15748031496062992,
           "rgb(255, 187, 0)"
          ],
          [
           0.16141732283464566,
           "rgb(255, 191, 0)"
          ],
          [
           0.16535433070866143,
           "rgb(255, 194, 0)"
          ],
          [
           0.16929133858267717,
           "rgb(255, 198, 0)"
          ],
          [
           0.1732283464566929,
           "rgb(255, 201, 0)"
          ],
          [
           0.17716535433070865,
           "rgb(255, 204, 0)"
          ],
          [
           0.18110236220472442,
           "rgb(255, 207, 0)"
          ],
          [
           0.18503937007874016,
           "rgb(255, 211, 0)"
          ],
          [
           0.1889763779527559,
           "rgb(255, 214, 0)"
          ],
          [
           0.19291338582677164,
           "rgb(255, 217, 0)"
          ],
          [
           0.1968503937007874,
           "rgb(255, 220, 0)"
          ],
          [
           0.20078740157480315,
           "rgb(255, 223, 0)"
          ],
          [
           0.2047244094488189,
           "rgb(255, 226, 0)"
          ],
          [
           0.20866141732283464,
           "rgb(255, 228, 0)"
          ],
          [
           0.2125984251968504,
           "rgb(255, 231, 0)"
          ],
          [
           0.21653543307086615,
           "rgb(255, 234, 0)"
          ],
          [
           0.2204724409448819,
           "rgb(255, 237, 0)"
          ],
          [
           0.22440944881889763,
           "rgb(255, 239, 0)"
          ],
          [
           0.2283464566929134,
           "rgb(255, 242, 0)"
          ],
          [
           0.23228346456692914,
           "rgb(255, 244, 0)"
          ],
          [
           0.23622047244094488,
           "rgb(255, 247, 0)"
          ],
          [
           0.24015748031496062,
           "rgb(255, 249, 0)"
          ],
          [
           0.2440944881889764,
           "rgb(255, 252, 0)"
          ],
          [
           0.24803149606299213,
           "rgb(255, 254, 0)"
          ],
          [
           0.25196850393700787,
           "rgb(254, 255, 0)"
          ],
          [
           0.2559055118110236,
           "rgb(252, 255, 0)"
          ],
          [
           0.25984251968503935,
           "rgb(249, 255, 0)"
          ],
          [
           0.2637795275590551,
           "rgb(247, 255, 0)"
          ],
          [
           0.2677165354330709,
           "rgb(244, 255, 0)"
          ],
          [
           0.27165354330708663,
           "rgb(242, 255, 0)"
          ],
          [
           0.2755905511811024,
           "rgb(239, 255, 0)"
          ],
          [
           0.2795275590551181,
           "rgb(237, 255, 0)"
          ],
          [
           0.28346456692913385,
           "rgb(234, 255, 0)"
          ],
          [
           0.2874015748031496,
           "rgb(231, 255, 0)"
          ],
          [
           0.29133858267716534,
           "rgb(228, 255, 0)"
          ],
          [
           0.2952755905511811,
           "rgb(226, 255, 0)"
          ],
          [
           0.2992125984251969,
           "rgb(223, 255, 0)"
          ],
          [
           0.3031496062992126,
           "rgb(220, 255, 0)"
          ],
          [
           0.30708661417322836,
           "rgb(217, 255, 0)"
          ],
          [
           0.3110236220472441,
           "rgb(214, 255, 0)"
          ],
          [
           0.31496062992125984,
           "rgb(211, 255, 0)"
          ],
          [
           0.3188976377952756,
           "rgb(207, 255, 0)"
          ],
          [
           0.3228346456692913,
           "rgb(204, 255, 0)"
          ],
          [
           0.32677165354330706,
           "rgb(201, 255, 0)"
          ],
          [
           0.33070866141732286,
           "rgb(198, 255, 0)"
          ],
          [
           0.3346456692913386,
           "rgb(194, 255, 0)"
          ],
          [
           0.33858267716535434,
           "rgb(191, 255, 0)"
          ],
          [
           0.3425196850393701,
           "rgb(187, 255, 0)"
          ],
          [
           0.3464566929133858,
           "rgb(184, 255, 0)"
          ],
          [
           0.35039370078740156,
           "rgb(180, 255, 0)"
          ],
          [
           0.3543307086614173,
           "rgb(177, 255, 0)"
          ],
          [
           0.35826771653543305,
           "rgb(173, 255, 0)"
          ],
          [
           0.36220472440944884,
           "rgb(169, 255, 0)"
          ],
          [
           0.3661417322834646,
           "rgb(166, 255, 0)"
          ],
          [
           0.3700787401574803,
           "rgb(162, 255, 0)"
          ],
          [
           0.37401574803149606,
           "rgb(158, 255, 0)"
          ],
          [
           0.3779527559055118,
           "rgb(154, 255, 0)"
          ],
          [
           0.38188976377952755,
           "rgb(150, 255, 0)"
          ],
          [
           0.3858267716535433,
           "rgb(146, 255, 0)"
          ],
          [
           0.38976377952755903,
           "rgb(142, 255, 0)"
          ],
          [
           0.3937007874015748,
           "rgb(138, 255, 0)"
          ],
          [
           0.39763779527559057,
           "rgb(134, 255, 0)"
          ],
          [
           0.4015748031496063,
           "rgb(130, 255, 0)"
          ],
          [
           0.40551181102362205,
           "rgb(126, 255, 0)"
          ],
          [
           0.4094488188976378,
           "rgb(122, 255, 0)"
          ],
          [
           0.41338582677165353,
           "rgb(118, 255, 0)"
          ],
          [
           0.41732283464566927,
           "rgb(113, 255, 0)"
          ],
          [
           0.421259842519685,
           "rgb(109, 255, 0)"
          ],
          [
           0.4251968503937008,
           "rgb(105, 255, 0)"
          ],
          [
           0.42913385826771655,
           "rgb(100, 255, 0)"
          ],
          [
           0.4330708661417323,
           "rgb(96, 255, 0)"
          ],
          [
           0.43700787401574803,
           "rgb(92, 255, 0)"
          ],
          [
           0.4409448818897638,
           "rgb(87, 255, 0)"
          ],
          [
           0.4448818897637795,
           "rgb(82, 255, 0)"
          ],
          [
           0.44881889763779526,
           "rgb(78, 255, 0)"
          ],
          [
           0.452755905511811,
           "rgb(73, 255, 0)"
          ],
          [
           0.4566929133858268,
           "rgb(68, 255, 0)"
          ],
          [
           0.46062992125984253,
           "rgb(64, 255, 0)"
          ],
          [
           0.4645669291338583,
           "rgb(59, 255, 0)"
          ],
          [
           0.468503937007874,
           "rgb(54, 255, 0)"
          ],
          [
           0.47244094488188976,
           "rgb(49, 255, 0)"
          ],
          [
           0.4763779527559055,
           "rgb(43, 255, 0)"
          ],
          [
           0.48031496062992124,
           "rgb(38, 255, 0)"
          ],
          [
           0.484251968503937,
           "rgb(32, 255, 0)"
          ],
          [
           0.4881889763779528,
           "rgb(26, 255, 0)"
          ],
          [
           0.4921259842519685,
           "rgb(19, 255, 0)"
          ],
          [
           0.49606299212598426,
           "rgb(12, 255, 0)"
          ],
          [
           0.5,
           "rgb(1, 255, 0)"
          ],
          [
           0.5039370078740157,
           "rgb(0, 253, 8)"
          ],
          [
           0.5078740157480315,
           "rgb(0, 250, 15)"
          ],
          [
           0.5118110236220472,
           "rgb(0, 248, 21)"
          ],
          [
           0.515748031496063,
           "rgb(0, 246, 27)"
          ],
          [
           0.5196850393700787,
           "rgb(0, 243, 33)"
          ],
          [
           0.5236220472440944,
           "rgb(0, 241, 40)"
          ],
          [
           0.5275590551181102,
           "rgb(0, 238, 46)"
          ],
          [
           0.531496062992126,
           "rgb(0, 235, 53)"
          ],
          [
           0.5354330708661418,
           "rgb(0, 233, 60)"
          ],
          [
           0.5393700787401575,
           "rgb(0, 230, 67)"
          ],
          [
           0.5433070866141733,
           "rgb(0, 227, 74)"
          ],
          [
           0.547244094488189,
           "rgb(0, 224, 81)"
          ],
          [
           0.5511811023622047,
           "rgb(0, 221, 89)"
          ],
          [
           0.5551181102362205,
           "rgb(0, 218, 96)"
          ],
          [
           0.5590551181102362,
           "rgb(0, 215, 103)"
          ],
          [
           0.562992125984252,
           "rgb(0, 212, 111)"
          ],
          [
           0.5669291338582677,
           "rgb(0, 209, 118)"
          ],
          [
           0.5708661417322834,
           "rgb(0, 206, 126)"
          ],
          [
           0.5748031496062992,
           "rgb(0, 202, 133)"
          ],
          [
           0.5787401574803149,
           "rgb(0, 199, 140)"
          ],
          [
           0.5826771653543307,
           "rgb(0, 196, 148)"
          ],
          [
           0.5866141732283464,
           "rgb(0, 192, 155)"
          ],
          [
           0.5905511811023622,
           "rgb(0, 189, 163)"
          ],
          [
           0.594488188976378,
           "rgb(0, 186, 170)"
          ],
          [
           0.5984251968503937,
           "rgb(0, 182, 174)"
          ],
          [
           0.6023622047244095,
           "rgb(0, 178, 178)"
          ],
          [
           0.6062992125984252,
           "rgb(0, 175, 182)"
          ],
          [
           0.610236220472441,
           "rgb(0, 171, 186)"
          ],
          [
           0.6141732283464567,
           "rgb(0, 167, 190)"
          ],
          [
           0.6181102362204725,
           "rgb(0, 164, 194)"
          ],
          [
           0.6220472440944882,
           "rgb(0, 160, 197)"
          ],
          [
           0.6259842519685039,
           "rgb(0, 156, 201)"
          ],
          [
           0.6299212598425197,
           "rgb(0, 152, 204)"
          ],
          [
           0.6338582677165354,
           "rgb(0, 148, 208)"
          ],
          [
           0.6377952755905512,
           "rgb(0, 144, 211)"
          ],
          [
           0.6417322834645669,
           "rgb(0, 140, 214)"
          ],
          [
           0.6456692913385826,
           "rgb(0, 136, 217)"
          ],
          [
           0.6496062992125984,
           "rgb(0, 132, 220)"
          ],
          [
           0.6535433070866141,
           "rgb(0, 128, 222)"
          ],
          [
           0.65748031496063,
           "rgb(0, 124, 225)"
          ],
          [
           0.6614173228346457,
           "rgb(0, 120, 227)"
          ],
          [
           0.6653543307086615,
           "rgb(0, 116, 230)"
          ],
          [
           0.6692913385826772,
           "rgb(0, 111, 232)"
          ],
          [
           0.6732283464566929,
           "rgb(0, 107, 234)"
          ],
          [
           0.6771653543307087,
           "rgb(0, 103, 236)"
          ],
          [
           0.6811023622047244,
           "rgb(0, 98, 238)"
          ],
          [
           0.6850393700787402,
           "rgb(0, 94, 240)"
          ],
          [
           0.6889763779527559,
           "rgb(0, 89, 242)"
          ],
          [
           0.6929133858267716,
           "rgb(0, 85, 244)"
          ],
          [
           0.6968503937007874,
           "rgb(0, 80, 245)"
          ],
          [
           0.7007874015748031,
           "rgb(0, 76, 246)"
          ],
          [
           0.7047244094488189,
           "rgb(0, 71, 248)"
          ],
          [
           0.7086614173228346,
           "rgb(0, 66, 249)"
          ],
          [
           0.7125984251968503,
           "rgb(0, 61, 250)"
          ],
          [
           0.7165354330708661,
           "rgb(0, 56, 251)"
          ],
          [
           0.7204724409448819,
           "rgb(0, 51, 252)"
          ],
          [
           0.7244094488188977,
           "rgb(0, 46, 253)"
          ],
          [
           0.7283464566929134,
           "rgb(0, 41, 253)"
          ],
          [
           0.7322834645669292,
           "rgb(0, 35, 254)"
          ],
          [
           0.7362204724409449,
           "rgb(0, 29, 254)"
          ],
          [
           0.7401574803149606,
           "rgb(0, 23, 255)"
          ],
          [
           0.7440944881889764,
           "rgb(0, 16, 255)"
          ],
          [
           0.7480314960629921,
           "rgb(0, 7, 255)"
          ],
          [
           0.7519685039370079,
           "rgb(7, 0, 255)"
          ],
          [
           0.7559055118110236,
           "rgb(16, 0, 255)"
          ],
          [
           0.7598425196850394,
           "rgb(23, 0, 255)"
          ],
          [
           0.7637795275590551,
           "rgb(29, 0, 254)"
          ],
          [
           0.7677165354330708,
           "rgb(35, 0, 254)"
          ],
          [
           0.7716535433070866,
           "rgb(41, 0, 253)"
          ],
          [
           0.7755905511811023,
           "rgb(46, 0, 253)"
          ],
          [
           0.7795275590551181,
           "rgb(51, 0, 252)"
          ],
          [
           0.7834645669291339,
           "rgb(56, 0, 251)"
          ],
          [
           0.7874015748031497,
           "rgb(61, 0, 250)"
          ],
          [
           0.7913385826771654,
           "rgb(66, 0, 249)"
          ],
          [
           0.7952755905511811,
           "rgb(71, 0, 248)"
          ],
          [
           0.7992125984251969,
           "rgb(76, 0, 246)"
          ],
          [
           0.8031496062992126,
           "rgb(80, 0, 245)"
          ],
          [
           0.8070866141732284,
           "rgb(85, 0, 244)"
          ],
          [
           0.8110236220472441,
           "rgb(89, 0, 242)"
          ],
          [
           0.8149606299212598,
           "rgb(94, 0, 240)"
          ],
          [
           0.8188976377952756,
           "rgb(98, 0, 238)"
          ],
          [
           0.8228346456692913,
           "rgb(103, 0, 236)"
          ],
          [
           0.8267716535433071,
           "rgb(107, 0, 234)"
          ],
          [
           0.8307086614173228,
           "rgb(111, 0, 232)"
          ],
          [
           0.8346456692913385,
           "rgb(116, 0, 230)"
          ],
          [
           0.8385826771653543,
           "rgb(120, 0, 227)"
          ],
          [
           0.84251968503937,
           "rgb(124, 0, 225)"
          ],
          [
           0.8464566929133859,
           "rgb(128, 0, 219)"
          ],
          [
           0.8503937007874016,
           "rgb(132, 0, 213)"
          ],
          [
           0.8543307086614174,
           "rgb(136, 0, 206)"
          ],
          [
           0.8582677165354331,
           "rgb(140, 0, 199)"
          ],
          [
           0.8622047244094488,
           "rgb(144, 0, 192)"
          ],
          [
           0.8661417322834646,
           "rgb(148, 0, 185)"
          ],
          [
           0.8700787401574803,
           "rgb(152, 0, 178)"
          ],
          [
           0.8740157480314961,
           "rgb(156, 0, 171)"
          ],
          [
           0.8779527559055118,
           "rgb(160, 0, 163)"
          ],
          [
           0.8818897637795275,
           "rgb(164, 0, 156)"
          ],
          [
           0.8858267716535433,
           "rgb(167, 0, 148)"
          ],
          [
           0.889763779527559,
           "rgb(171, 0, 141)"
          ],
          [
           0.8937007874015748,
           "rgb(175, 0, 134)"
          ],
          [
           0.8976377952755905,
           "rgb(178, 0, 126)"
          ],
          [
           0.9015748031496063,
           "rgb(182, 0, 119)"
          ],
          [
           0.905511811023622,
           "rgb(186, 0, 111)"
          ],
          [
           0.9094488188976378,
           "rgb(189, 0, 104)"
          ],
          [
           0.9133858267716536,
           "rgb(192, 0, 96)"
          ],
          [
           0.9173228346456693,
           "rgb(196, 0, 89)"
          ],
          [
           0.9212598425196851,
           "rgb(199, 0, 82)"
          ],
          [
           0.9251968503937008,
           "rgb(202, 0, 75)"
          ],
          [
           0.9291338582677166,
           "rgb(206, 0, 67)"
          ],
          [
           0.9330708661417323,
           "rgb(209, 0, 60)"
          ],
          [
           0.937007874015748,
           "rgb(212, 0, 54)"
          ],
          [
           0.9409448818897638,
           "rgb(215, 0, 47)"
          ],
          [
           0.9448818897637795,
           "rgb(218, 0, 40)"
          ],
          [
           0.9488188976377953,
           "rgb(221, 0, 34)"
          ],
          [
           0.952755905511811,
           "rgb(224, 0, 27)"
          ],
          [
           0.9566929133858267,
           "rgb(227, 0, 21)"
          ],
          [
           0.9606299212598425,
           "rgb(230, 0, 15)"
          ],
          [
           0.9645669291338582,
           "rgb(233, 0, 9)"
          ],
          [
           0.968503937007874,
           "rgb(235, 0, 1)"
          ],
          [
           0.9724409448818898,
           "rgb(238, 0, 0)"
          ],
          [
           0.9763779527559056,
           "rgb(241, 0, 0)"
          ],
          [
           0.9803149606299213,
           "rgb(243, 0, 0)"
          ],
          [
           0.984251968503937,
           "rgb(246, 0, 0)"
          ],
          [
           0.9881889763779528,
           "rgb(248, 0, 0)"
          ],
          [
           0.9921259842519685,
           "rgb(250, 0, 0)"
          ],
          [
           0.9960629921259843,
           "rgb(253, 0, 0)"
          ],
          [
           1,
           "rgb(255, 0, 0)"
          ]
         ],
         "opacity": 1,
         "scene": "scene2",
         "surfacecolor": [
          [
           5.034139534781328,
           4.3906384259880475,
           5.034139534781333,
           1.5707963267948966,
           2.111215827065481,
           6.118036629764959,
           4.193242866138167,
           4.4674103172578254,
           3.850218925717464,
           0.726642340681726,
           5.497787143782139,
           1.5707963267948966,
           1.2490457723982553,
           5.742765806909002,
           2.007423486608438
          ],
          [
           4.90978454023457,
           4.4674103172578254,
           5.20633034930427,
           4.521204520787675,
           4.9502249078421405,
           4.529278163122205,
           4.71238898038469,
           5.092895357497055,
           1.042721878368537,
           1.267911458419925,
           1.2765617616837088,
           2.125103822996448,
           1.6614562139956413,
           1.4711276743037345,
           1.2490457723982544
          ],
          [
           4.71238898038469,
           4.8230462015585855,
           4.565310624996287,
           4.751584582311745,
           4.782043554113258,
           4.559739651989425,
           4.764972041995631,
           4.9729913721320305,
           0.6823165548747481,
           1.6635526469830404,
           1.6064954394742206,
           1.4546546999149064,
           1.7315590674207315,
           1.3101939350475553,
           4.629247748496248
          ],
          [
           4.90978454023457,
           4.862760408391824,
           4.75583987577622,
           4.65275826725352,
           4.8230462015585855,
           4.6233393977501915,
           4.588033985837928,
           0.2449786631268643,
           1.5946013529799665,
           1.4968572891369563,
           1.5031033041009279,
           1.5163048705541653,
           1.6704649792860584,
           1.545160918273219,
           1.5707963267948966
          ],
          [
           1.2924966677897851,
           4.766390480760657,
           4.550190146921308,
           4.75583987577622,
           4.957367643511554,
           4.733662366408751,
           4.424333533334064,
           5.034139534781332,
           1.363300100359694,
           1.505316301871432,
           1.5846843227258636,
           1.5297235482044425,
           1.7841649689467045,
           1.5374753309166493,
           0.5404195002705842
          ],
          [
           0.7853981633974483,
           4.7978942740628945,
           4.551013869963998,
           4.931057926258632,
           4.865038308779955,
           4.605653307735555,
           4.71238898038469,
           1.4056476493802696,
           1.4108832036366776,
           1.6172744581458995,
           1.4219063791853994,
           1.5866680097866868,
           1.845706168275569,
           1.4659193880646626,
           2.746801533890032
          ],
          [
           2.0344439357957027,
           5.574559035051916,
           4.931057926258632,
           4.615915205202103,
           4.626883686706485,
           4.625650641708704,
           4.153789665041128,
           0.7853981633974483,
           1.1071487177940904,
           1.6614562139956413,
           1.4181469983996313,
           1.6672701019774832,
           0.7378150601204649,
           0.9827937232473292,
           5.6951827036320175
          ],
          [
           5.695182703632019,
           3.141592653589793,
           0.9827937232473294,
           1.837048375945822,
           5.3003915839322575,
           1.1071487177940915,
           4.957367643511554,
           3.729595257137361,
           0.7853981633974483,
           0.4636476090008064,
           4.331882603272325,
           4.3906384259880475,
           3.6052402625905993,
           1.5707963267948966,
           2.553590050042226
          ]
         ],
         "type": "surface",
         "x": [
          [
           0,
           0,
           0,
           0,
           0,
           0,
           0,
           0,
           0,
           0,
           0,
           0,
           0,
           0,
           0
          ],
          [
           0.003821824586494135,
           0.002784314706599705,
           0.006899882214774507,
           0.005266262818502666,
           -0.005663300466452024,
           -0.012832140416471356,
           -0.004727068553641095,
           -0.004036296626707361,
           -0.009381505016535483,
           -0.007833693768373638,
           -0.005751033235277223,
           0.0041192662877154364,
           0.010323413931524522,
           0.006786635859514974,
           0.007110584973484674
          ],
          [
           0.0013505910153260277,
           0.03305687699867712,
           0.02298430346009788,
           0.01533905462997846,
           -0.012954408421452665,
           -0.033227488540028695,
           -0.023151968675469797,
           -0.020966810865120433,
           -0.025085808690891918,
           -0.0363657566884131,
           -0.016840677315243587,
           0.01815439004811132,
           0.03156395188789154,
           0.0188904438486717,
           0.01626326944831546
          ],
          [
           0.008587561894838263,
           0.05064488464949153,
           0.048348220158967704,
           0.025153676895264057,
           -0.02375521943796752,
           -0.059037071783125644,
           -0.03670041066866219,
           -0.020831901896762494,
           -0.06374782118393009,
           -0.056858388102435896,
           -0.022161640036083355,
           0.02064247981375439,
           0.04221173847707428,
           0.059197084388010836,
           0.001684159449075617
          ],
          [
           0.012260865860340657,
           0.05622484404906872,
           0.05852120853752984,
           0.0258829199920176,
           -0.026268027508205456,
           -0.04936381288364981,
           -0.04272967450227214,
           -0.005325779801973319,
           -0.05892419548629515,
           -0.0641909952867738,
           -0.026985375194454982,
           0.027380625491726644,
           0.06446524377846288,
           0.04554653953224272,
           0.009820252730809113
          ],
          [
           0.0019100241310933174,
           0.04274558064070606,
           0.03668608049632212,
           0.013853968554963708,
           -0.015811671147162646,
           -0.023713180346482322,
           -0.025553649619626848,
           -0.008215324421782588,
           -0.03820956543338837,
           -0.03624857349429258,
           -0.018233818986531605,
           0.01893607581617112,
           0.034122417074239346,
           0.023247704309268414,
           0.01755768319923835
          ],
          [
           0.008379904754923626,
           0.00622591695470932,
           0.008616936426489422,
           0.005194464914558869,
           -0.005858852033308012,
           -0.010788896698561607,
           -0.006370725077855452,
           -0.0021199668480667033,
           -0.006040026640138916,
           -0.01032341393152453,
           -0.004387407742504588,
           0.005194464914558866,
           0.013894392494212062,
           0.009739250315877919,
           0.002702438081615474
          ],
          [
           1.5255386861352781e-18,
           1.90603704951023e-19,
           1.4267367197194744e-18,
           5.367401754456243e-19,
           -3.394642932253108e-19,
           -8.84824551795414e-19,
           -7.858792081471316e-19,
           -1.5255386861352762e-18,
           -8.086630337408897e-19,
           -1.179766069060553e-18,
           -2.5350785850639205e-19,
           1.4886494032082565e-19,
           8.848245517954154e-19,
           1.3342259346571594e-18,
           1.5255386861352781e-18
          ]
         ],
         "y": [
          [
           0,
           0,
           0,
           0,
           0,
           0,
           0,
           0,
           0,
           0,
           0,
           0,
           0,
           0,
           0
          ],
          [
           0,
           0.0013408552934709487,
           0.008652178631871524,
           0.02307300496793496,
           0.02481254056258982,
           0.016090995129573654,
           0.002276436236796767,
           4.94303774430643e-19,
           -0.004517894702178991,
           -0.009823141282936022,
           -0.025196922937856442,
           -0.018047684818686804,
           -0.012945151619406356,
           -0.00326827157703143,
           -1.7415910255686546e-18
          ],
          [
           0,
           0.015919352939605294,
           0.028821404927766386,
           0.06720478940729106,
           0.05675697172094805,
           0.041665952749338014,
           0.011149400489533215,
           2.5676937814297686e-18,
           -0.01208068875779486,
           -0.045601216536362205,
           -0.07378382825726187,
           -0.07953957981326104,
           -0.039579943767309826,
           -0.009097158295529102,
           -3.983352174710095e-18
          ],
          [
           0,
           0.024389291019630145,
           0.06062675047592988,
           0.11020545915922836,
           0.10407841670584343,
           0.07403014646778554,
           0.01767398627784076,
           2.5511721978021867e-18,
           -0.030699332686461626,
           -0.07129816354388754,
           -0.09709648915614186,
           -0.09044061333586696,
           -0.05293184583404184,
           -0.02850781334867344,
           -4.1250009571284484e-19
          ],
          [
           0,
           0.027076457840443012,
           0.07338327441815042,
           0.11340048192472922,
           0.11508774819692759,
           0.061900263471900065,
           0.020577526710201494,
           6.52219918745025e-19,
           -0.02837639697985288,
           -0.08049296212470787,
           -0.11823065376374037,
           -0.11996235846341595,
           -0.08083685885594988,
           -0.021934057413241836,
           -2.4052682147206873e-18
          ],
          [
           0,
           0.020585186702754495,
           0.04600288988668921,
           0.06069820218072174,
           0.0692754576638403,
           0.029735387634331575,
           0.012305989074712953,
           1.0060870757093126e-18,
           -0.01840075690838532,
           -0.04545427345869444,
           -0.07988758073040658,
           -0.08296436893438887,
           -0.04278815763628079,
           -0.011195504340886083,
           -4.3003921060781004e-18
          ],
          [
           0,
           0.00299824358419147,
           0.010805296510978727,
           0.022758437797348215,
           0.02566930795705088,
           0.013528848547136348,
           0.0030679795008958038,
           2.5962106147833916e-19,
           -0.002908723526812216,
           -0.012945151619406356,
           -0.019222489292311292,
           -0.022758437797348225,
           -0.017423017103660305,
           -0.0046901757583400145,
           -6.619064293088608e-19
          ],
          [
           0,
           9.178990655509156e-20,
           1.7890712588152103e-18,
           2.351612359914145e-18,
           1.4872902462264691e-18,
           1.109534893741628e-18,
           3.784594800922175e-19,
           1.8682460689510248e-34,
           -3.894315922175085e-19,
           -1.479379858322171e-18,
           -1.1106904991862158e-18,
           -6.52219918745025e-19,
           -1.1095348937416301e-18,
           -6.425293458856405e-19,
           -3.736492137902054e-34
          ]
         ],
         "z": [
          [
           0.00546274215296039,
           0.0054627421529604,
           0.005462742152960391,
           0.024184590462993483,
           0.01007279882758925,
           0.010507794334207449,
           0.013927314417835467,
           0.007122544356516263,
           0.015926493353927856,
           0.020801502386392442,
           0.0048860251190292,
           0.005182412242070027,
           0.016388226458881185,
           0.010072798827589253,
           0.02859472888723746
          ],
          [
           0.007936100527801294,
           0.006417190725475222,
           0.022979931684679707,
           0.049143724269739925,
           0.052848801165442064,
           0.04273720926819708,
           0.010894781545063447,
           0.008381456308270582,
           0.02162216319886932,
           0.026089974007159258,
           0.05366750603247185,
           0.038440179234100695,
           0.03438194153388997,
           0.015641599921024416,
           0.014765281839586666
          ],
          [
           0.001077060393986174,
           0.029259590053736476,
           0.02939802754877902,
           0.054972301529269824,
           0.04642617573612544,
           0.04249955301766378,
           0.02049247157885797,
           0.016720473714664,
           0.022204168847871825,
           0.04651354864045162,
           0.060353836247599574,
           0.06506193685850072,
           0.04037180977702857,
           0.016720473714664005,
           0.012969524601255798
          ],
          [
           0.0019600549634183452,
           0.012829926587141828,
           0.017699031671031176,
           0.02580055056478156,
           0.024366129168263258,
           0.021611943517649272,
           0.00929735703527997,
           0.004754745667071827,
           0.01614930849463943,
           0.020814383827987466,
           0.02273156790278685,
           0.021173339644731184,
           0.015452624600007096,
           0.014996465134186931,
           0.00038439840408401965
          ],
          [
           -0.0027984626229957256,
           -0.014243504087639218,
           -0.021423099339069347,
           -0.026548547506546755,
           -0.02694355878007366,
           -0.018070813873973,
           -0.010824757342242688,
           -0.0012155744858392747,
           -0.014927333876416487,
           -0.023498661477921907,
           -0.027679354398689314,
           -0.028084769293814395,
           -0.023599056750471314,
           -0.011538356983954428,
           -0.002241408602669229
          ],
          [
           -0.0015231934166701564,
           -0.03783533956356629,
           -0.04692325816877329,
           -0.04965003092772457,
           -0.05666607069021836,
           -0.030330296078160277,
           -0.022618268273709632,
           -0.006551502607407334,
           -0.03382038238993669,
           -0.046363665709476996,
           -0.0653465953109489,
           -0.06786335238113272,
           -0.043644209576370774,
           -0.02057720993446833,
           -0.014001785121820251
          ],
          [
           -0.017401051524837164,
           -0.014349274686743779,
           -0.028698549373487568,
           -0.04847372041384377,
           -0.054673649756044426,
           -0.03593222338710816,
           -0.014683023362000993,
           -0.004402156520034524,
           -0.013920841219869745,
           -0.03438194153388997,
           -0.0409424223187311,
           -0.04847372041384379,
           -0.04627502041026572,
           -0.022446681997545723,
           -0.005611670499386429
          ],
          [
           -0.012456968712917207,
           -0.001727470747356679,
           -0.018685453069375788,
           -0.01969619693713726,
           -0.012456968712917207,
           -0.011588226060695676,
           -0.007122544356516268,
           -0.012456968712917191,
           -0.007329037678543805,
           -0.015450968080927578,
           -0.009302714674019523,
           -0.005462742152960396,
           -0.011588226060695699,
           -0.01209229523149674,
           -0.012456968712917207
          ]
         ]
        }
       ],
       "layout": {
        "annotations": [
         {
          "font": {
           "size": 16
          },
          "showarrow": false,
          "text": "$f_{0}^{(\\emptyset)}$",
          "x": 0.225,
          "xanchor": "center",
          "xref": "paper",
          "y": 1,
          "yanchor": "bottom",
          "yref": "paper"
         },
         {
          "font": {
           "size": 16
          },
          "showarrow": false,
          "text": "$f_{1}^{(1)}$",
          "x": 0.775,
          "xanchor": "center",
          "xref": "paper",
          "y": 1,
          "yanchor": "bottom",
          "yref": "paper"
         }
        ],
        "scene": {
         "domain": {
          "x": [
           0,
           0.45
          ],
          "y": [
           0,
           1
          ]
         }
        },
        "scene2": {
         "domain": {
          "x": [
           0.55,
           1
          ],
          "y": [
           0,
           1
          ]
         }
        },
        "template": {
         "data": {
          "bar": [
           {
            "error_x": {
             "color": "#2a3f5f"
            },
            "error_y": {
             "color": "#2a3f5f"
            },
            "marker": {
             "line": {
              "color": "#E5ECF6",
              "width": 0.5
             },
             "pattern": {
              "fillmode": "overlay",
              "size": 10,
              "solidity": 0.2
             }
            },
            "type": "bar"
           }
          ],
          "barpolar": [
           {
            "marker": {
             "line": {
              "color": "#E5ECF6",
              "width": 0.5
             },
             "pattern": {
              "fillmode": "overlay",
              "size": 10,
              "solidity": 0.2
             }
            },
            "type": "barpolar"
           }
          ],
          "carpet": [
           {
            "aaxis": {
             "endlinecolor": "#2a3f5f",
             "gridcolor": "white",
             "linecolor": "white",
             "minorgridcolor": "white",
             "startlinecolor": "#2a3f5f"
            },
            "baxis": {
             "endlinecolor": "#2a3f5f",
             "gridcolor": "white",
             "linecolor": "white",
             "minorgridcolor": "white",
             "startlinecolor": "#2a3f5f"
            },
            "type": "carpet"
           }
          ],
          "choropleth": [
           {
            "colorbar": {
             "outlinewidth": 0,
             "ticks": ""
            },
            "type": "choropleth"
           }
          ],
          "contour": [
           {
            "colorbar": {
             "outlinewidth": 0,
             "ticks": ""
            },
            "colorscale": [
             [
              0,
              "#0d0887"
             ],
             [
              0.1111111111111111,
              "#46039f"
             ],
             [
              0.2222222222222222,
              "#7201a8"
             ],
             [
              0.3333333333333333,
              "#9c179e"
             ],
             [
              0.4444444444444444,
              "#bd3786"
             ],
             [
              0.5555555555555556,
              "#d8576b"
             ],
             [
              0.6666666666666666,
              "#ed7953"
             ],
             [
              0.7777777777777778,
              "#fb9f3a"
             ],
             [
              0.8888888888888888,
              "#fdca26"
             ],
             [
              1,
              "#f0f921"
             ]
            ],
            "type": "contour"
           }
          ],
          "contourcarpet": [
           {
            "colorbar": {
             "outlinewidth": 0,
             "ticks": ""
            },
            "type": "contourcarpet"
           }
          ],
          "heatmap": [
           {
            "colorbar": {
             "outlinewidth": 0,
             "ticks": ""
            },
            "colorscale": [
             [
              0,
              "#0d0887"
             ],
             [
              0.1111111111111111,
              "#46039f"
             ],
             [
              0.2222222222222222,
              "#7201a8"
             ],
             [
              0.3333333333333333,
              "#9c179e"
             ],
             [
              0.4444444444444444,
              "#bd3786"
             ],
             [
              0.5555555555555556,
              "#d8576b"
             ],
             [
              0.6666666666666666,
              "#ed7953"
             ],
             [
              0.7777777777777778,
              "#fb9f3a"
             ],
             [
              0.8888888888888888,
              "#fdca26"
             ],
             [
              1,
              "#f0f921"
             ]
            ],
            "type": "heatmap"
           }
          ],
          "heatmapgl": [
           {
            "colorbar": {
             "outlinewidth": 0,
             "ticks": ""
            },
            "colorscale": [
             [
              0,
              "#0d0887"
             ],
             [
              0.1111111111111111,
              "#46039f"
             ],
             [
              0.2222222222222222,
              "#7201a8"
             ],
             [
              0.3333333333333333,
              "#9c179e"
             ],
             [
              0.4444444444444444,
              "#bd3786"
             ],
             [
              0.5555555555555556,
              "#d8576b"
             ],
             [
              0.6666666666666666,
              "#ed7953"
             ],
             [
              0.7777777777777778,
              "#fb9f3a"
             ],
             [
              0.8888888888888888,
              "#fdca26"
             ],
             [
              1,
              "#f0f921"
             ]
            ],
            "type": "heatmapgl"
           }
          ],
          "histogram": [
           {
            "marker": {
             "pattern": {
              "fillmode": "overlay",
              "size": 10,
              "solidity": 0.2
             }
            },
            "type": "histogram"
           }
          ],
          "histogram2d": [
           {
            "colorbar": {
             "outlinewidth": 0,
             "ticks": ""
            },
            "colorscale": [
             [
              0,
              "#0d0887"
             ],
             [
              0.1111111111111111,
              "#46039f"
             ],
             [
              0.2222222222222222,
              "#7201a8"
             ],
             [
              0.3333333333333333,
              "#9c179e"
             ],
             [
              0.4444444444444444,
              "#bd3786"
             ],
             [
              0.5555555555555556,
              "#d8576b"
             ],
             [
              0.6666666666666666,
              "#ed7953"
             ],
             [
              0.7777777777777778,
              "#fb9f3a"
             ],
             [
              0.8888888888888888,
              "#fdca26"
             ],
             [
              1,
              "#f0f921"
             ]
            ],
            "type": "histogram2d"
           }
          ],
          "histogram2dcontour": [
           {
            "colorbar": {
             "outlinewidth": 0,
             "ticks": ""
            },
            "colorscale": [
             [
              0,
              "#0d0887"
             ],
             [
              0.1111111111111111,
              "#46039f"
             ],
             [
              0.2222222222222222,
              "#7201a8"
             ],
             [
              0.3333333333333333,
              "#9c179e"
             ],
             [
              0.4444444444444444,
              "#bd3786"
             ],
             [
              0.5555555555555556,
              "#d8576b"
             ],
             [
              0.6666666666666666,
              "#ed7953"
             ],
             [
              0.7777777777777778,
              "#fb9f3a"
             ],
             [
              0.8888888888888888,
              "#fdca26"
             ],
             [
              1,
              "#f0f921"
             ]
            ],
            "type": "histogram2dcontour"
           }
          ],
          "mesh3d": [
           {
            "colorbar": {
             "outlinewidth": 0,
             "ticks": ""
            },
            "type": "mesh3d"
           }
          ],
          "parcoords": [
           {
            "line": {
             "colorbar": {
              "outlinewidth": 0,
              "ticks": ""
             }
            },
            "type": "parcoords"
           }
          ],
          "pie": [
           {
            "automargin": true,
            "type": "pie"
           }
          ],
          "scatter": [
           {
            "fillpattern": {
             "fillmode": "overlay",
             "size": 10,
             "solidity": 0.2
            },
            "type": "scatter"
           }
          ],
          "scatter3d": [
           {
            "line": {
             "colorbar": {
              "outlinewidth": 0,
              "ticks": ""
             }
            },
            "marker": {
             "colorbar": {
              "outlinewidth": 0,
              "ticks": ""
             }
            },
            "type": "scatter3d"
           }
          ],
          "scattercarpet": [
           {
            "marker": {
             "colorbar": {
              "outlinewidth": 0,
              "ticks": ""
             }
            },
            "type": "scattercarpet"
           }
          ],
          "scattergeo": [
           {
            "marker": {
             "colorbar": {
              "outlinewidth": 0,
              "ticks": ""
             }
            },
            "type": "scattergeo"
           }
          ],
          "scattergl": [
           {
            "marker": {
             "colorbar": {
              "outlinewidth": 0,
              "ticks": ""
             }
            },
            "type": "scattergl"
           }
          ],
          "scattermapbox": [
           {
            "marker": {
             "colorbar": {
              "outlinewidth": 0,
              "ticks": ""
             }
            },
            "type": "scattermapbox"
           }
          ],
          "scatterpolar": [
           {
            "marker": {
             "colorbar": {
              "outlinewidth": 0,
              "ticks": ""
             }
            },
            "type": "scatterpolar"
           }
          ],
          "scatterpolargl": [
           {
            "marker": {
             "colorbar": {
              "outlinewidth": 0,
              "ticks": ""
             }
            },
            "type": "scatterpolargl"
           }
          ],
          "scatterternary": [
           {
            "marker": {
             "colorbar": {
              "outlinewidth": 0,
              "ticks": ""
             }
            },
            "type": "scatterternary"
           }
          ],
          "surface": [
           {
            "colorbar": {
             "outlinewidth": 0,
             "ticks": ""
            },
            "colorscale": [
             [
              0,
              "#0d0887"
             ],
             [
              0.1111111111111111,
              "#46039f"
             ],
             [
              0.2222222222222222,
              "#7201a8"
             ],
             [
              0.3333333333333333,
              "#9c179e"
             ],
             [
              0.4444444444444444,
              "#bd3786"
             ],
             [
              0.5555555555555556,
              "#d8576b"
             ],
             [
              0.6666666666666666,
              "#ed7953"
             ],
             [
              0.7777777777777778,
              "#fb9f3a"
             ],
             [
              0.8888888888888888,
              "#fdca26"
             ],
             [
              1,
              "#f0f921"
             ]
            ],
            "type": "surface"
           }
          ],
          "table": [
           {
            "cells": {
             "fill": {
              "color": "#EBF0F8"
             },
             "line": {
              "color": "white"
             }
            },
            "header": {
             "fill": {
              "color": "#C8D4E3"
             },
             "line": {
              "color": "white"
             }
            },
            "type": "table"
           }
          ]
         },
         "layout": {
          "annotationdefaults": {
           "arrowcolor": "#2a3f5f",
           "arrowhead": 0,
           "arrowwidth": 1
          },
          "autotypenumbers": "strict",
          "coloraxis": {
           "colorbar": {
            "outlinewidth": 0,
            "ticks": ""
           }
          },
          "colorscale": {
           "diverging": [
            [
             0,
             "#8e0152"
            ],
            [
             0.1,
             "#c51b7d"
            ],
            [
             0.2,
             "#de77ae"
            ],
            [
             0.3,
             "#f1b6da"
            ],
            [
             0.4,
             "#fde0ef"
            ],
            [
             0.5,
             "#f7f7f7"
            ],
            [
             0.6,
             "#e6f5d0"
            ],
            [
             0.7,
             "#b8e186"
            ],
            [
             0.8,
             "#7fbc41"
            ],
            [
             0.9,
             "#4d9221"
            ],
            [
             1,
             "#276419"
            ]
           ],
           "sequential": [
            [
             0,
             "#0d0887"
            ],
            [
             0.1111111111111111,
             "#46039f"
            ],
            [
             0.2222222222222222,
             "#7201a8"
            ],
            [
             0.3333333333333333,
             "#9c179e"
            ],
            [
             0.4444444444444444,
             "#bd3786"
            ],
            [
             0.5555555555555556,
             "#d8576b"
            ],
            [
             0.6666666666666666,
             "#ed7953"
            ],
            [
             0.7777777777777778,
             "#fb9f3a"
            ],
            [
             0.8888888888888888,
             "#fdca26"
            ],
            [
             1,
             "#f0f921"
            ]
           ],
           "sequentialminus": [
            [
             0,
             "#0d0887"
            ],
            [
             0.1111111111111111,
             "#46039f"
            ],
            [
             0.2222222222222222,
             "#7201a8"
            ],
            [
             0.3333333333333333,
             "#9c179e"
            ],
            [
             0.4444444444444444,
             "#bd3786"
            ],
            [
             0.5555555555555556,
             "#d8576b"
            ],
            [
             0.6666666666666666,
             "#ed7953"
            ],
            [
             0.7777777777777778,
             "#fb9f3a"
            ],
            [
             0.8888888888888888,
             "#fdca26"
            ],
            [
             1,
             "#f0f921"
            ]
           ]
          },
          "colorway": [
           "#636efa",
           "#EF553B",
           "#00cc96",
           "#ab63fa",
           "#FFA15A",
           "#19d3f3",
           "#FF6692",
           "#B6E880",
           "#FF97FF",
           "#FECB52"
          ],
          "font": {
           "color": "#2a3f5f"
          },
          "geo": {
           "bgcolor": "white",
           "lakecolor": "white",
           "landcolor": "#E5ECF6",
           "showlakes": true,
           "showland": true,
           "subunitcolor": "white"
          },
          "hoverlabel": {
           "align": "left"
          },
          "hovermode": "closest",
          "mapbox": {
           "style": "light"
          },
          "paper_bgcolor": "white",
          "plot_bgcolor": "#E5ECF6",
          "polar": {
           "angularaxis": {
            "gridcolor": "white",
            "linecolor": "white",
            "ticks": ""
           },
           "bgcolor": "#E5ECF6",
           "radialaxis": {
            "gridcolor": "white",
            "linecolor": "white",
            "ticks": ""
           }
          },
          "scene": {
           "xaxis": {
            "backgroundcolor": "#E5ECF6",
            "gridcolor": "white",
            "gridwidth": 2,
            "linecolor": "white",
            "showbackground": true,
            "ticks": "",
            "zerolinecolor": "white"
           },
           "yaxis": {
            "backgroundcolor": "#E5ECF6",
            "gridcolor": "white",
            "gridwidth": 2,
            "linecolor": "white",
            "showbackground": true,
            "ticks": "",
            "zerolinecolor": "white"
           },
           "zaxis": {
            "backgroundcolor": "#E5ECF6",
            "gridcolor": "white",
            "gridwidth": 2,
            "linecolor": "white",
            "showbackground": true,
            "ticks": "",
            "zerolinecolor": "white"
           }
          },
          "shapedefaults": {
           "line": {
            "color": "#2a3f5f"
           }
          },
          "ternary": {
           "aaxis": {
            "gridcolor": "white",
            "linecolor": "white",
            "ticks": ""
           },
           "baxis": {
            "gridcolor": "white",
            "linecolor": "white",
            "ticks": ""
           },
           "bgcolor": "#E5ECF6",
           "caxis": {
            "gridcolor": "white",
            "linecolor": "white",
            "ticks": ""
           }
          },
          "title": {
           "x": 0.05
          },
          "xaxis": {
           "automargin": true,
           "gridcolor": "white",
           "linecolor": "white",
           "ticks": "",
           "title": {
            "standoff": 15
           },
           "zerolinecolor": "white",
           "zerolinewidth": 2
          },
          "yaxis": {
           "automargin": true,
           "gridcolor": "white",
           "linecolor": "white",
           "ticks": "",
           "title": {
            "standoff": 15
           },
           "zerolinecolor": "white",
           "zerolinewidth": 2
          }
         }
        }
       }
      }
     },
     "metadata": {},
     "output_type": "display_data"
    },
    {
     "data": {
      "text/plain": [
       "(None, None)"
      ]
     },
     "execution_count": 5,
     "metadata": {},
     "output_type": "execute_result"
    },
    {
     "data": {
      "text/plain": [
       "<Figure size 360x360 with 0 Axes>"
      ]
     },
     "metadata": {},
     "output_type": "display_data"
    }
   ],
   "source": [
    "# target matrix \n",
    "Ut = U3Gate(theta=pi/2, phi=0, lam=0).to_matrix()\n",
    "WQPT1Q.WQPT_1Q_runner(res_theta, circuits=circ_u, device=simulator, shots=100, inter=1, Ut=Ut)"
   ]
  }
 ],
 "metadata": {
  "kernelspec": {
   "display_name": "base",
   "language": "python",
   "name": "python3"
  },
  "language_info": {
   "codemirror_mode": {
    "name": "ipython",
    "version": 3
   },
   "file_extension": ".py",
   "mimetype": "text/x-python",
   "name": "python",
   "nbconvert_exporter": "python",
   "pygments_lexer": "ipython3",
   "version": "3.9.7"
  },
  "orig_nbformat": 4,
  "vscode": {
   "interpreter": {
    "hash": "e0e8feff63ce8d1a867429cf8efe914fc8cd1b30dcff3e86b0107311e76732f2"
   }
  }
 },
 "nbformat": 4,
 "nbformat_minor": 2
}
