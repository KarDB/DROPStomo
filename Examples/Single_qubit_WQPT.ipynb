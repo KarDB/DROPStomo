{
 "cells": [
  {
   "cell_type": "code",
   "execution_count": 1,
   "metadata": {},
   "outputs": [],
   "source": [
    "from DROPStomo import WQST1Q\n",
    "from DROPStomo import WQST2Q\n",
    "from DROPStomo import WQPT1Q\n",
    "\n",
    "from turtle import circle\n",
    "from IPython.display import display\n",
    "import matplotlib.pyplot as plt\n",
    "import numpy as np\n",
    "import pandas as pd\n",
    "from random import randint\n",
    "import time\n",
    "from fractions import Fraction\n",
    "from math import gcd\n",
    "from numpy import pi\n",
    "from qiskit import IBMQ\n",
    "\n",
    "from qiskit import QuantumCircuit, Aer, execute\n",
    "from qiskit.visualization import plot_histogram, plot_bloch_multivector, plot_state_qsphere, visualize_transition, plot_bloch_vector\n",
    "from qiskit.circuit.library import *\n",
    "from qiskit import (QuantumRegister, ClassicalRegister, QuantumCircuit,\n",
    "    execute, Aer, compiler)\n",
    "from qiskit.tools.monitor import job_monitor\n",
    "from qiskit.tools import job_monitor, backend_monitor, backend_overview\n",
    "from qiskit.quantum_info import Statevector\n",
    "from qiskit.visualization import exceptions\n",
    "from qiskit.visualization import latex as _latex\n",
    "from qiskit.visualization import text as _text\n",
    "from qiskit.visualization import utils\n",
    "from qiskit.visualization import matplotlib as _matplotlib\n",
    "import matplotlib as mpl\n",
    "\n",
    "from qiskit import QuantumCircuit\n",
    "from qiskit import Aer, transpile\n",
    "from qiskit.tools.visualization import plot_histogram, plot_state_city\n",
    "import qiskit.quantum_info as qi"
   ]
  },
  {
   "cell_type": "code",
   "execution_count": 2,
   "metadata": {},
   "outputs": [],
   "source": [
    "# Provide the simulator and the actual quantum device (qudevice5) name. For example ibmq_armonk is our system here which is a single qubit quantum processor. \n",
    "simulator = Aer.get_backend('qasm_simulator')"
   ]
  },
  {
   "cell_type": "code",
   "execution_count": 8,
   "metadata": {},
   "outputs": [
    {
     "data": {
      "text/html": [
       "<pre style=\"word-wrap: normal;white-space: pre;background: #fff0;line-height: 1.1;font-family: &quot;Courier New&quot;,Courier,monospace\">        ┌───┐              ░               ░ ┌──────────────┐ ░ ┌─┐   \n",
       "   q_0: ┤ H ├──────■───────░───────────────░─┤ U3(-π/2,0,0) ├─░─┤M├───\n",
       "        └───┘┌─────┴─────┐ ░ ┌───────────┐ ░ └──────────────┘ ░ └╥┘┌─┐\n",
       "   q_1: ─────┤ U3(π,0,0) ├─░─┤ U3(0,0,0) ├─░──────────────────░──╫─┤M├\n",
       "             └───────────┘ ░ └───────────┘ ░                  ░  ║ └╥┘\n",
       "meas: 2/═════════════════════════════════════════════════════════╩══╩═\n",
       "                                                                 0  1 </pre>"
      ],
      "text/plain": [
       "        ┌───┐              ░               ░ ┌──────────────┐ ░ ┌─┐   \n",
       "   q_0: ┤ H ├──────■───────░───────────────░─┤ U3(-π/2,0,0) ├─░─┤M├───\n",
       "        └───┘┌─────┴─────┐ ░ ┌───────────┐ ░ └──────────────┘ ░ └╥┘┌─┐\n",
       "   q_1: ─────┤ U3(π,0,0) ├─░─┤ U3(0,0,0) ├─░──────────────────░──╫─┤M├\n",
       "             └───────────┘ ░ └───────────┘ ░                  ░  ║ └╥┘\n",
       "meas: 2/═════════════════════════════════════════════════════════╩══╩═\n",
       "                                                                 0  1 "
      ]
     },
     "metadata": {},
     "output_type": "display_data"
    },
    {
     "data": {
      "text/html": [
       "<pre style=\"word-wrap: normal;white-space: pre;background: #fff0;line-height: 1.1;font-family: &quot;Courier New&quot;,Courier,monospace\">        ┌───┐              ░               ░ ┌──────────────┐ ░ ┌─┐   \n",
       "   q_0: ┤ H ├──────■───────░───────────────░─┤ U3(-π/2,0,0) ├─░─┤M├───\n",
       "        ├───┤┌─────┴─────┐ ░ ┌───────────┐ ░ └──────────────┘ ░ └╥┘┌─┐\n",
       "   q_1: ┤ X ├┤ U3(π,0,0) ├─░─┤ U3(0,0,0) ├─░──────────────────░──╫─┤M├\n",
       "        └───┘└───────────┘ ░ └───────────┘ ░                  ░  ║ └╥┘\n",
       "meas: 2/═════════════════════════════════════════════════════════╩══╩═\n",
       "                                                                 0  1 </pre>"
      ],
      "text/plain": [
       "        ┌───┐              ░               ░ ┌──────────────┐ ░ ┌─┐   \n",
       "   q_0: ┤ H ├──────■───────░───────────────░─┤ U3(-π/2,0,0) ├─░─┤M├───\n",
       "        ├───┤┌─────┴─────┐ ░ ┌───────────┐ ░ └──────────────┘ ░ └╥┘┌─┐\n",
       "   q_1: ┤ X ├┤ U3(π,0,0) ├─░─┤ U3(0,0,0) ├─░──────────────────░──╫─┤M├\n",
       "        └───┘└───────────┘ ░ └───────────┘ ░                  ░  ║ └╥┘\n",
       "meas: 2/═════════════════════════════════════════════════════════╩══╩═\n",
       "                                                                 0  1 "
      ]
     },
     "metadata": {},
     "output_type": "display_data"
    },
    {
     "data": {
      "text/html": [
       "<pre style=\"word-wrap: normal;white-space: pre;background: #fff0;line-height: 1.1;font-family: &quot;Courier New&quot;,Courier,monospace\">        ┌───┐              ░               ░ ┌───────────────┐ ░ ┌─┐   \n",
       "   q_0: ┤ H ├──────■───────░───────────────░─┤ U3(π/2,0,π/2) ├─░─┤M├───\n",
       "        └───┘┌─────┴─────┐ ░ ┌───────────┐ ░ └───────────────┘ ░ └╥┘┌─┐\n",
       "   q_1: ─────┤ U3(π,0,0) ├─░─┤ U3(0,0,0) ├─░───────────────────░──╫─┤M├\n",
       "             └───────────┘ ░ └───────────┘ ░                   ░  ║ └╥┘\n",
       "meas: 2/══════════════════════════════════════════════════════════╩══╩═\n",
       "                                                                  0  1 </pre>"
      ],
      "text/plain": [
       "        ┌───┐              ░               ░ ┌───────────────┐ ░ ┌─┐   \n",
       "   q_0: ┤ H ├──────■───────░───────────────░─┤ U3(π/2,0,π/2) ├─░─┤M├───\n",
       "        └───┘┌─────┴─────┐ ░ ┌───────────┐ ░ └───────────────┘ ░ └╥┘┌─┐\n",
       "   q_1: ─────┤ U3(π,0,0) ├─░─┤ U3(0,0,0) ├─░───────────────────░──╫─┤M├\n",
       "             └───────────┘ ░ └───────────┘ ░                   ░  ║ └╥┘\n",
       "meas: 2/══════════════════════════════════════════════════════════╩══╩═\n",
       "                                                                  0  1 "
      ]
     },
     "metadata": {},
     "output_type": "display_data"
    },
    {
     "data": {
      "text/html": [
       "<pre style=\"word-wrap: normal;white-space: pre;background: #fff0;line-height: 1.1;font-family: &quot;Courier New&quot;,Courier,monospace\">        ┌───┐              ░               ░ ┌───────────────┐ ░ ┌─┐   \n",
       "   q_0: ┤ H ├──────■───────░───────────────░─┤ U3(π/2,0,π/2) ├─░─┤M├───\n",
       "        ├───┤┌─────┴─────┐ ░ ┌───────────┐ ░ └───────────────┘ ░ └╥┘┌─┐\n",
       "   q_1: ┤ X ├┤ U3(π,0,0) ├─░─┤ U3(0,0,0) ├─░───────────────────░──╫─┤M├\n",
       "        └───┘└───────────┘ ░ └───────────┘ ░                   ░  ║ └╥┘\n",
       "meas: 2/══════════════════════════════════════════════════════════╩══╩═\n",
       "                                                                  0  1 </pre>"
      ],
      "text/plain": [
       "        ┌───┐              ░               ░ ┌───────────────┐ ░ ┌─┐   \n",
       "   q_0: ┤ H ├──────■───────░───────────────░─┤ U3(π/2,0,π/2) ├─░─┤M├───\n",
       "        ├───┤┌─────┴─────┐ ░ ┌───────────┐ ░ └───────────────┘ ░ └╥┘┌─┐\n",
       "   q_1: ┤ X ├┤ U3(π,0,0) ├─░─┤ U3(0,0,0) ├─░───────────────────░──╫─┤M├\n",
       "        └───┘└───────────┘ ░ └───────────┘ ░                   ░  ║ └╥┘\n",
       "meas: 2/══════════════════════════════════════════════════════════╩══╩═\n",
       "                                                                  0  1 "
      ]
     },
     "metadata": {},
     "output_type": "display_data"
    },
    {
     "name": "stdout",
     "output_type": "stream",
     "text": [
      "Total number of ciruits for WQPT for single qubit are:480\n"
     ]
    }
   ],
   "source": [
    "# gate to tomograph\n",
    "Up = U3Gate(theta=pi, phi=0, lam=0) \n",
    "# resolution for scanning (only polar angles)\n",
    "res_theta = 8\n",
    "circ_u = WQPT1Q.WQPT_1Q_circuits(res_theta,Up)"
   ]
  },
  {
   "cell_type": "code",
   "execution_count": 9,
   "metadata": {},
   "outputs": [
    {
     "name": "stdout",
     "output_type": "stream",
     "text": [
      "Job 0 of 2\n",
      "Job Status: job has successfully run\n"
     ]
    },
    {
     "data": {
      "text/plain": [
       "None"
      ]
     },
     "metadata": {},
     "output_type": "display_data"
    },
    {
     "name": "stdout",
     "output_type": "stream",
     "text": [
      "Job 1 of 2\n",
      "Job Status: job has successfully run\n"
     ]
    },
    {
     "data": {
      "text/plain": [
       "None"
      ]
     },
     "metadata": {},
     "output_type": "display_data"
    },
    {
     "name": "stdout",
     "output_type": "stream",
     "text": [
      "Process matrix is: [[-0.00434981+0.00065416j -1.00037844-0.00911346j]\n",
      " [ 1.00502583-0.01357776j  0.00207614-0.00454043j]]\n",
      "Process fidelity is: 1.0027046185759183\n"
     ]
    },
    {
     "data": {
      "image/png": "[encoded data removed]",
      "text/plain": [
       "<Figure size 432x288 with 4 Axes>"
      ]
     },
     "metadata": {
      "needs_background": "light"
     },
     "output_type": "display_data"
    },
    {
     "data": {
      "application/vnd.plotly.v1+json": {
       "config": {
        "plotlyServerURL": "https://plot.ly"
       },
       "data": [
        {
         "cmax": 6.283185307179586,
         "cmid": 3.141592653589793,
         "cmin": 0,
         "colorscale": [
          [
           0,
           "rgb(255, 0, 0)"
          ],
          [
           0.003937007874015748,
           "rgb(255, 12, 0)"
          ],
          [
           0.007874015748031496,
           "rgb(255, 19, 0)"
          ],
          [
           0.011811023622047244,
           "rgb(255, 26, 0)"
          ],
          [
           0.015748031496062992,
           "rgb(255, 32, 0)"
          ],
          [
           0.01968503937007874,
           "rgb(255, 38, 0)"
          ],
          [
           0.023622047244094488,
           "rgb(255, 43, 0)"
          ],
          [
           0.027559055118110236,
           "rgb(255, 49, 0)"
          ],
          [
           0.031496062992125984,
           "rgb(255, 54, 0)"
          ],
          [
           0.03543307086614173,
           "rgb(255, 59, 0)"
          ],
          [
           0.03937007874015748,
           "rgb(255, 64, 0)"
          ],
          [
           0.04330708661417323,
           "rgb(255, 68, 0)"
          ],
          [
           0.047244094488188976,
           "rgb(255, 73, 0)"
          ],
          [
           0.051181102362204724,
           "rgb(255, 78, 0)"
          ],
          [
           0.05511811023622047,
           "rgb(255, 82, 0)"
          ],
          [
           0.05905511811023622,
           "rgb(255, 87, 0)"
          ],
          [
           0.06299212598425197,
           "rgb(255, 92, 0)"
          ],
          [
           0.06692913385826772,
           "rgb(255, 96, 0)"
          ],
          [
           0.07086614173228346,
           "rgb(255, 100, 0)"
          ],
          [
           0.07480314960629922,
           "rgb(255, 105, 0)"
          ],
          [
           0.07874015748031496,
           "rgb(255, 109, 0)"
          ],
          [
           0.08267716535433071,
           "rgb(255, 113, 0)"
          ],
          [
           0.08661417322834646,
           "rgb(255, 118, 0)"
          ],
          [
           0.09055118110236221,
           "rgb(255, 122, 0)"
          ],
          [
           0.09448818897637795,
           "rgb(255, 126, 0)"
          ],
          [
           0.0984251968503937,
           "rgb(255, 130, 0)"
          ],
          [
           0.10236220472440945,
           "rgb(255, 134, 0)"
          ],
          [
           0.1062992125984252,
           "rgb(255, 138, 0)"
          ],
          [
           0.11023622047244094,
           "rgb(255, 142, 0)"
          ],
          [
           0.1141732283464567,
           "rgb(255, 146, 0)"
          ],
          [
           0.11811023622047244,
           "rgb(255, 150, 0)"
          ],
          [
           0.1220472440944882,
           "rgb(255, 154, 0)"
          ],
          [
           0.12598425196850394,
           "rgb(255, 158, 0)"
          ],
          [
           0.12992125984251968,
           "rgb(255, 162, 0)"
          ],
          [
           0.13385826771653545,
           "rgb(255, 166, 0)"
          ],
          [
           0.1377952755905512,
           "rgb(255, 169, 0)"
          ],
          [
           0.14173228346456693,
           "rgb(255, 173, 0)"
          ],
          [
           0.14566929133858267,
           "rgb(255, 177, 0)"
          ],
          [
           0.14960629921259844,
           "rgb(255, 180, 0)"
          ],
          [
           0.15354330708661418,
           "rgb(255, 184, 0)"
          ],
          [
           0.15748031496062992,
           "rgb(255, 187, 0)"
          ],
          [
           0.16141732283464566,
           "rgb(255, 191, 0)"
          ],
          [
           0.16535433070866143,
           "rgb(255, 194, 0)"
          ],
          [
           0.16929133858267717,
           "rgb(255, 198, 0)"
          ],
          [
           0.1732283464566929,
           "rgb(255, 201, 0)"
          ],
          [
           0.17716535433070865,
           "rgb(255, 204, 0)"
          ],
          [
           0.18110236220472442,
           "rgb(255, 207, 0)"
          ],
          [
           0.18503937007874016,
           "rgb(255, 211, 0)"
          ],
          [
           0.1889763779527559,
           "rgb(255, 214, 0)"
          ],
          [
           0.19291338582677164,
           "rgb(255, 217, 0)"
          ],
          [
           0.1968503937007874,
           "rgb(255, 220, 0)"
          ],
          [
           0.20078740157480315,
           "rgb(255, 223, 0)"
          ],
          [
           0.2047244094488189,
           "rgb(255, 226, 0)"
          ],
          [
           0.20866141732283464,
           "rgb(255, 228, 0)"
          ],
          [
           0.2125984251968504,
           "rgb(255, 231, 0)"
          ],
          [
           0.21653543307086615,
           "rgb(255, 234, 0)"
          ],
          [
           0.2204724409448819,
           "rgb(255, 237, 0)"
          ],
          [
           0.22440944881889763,
           "rgb(255, 239, 0)"
          ],
          [
           0.2283464566929134,
           "rgb(255, 242, 0)"
          ],
          [
           0.23228346456692914,
           "rgb(255, 244, 0)"
          ],
          [
           0.23622047244094488,
           "rgb(255, 247, 0)"
          ],
          [
           0.24015748031496062,
           "rgb(255, 249, 0)"
          ],
          [
           0.2440944881889764,
           "rgb(255, 252, 0)"
          ],
          [
           0.24803149606299213,
           "rgb(255, 254, 0)"
          ],
          [
           0.25196850393700787,
           "rgb(254, 255, 0)"
          ],
          [
           0.2559055118110236,
           "rgb(252, 255, 0)"
          ],
          [
           0.25984251968503935,
           "rgb(249, 255, 0)"
          ],
          [
           0.2637795275590551,
           "rgb(247, 255, 0)"
          ],
          [
           0.2677165354330709,
           "rgb(244, 255, 0)"
          ],
          [
           0.27165354330708663,
           "rgb(242, 255, 0)"
          ],
          [
           0.2755905511811024,
           "rgb(239, 255, 0)"
          ],
          [
           0.2795275590551181,
           "rgb(237, 255, 0)"
          ],
          [
           0.28346456692913385,
           "rgb(234, 255, 0)"
          ],
          [
           0.2874015748031496,
           "rgb(231, 255, 0)"
          ],
          [
           0.29133858267716534,
           "rgb(228, 255, 0)"
          ],
          [
           0.2952755905511811,
           "rgb(226, 255, 0)"
          ],
          [
           0.2992125984251969,
           "rgb(223, 255, 0)"
          ],
          [
           0.3031496062992126,
           "rgb(220, 255, 0)"
          ],
          [
           0.30708661417322836,
           "rgb(217, 255, 0)"
          ],
          [
           0.3110236220472441,
           "rgb(214, 255, 0)"
          ],
          [
           0.31496062992125984,
           "rgb(211, 255, 0)"
          ],
          [
           0.3188976377952756,
           "rgb(207, 255, 0)"
          ],
          [
           0.3228346456692913,
           "rgb(204, 255, 0)"
          ],
          [
           0.32677165354330706,
           "rgb(201, 255, 0)"
          ],
          [
           0.33070866141732286,
           "rgb(198, 255, 0)"
          ],
          [
           0.3346456692913386,
           "rgb(194, 255, 0)"
          ],
          [
           0.33858267716535434,
           "rgb(191, 255, 0)"
          ],
          [
           0.3425196850393701,
           "rgb(187, 255, 0)"
          ],
          [
           0.3464566929133858,
           "rgb(184, 255, 0)"
          ],
          [
           0.35039370078740156,
           "rgb(180, 255, 0)"
          ],
          [
           0.3543307086614173,
           "rgb(177, 255, 0)"
          ],
          [
           0.35826771653543305,
           "rgb(173, 255, 0)"
          ],
          [
           0.36220472440944884,
           "rgb(169, 255, 0)"
          ],
          [
           0.3661417322834646,
           "rgb(166, 255, 0)"
          ],
          [
           0.3700787401574803,
           "rgb(162, 255, 0)"
          ],
          [
           0.37401574803149606,
           "rgb(158, 255, 0)"
          ],
          [
           0.3779527559055118,
           "rgb(154, 255, 0)"
          ],
          [
           0.38188976377952755,
           "rgb(150, 255, 0)"
          ],
          [
           0.3858267716535433,
           "rgb(146, 255, 0)"
          ],
          [
           0.38976377952755903,
           "rgb(142, 255, 0)"
          ],
          [
           0.3937007874015748,
           "rgb(138, 255, 0)"
          ],
          [
           0.39763779527559057,
           "rgb(134, 255, 0)"
          ],
          [
           0.4015748031496063,
           "rgb(130, 255, 0)"
          ],
          [
           0.40551181102362205,
           "rgb(126, 255, 0)"
          ],
          [
           0.4094488188976378,
           "rgb(122, 255, 0)"
          ],
          [
           0.41338582677165353,
           "rgb(118, 255, 0)"
          ],
          [
           0.41732283464566927,
           "rgb(113, 255, 0)"
          ],
          [
           0.421259842519685,
           "rgb(109, 255, 0)"
          ],
          [
           0.4251968503937008,
           "rgb(105, 255, 0)"
          ],
          [
           0.42913385826771655,
           "rgb(100, 255, 0)"
          ],
          [
           0.4330708661417323,
           "rgb(96, 255, 0)"
          ],
          [
           0.43700787401574803,
           "rgb(92, 255, 0)"
          ],
          [
           0.4409448818897638,
           "rgb(87, 255, 0)"
          ],
          [
           0.4448818897637795,
           "rgb(82, 255, 0)"
          ],
          [
           0.44881889763779526,
           "rgb(78, 255, 0)"
          ],
          [
           0.452755905511811,
           "rgb(73, 255, 0)"
          ],
          [
           0.4566929133858268,
           "rgb(68, 255, 0)"
          ],
          [
           0.46062992125984253,
           "rgb(64, 255, 0)"
          ],
          [
           0.4645669291338583,
           "rgb(59, 255, 0)"
          ],
          [
           0.468503937007874,
           "rgb(54, 255, 0)"
          ],
          [
           0.47244094488188976,
           "rgb(49, 255, 0)"
          ],
          [
           0.4763779527559055,
           "rgb(43, 255, 0)"
          ],
          [
           0.48031496062992124,
           "rgb(38, 255, 0)"
          ],
          [
           0.484251968503937,
           "rgb(32, 255, 0)"
          ],
          [
           0.4881889763779528,
           "rgb(26, 255, 0)"
          ],
          [
           0.4921259842519685,
           "rgb(19, 255, 0)"
          ],
          [
           0.49606299212598426,
           "rgb(12, 255, 0)"
          ],
          [
           0.5,
           "rgb(1, 255, 0)"
          ],
          [
           0.5039370078740157,
           "rgb(0, 253, 8)"
          ],
          [
           0.5078740157480315,
           "rgb(0, 250, 15)"
          ],
          [
           0.5118110236220472,
           "rgb(0, 248, 21)"
          ],
          [
           0.515748031496063,
           "rgb(0, 246, 27)"
          ],
          [
           0.5196850393700787,
           "rgb(0, 243, 33)"
          ],
          [
           0.5236220472440944,
           "rgb(0, 241, 40)"
          ],
          [
           0.5275590551181102,
           "rgb(0, 238, 46)"
          ],
          [
           0.531496062992126,
           "rgb(0, 235, 53)"
          ],
          [
           0.5354330708661418,
           "rgb(0, 233, 60)"
          ],
          [
           0.5393700787401575,
           "rgb(0, 230, 67)"
          ],
          [
           0.5433070866141733,
           "rgb(0, 227, 74)"
          ],
          [
           0.547244094488189,
           "rgb(0, 224, 81)"
          ],
          [
           0.5511811023622047,
           "rgb(0, 221, 89)"
          ],
          [
           0.5551181102362205,
           "rgb(0, 218, 96)"
          ],
          [
           0.5590551181102362,
           "rgb(0, 215, 103)"
          ],
          [
           0.562992125984252,
           "rgb(0, 212, 111)"
          ],
          [
           0.5669291338582677,
           "rgb(0, 209, 118)"
          ],
          [
           0.5708661417322834,
           "rgb(0, 206, 126)"
          ],
          [
           0.5748031496062992,
           "rgb(0, 202, 133)"
          ],
          [
           0.5787401574803149,
           "rgb(0, 199, 140)"
          ],
          [
           0.5826771653543307,
           "rgb(0, 196, 148)"
          ],
          [
           0.5866141732283464,
           "rgb(0, 192, 155)"
          ],
          [
           0.5905511811023622,
           "rgb(0, 189, 163)"
          ],
          [
           0.594488188976378,
           "rgb(0, 186, 170)"
          ],
          [
           0.5984251968503937,
           "rgb(0, 182, 174)"
          ],
          [
           0.6023622047244095,
           "rgb(0, 178, 178)"
          ],
          [
           0.6062992125984252,
           "rgb(0, 175, 182)"
          ],
          [
           0.610236220472441,
           "rgb(0, 171, 186)"
          ],
          [
           0.6141732283464567,
           "rgb(0, 167, 190)"
          ],
          [
           0.6181102362204725,
           "rgb(0, 164, 194)"
          ],
          [
           0.6220472440944882,
           "rgb(0, 160, 197)"
          ],
          [
           0.6259842519685039,
           "rgb(0, 156, 201)"
          ],
          [
           0.6299212598425197,
           "rgb(0, 152, 204)"
          ],
          [
           0.6338582677165354,
           "rgb(0, 148, 208)"
          ],
          [
           0.6377952755905512,
           "rgb(0, 144, 211)"
          ],
          [
           0.6417322834645669,
           "rgb(0, 140, 214)"
          ],
          [
           0.6456692913385826,
           "rgb(0, 136, 217)"
          ],
          [
           0.6496062992125984,
           "rgb(0, 132, 220)"
          ],
          [
           0.6535433070866141,
           "rgb(0, 128, 222)"
          ],
          [
           0.65748031496063,
           "rgb(0, 124, 225)"
          ],
          [
           0.6614173228346457,
           "rgb(0, 120, 227)"
          ],
          [
           0.6653543307086615,
           "rgb(0, 116, 230)"
          ],
          [
           0.6692913385826772,
           "rgb(0, 111, 232)"
          ],
          [
           0.6732283464566929,
           "rgb(0, 107, 234)"
          ],
          [
           0.6771653543307087,
           "rgb(0, 103, 236)"
          ],
          [
           0.6811023622047244,
           "rgb(0, 98, 238)"
          ],
          [
           0.6850393700787402,
           "rgb(0, 94, 240)"
          ],
          [
           0.6889763779527559,
           "rgb(0, 89, 242)"
          ],
          [
           0.6929133858267716,
           "rgb(0, 85, 244)"
          ],
          [
           0.6968503937007874,
           "rgb(0, 80, 245)"
          ],
          [
           0.7007874015748031,
           "rgb(0, 76, 246)"
          ],
          [
           0.7047244094488189,
           "rgb(0, 71, 248)"
          ],
          [
           0.7086614173228346,
           "rgb(0, 66, 249)"
          ],
          [
           0.7125984251968503,
           "rgb(0, 61, 250)"
          ],
          [
           0.7165354330708661,
           "rgb(0, 56, 251)"
          ],
          [
           0.7204724409448819,
           "rgb(0, 51, 252)"
          ],
          [
           0.7244094488188977,
           "rgb(0, 46, 253)"
          ],
          [
           0.7283464566929134,
           "rgb(0, 41, 253)"
          ],
          [
           0.7322834645669292,
           "rgb(0, 35, 254)"
          ],
          [
           0.7362204724409449,
           "rgb(0, 29, 254)"
          ],
          [
           0.7401574803149606,
           "rgb(0, 23, 255)"
          ],
          [
           0.7440944881889764,
           "rgb(0, 16, 255)"
          ],
          [
           0.7480314960629921,
           "rgb(0, 7, 255)"
          ],
          [
           0.7519685039370079,
           "rgb(7, 0, 255)"
          ],
          [
           0.7559055118110236,
           "rgb(16, 0, 255)"
          ],
          [
           0.7598425196850394,
           "rgb(23, 0, 255)"
          ],
          [
           0.7637795275590551,
           "rgb(29, 0, 254)"
          ],
          [
           0.7677165354330708,
           "rgb(35, 0, 254)"
          ],
          [
           0.7716535433070866,
           "rgb(41, 0, 253)"
          ],
          [
           0.7755905511811023,
           "rgb(46, 0, 253)"
          ],
          [
           0.7795275590551181,
           "rgb(51, 0, 252)"
          ],
          [
           0.7834645669291339,
           "rgb(56, 0, 251)"
          ],
          [
           0.7874015748031497,
           "rgb(61, 0, 250)"
          ],
          [
           0.7913385826771654,
           "rgb(66, 0, 249)"
          ],
          [
           0.7952755905511811,
           "rgb(71, 0, 248)"
          ],
          [
           0.7992125984251969,
           "rgb(76, 0, 246)"
          ],
          [
           0.8031496062992126,
           "rgb(80, 0, 245)"
          ],
          [
           0.8070866141732284,
           "rgb(85, 0, 244)"
          ],
          [
           0.8110236220472441,
           "rgb(89, 0, 242)"
          ],
          [
           0.8149606299212598,
           "rgb(94, 0, 240)"
          ],
          [
           0.8188976377952756,
           "rgb(98, 0, 238)"
          ],
          [
           0.8228346456692913,
           "rgb(103, 0, 236)"
          ],
          [
           0.8267716535433071,
           "rgb(107, 0, 234)"
          ],
          [
           0.8307086614173228,
           "rgb(111, 0, 232)"
          ],
          [
           0.8346456692913385,
           "rgb(116, 0, 230)"
          ],
          [
           0.8385826771653543,
           "rgb(120, 0, 227)"
          ],
          [
           0.84251968503937,
           "rgb(124, 0, 225)"
          ],
          [
           0.8464566929133859,
           "rgb(128, 0, 219)"
          ],
          [
           0.8503937007874016,
           "rgb(132, 0, 213)"
          ],
          [
           0.8543307086614174,
           "rgb(136, 0, 206)"
          ],
          [
           0.8582677165354331,
           "rgb(140, 0, 199)"
          ],
          [
           0.8622047244094488,
           "rgb(144, 0, 192)"
          ],
          [
           0.8661417322834646,
           "rgb(148, 0, 185)"
          ],
          [
           0.8700787401574803,
           "rgb(152, 0, 178)"
          ],
          [
           0.8740157480314961,
           "rgb(156, 0, 171)"
          ],
          [
           0.8779527559055118,
           "rgb(160, 0, 163)"
          ],
          [
           0.8818897637795275,
           "rgb(164, 0, 156)"
          ],
          [
           0.8858267716535433,
           "rgb(167, 0, 148)"
          ],
          [
           0.889763779527559,
           "rgb(171, 0, 141)"
          ],
          [
           0.8937007874015748,
           "rgb(175, 0, 134)"
          ],
          [
           0.8976377952755905,
           "rgb(178, 0, 126)"
          ],
          [
           0.9015748031496063,
           "rgb(182, 0, 119)"
          ],
          [
           0.905511811023622,
           "rgb(186, 0, 111)"
          ],
          [
           0.9094488188976378,
           "rgb(189, 0, 104)"
          ],
          [
           0.9133858267716536,
           "rgb(192, 0, 96)"
          ],
          [
           0.9173228346456693,
           "rgb(196, 0, 89)"
          ],
          [
           0.9212598425196851,
           "rgb(199, 0, 82)"
          ],
          [
           0.9251968503937008,
           "rgb(202, 0, 75)"
          ],
          [
           0.9291338582677166,
           "rgb(206, 0, 67)"
          ],
          [
           0.9330708661417323,
           "rgb(209, 0, 60)"
          ],
          [
           0.937007874015748,
           "rgb(212, 0, 54)"
          ],
          [
           0.9409448818897638,
           "rgb(215, 0, 47)"
          ],
          [
           0.9448818897637795,
           "rgb(218, 0, 40)"
          ],
          [
           0.9488188976377953,
           "rgb(221, 0, 34)"
          ],
          [
           0.952755905511811,
           "rgb(224, 0, 27)"
          ],
          [
           0.9566929133858267,
           "rgb(227, 0, 21)"
          ],
          [
           0.9606299212598425,
           "rgb(230, 0, 15)"
          ],
          [
           0.9645669291338582,
           "rgb(233, 0, 9)"
          ],
          [
           0.968503937007874,
           "rgb(235, 0, 1)"
          ],
          [
           0.9724409448818898,
           "rgb(238, 0, 0)"
          ],
          [
           0.9763779527559056,
           "rgb(241, 0, 0)"
          ],
          [
           0.9803149606299213,
           "rgb(243, 0, 0)"
          ],
          [
           0.984251968503937,
           "rgb(246, 0, 0)"
          ],
          [
           0.9881889763779528,
           "rgb(248, 0, 0)"
          ],
          [
           0.9921259842519685,
           "rgb(250, 0, 0)"
          ],
          [
           0.9960629921259843,
           "rgb(253, 0, 0)"
          ],
          [
           1,
           "rgb(255, 0, 0)"
          ]
         ],
         "opacity": 1,
         "scene": "scene",
         "surfacecolor": [
          [
           2.1224513093234436,
           1.7868812990916831,
           -1.4501726582147938,
           -0.034469100999508014,
           -0.11710874456686428,
           -0.8086497862079113,
           -2.403777593469328,
           2.9441970937399127,
           2.3036114285814033,
           0.5585993153435624,
           3.0890095919788516,
           -0.519146114246523,
           -1.1193432352423422,
           -2.831889709047337,
           -2.810496576885661
          ],
          [
           -2.388441372627599,
           0,
           -2.819842099193151,
           -2.1948193797716535,
           1.042721878368537,
           -0.8329812666744317,
           2.129395642138459,
           0.6435011087932844,
           1.3016288340091962,
           2.307053755776325,
           -1.1284221038181517,
           0,
           1.7359450042095235,
           1.1273479903751584,
           -2.185459278717062
          ],
          [
           -1.1978086049948355,
           -0.982793723247329,
           2.2531128816696446,
           -0.2782996590051114,
           2.601173153319209,
           -2.42853182073094,
           1.2490457723982544,
           -0.16183743123842292,
           1.7681918866447774,
           -2.7868870015788527,
           -0.08314123188844122,
           -2.5829933382462307,
           -2.616796881939686,
           3.064820762320015,
           -1.9614033704925835
          ],
          [
           -1.2924966677897853,
           2.0344439357957027,
           -0.5123894603107377,
           -2.1995926132103296,
           -0.20963984587421253,
           2.4329663814621227,
           -1.5182132651839548,
           -1.5707963267948966,
           -2.191045812777718,
           -2.9996955989856295,
           -0.12435499454676144,
           3.0981417581982624,
           0.3217505543966422,
           -2.279422598922567,
           -3.110352820159525
          ],
          [
           -0.42662749312687603,
           -2.7868870015788527,
           -0.3310960767041321,
           -1.6396528160959412,
           -1.5707963267948966,
           2.38648825011112,
           2.8809902618424523,
           -0.5404195002705842,
           2.609868586330988,
           1.5152978215491797,
           -1.4994888620096063,
           1.0074800653029286,
           0,
           -0.34038193864190697,
           0.13800602365751943
          ],
          [
           3.141592653589793,
           1.1955255039389394,
           -0.5880026035475675,
           -2.607884461950532,
           0.8695364039286193,
           2.5829933382462307,
           3.0845118711835284,
           -0.5337081916392615,
           3.141592653589793,
           2.539305307454829,
           -1.6183794300718801,
           -2.601173153319209,
           -0.992894389832651,
           1.7234456551901618,
           2.593043251139265
          ],
          [
           2.819842099193151,
           -2.9441970937399127,
           -2.654693421778524,
           -1.7738415440483617,
           -1.9862884227357873,
           0.6078019961139605,
           -0.9342881110069455,
           1.0934509444212246,
           -2.1655555842782492,
           0.1418970546041639,
           -3.0727361642887487,
           -1.3909428270024184,
           3.1016139664665032,
           -2.613518205163434,
           -0.17219081452293902
          ],
          [
           0.8519663271732721,
           2.999695598985629,
           -1.373400766945016,
           -0.9357695914045828,
           1.2490457723982544,
           -1.5350972141155728,
           2.605157195985062,
           3.0284416719993086,
           0.9957240370625059,
           -0.19739555984988078,
           -2.498091544796509,
           0.30587887140485215,
           -2.1451011569695986,
           -3.061762667877556,
           1.5707963267948966
          ]
         ],
         "type": "surface",
         "x": [
          [
           0,
           0,
           0,
           0,
           0,
           0,
           0,
           0,
           0,
           0,
           0,
           0,
           0,
           0,
           0
          ],
          [
           0.0018536427028922027,
           0.000418818601020473,
           0.0009998482535946917,
           0.00028968597682544895,
           -0.00039191715633271694,
           -0.0007833917233163722,
           -0.002155160061698991,
           -0.0006338912413793663,
           -0.001145401021864493,
           -0.0011378689965767096,
           -0.00019769946805163634,
           0.00015045767579569493,
           0.00048081162903213133,
           0.0016860563045597392,
           0.0008793614851536216
          ],
          [
           0.0018807375249496904,
           0.0004947373844442698,
           0.0009787845188661865,
           0.00037007805751887993,
           -0.000197607580430231,
           -0.002322544136756558,
           -0.0006508700857167472,
           -0.003780695793595457,
           -0.0017491607972351954,
           -0.0013670043352867966,
           -0.00020404133082803155,
           0.0001598560765848691,
           0.0020847123605058134,
           0.0017890707413099794,
           0.0013999793262881141
          ],
          [
           0.004839033147925682,
           0.0015304085948597398,
           0.0010868432864169655,
           0.0002873951008455717,
           -0.0010153258954188425,
           -0.0005458350746676543,
           -0.003255492415007758,
           -0.0037032857949219123,
           -0.002943799709340988,
           -0.002093181959774906,
           -0.0006814126096519182,
           0.0004864424096616175,
           0.00037443977210663347,
           0.0023662636076099293,
           0.0030400767989237527
          ],
          [
           0.0011473582695743895,
           0.0024632566967620877,
           0.0020033402647882956,
           0.0006142170259619293,
           -0.0002958159126437042,
           -0.0013821342454671407,
           -0.0039843931326651715,
           -0.002214736545954217,
           -0.0033747157875678936,
           -0.0010673175658392636,
           -0.0002965695849802136,
           0.0009496622638911023,
           0.002723389810746096,
           0.004356459342711306,
           0.0034512310185760876
          ],
          [
           0.0012945302213360074,
           0.002433399292596915,
           0.00017118444642677408,
           0.0008660056643918666,
           -0.000998013224969355,
           -0.0008958135465617067,
           -0.002405187833651478,
           -0.0019458970645923179,
           -0.00013721546211559657,
           -0.0018437129128525318,
           -0.00035624213183078657,
           0.00009880379021511548,
           0.002607403806478453,
           0.0009023938118335905,
           0.0016063614667838622
          ],
          [
           0.0010690880595148652,
           0.0003882844035016406,
           0.001520459873237476,
           0.0003264283648446579,
           -0.00034945495706410247,
           -0.0007382231747298517,
           -0.0010889549877950518,
           -0.0013797553742710376,
           -0.0015629073343957126,
           -0.00018631072185184834,
           -0.0002733522925378369,
           0.0001051354971299371,
           0.0006592346298272707,
           0.0010578934466212084,
           0.0009865560021590787
          ],
          [
           2.5358886913037675e-19,
           7.598987959212268e-20,
           2.2752454170605293e-19,
           6.264110948439423e-20,
           -9.232610810921771e-20,
           -4.167303664470172e-19,
           -4.626030202276696e-19,
           -5.282016656692343e-19,
           -6.915496557089907e-19,
           -2.27524541706053e-19,
           -6.635472480092503e-20,
           5.288434101474459e-20,
           1.50585186876497e-19,
           2.6952315197279487e-19,
           2.8626760941689087e-19
          ]
         ],
         "y": [
          [
           0,
           0,
           0,
           0,
           0,
           0,
           0,
           0,
           0,
           0,
           0,
           0,
           0,
           0,
           0
          ],
          [
           0,
           0.00020169240813593667,
           0.001253770053689064,
           0.0012691971921627502,
           0.0017171012550518318,
           0.0009823421498919658,
           0.001037870385181902,
           7.762928797627832e-20,
           -0.0005515960604861468,
           -0.001426842591163252,
           -0.000866177964473573,
           -0.0006591981488088853,
           -0.0006029187126932864,
           -0.0008119619221563874,
           -2.1538144561736912e-19
          ],
          [
           0,
           0.00023825296732358296,
           0.0012273569657764698,
           0.0016214179113234308,
           0.0008657753784997545,
           0.0029123782299637874,
           0.0003134425134222661,
           4.630017002176538e-19,
           -0.0008423514441616119,
           -0.0017141692178626105,
           -0.0008939634807663836,
           -0.0007003752331232825,
           -0.002614146615509483,
           -0.0008615710602660565,
           -3.428960401622414e-19
          ],
          [
           0,
           0.0007370059356893447,
           0.0013628583744218607,
           0.0012591602086914888,
           0.004448433402671074,
           0.0006844555345383992,
           0.0015677625187881625,
           4.535217095078982e-19,
           -0.0014176592228715996,
           -0.0026247671570688207,
           -0.002985463709193013,
           -0.0021312434493969954,
           -0.0004695326230651802,
           -0.0011395324948328801,
           -7.446040641928212e-19
          ],
          [
           0,
           0.0011862419047682946,
           0.0025121092348872214,
           0.0026910606211330806,
           0.0012960541957841424,
           0.0017331415251411624,
           0.0019187826040425655,
           2.7122700219574966e-19,
           -0.0016251774689817566,
           -0.0013383738952531376,
           -0.0012993562500423104,
           -0.004160742235582121,
           -0.003415022806670343,
           -0.002097960247316695,
           -8.453078040034531e-19
          ],
          [
           0,
           0.0011718633367388692,
           0.00021465850624392062,
           0.003794218725007455,
           0.004372581637376379,
           0.0011233146573293423,
           0.0011582774141512167,
           2.383036611623212e-19,
           -0.00006607948386281727,
           -0.0023119428667536467,
           -0.0015607987601075541,
           -0.0004328876892498773,
           -0.0032695809575947416,
           -0.0004345699559480344,
           -3.9344508571410083e-19
          ],
          [
           0,
           0.0001869879136052112,
           0.0019065963760474573,
           0.0014301761122277462,
           0.0015310622045069237,
           0.0009257025814546784,
           0.0005244130831459594,
           1.6897130027073846e-19,
           -0.0007526565037931057,
           -0.00023362625568352575,
           -0.0011976346454951855,
           -0.0004606287098058406,
           -0.0008266540790171523,
           -0.0005094546332955913,
           -2.4163653004474496e-19
          ],
          [
           0,
           3.659479729780648e-20,
           2.8530675114427405e-19,
           2.744486327671218e-19,
           4.0450710959385123e-19,
           5.22563351024204e-19,
           2.227778731253515e-19,
           6.468604791661281e-35,
           -3.3303276183453476e-19,
           -2.8530675114427396e-19,
           -2.9071904455634496e-19,
           -2.3170143705552927e-19,
           -1.8882785178265363e-19,
           -1.297955091711024e-19,
           -7.011534231439203e-35
          ]
         ],
         "z": [
          [
           0.0014867162158283284,
           0.004088397084290708,
           0.0032376601274995073,
           0.005652442579761787,
           0.0033343710274900723,
           0.0029622450622284677,
           0.001447925626625907,
           0.0019865375708633887,
           0.006551781563724534,
           0.0009188510610563357,
           0.003706247338050096,
           0.0023557437680349195,
           0.0035719984356852273,
           0.002556582011348025,
           0.003295739379121129
          ],
          [
           0.0038491287341558375,
           0.0009652783989376395,
           0.003329976345603925,
           0.002703292308143456,
           0.0036572934794909836,
           0.002609071825256089,
           0.0049671372015051805,
           0.0013162887258240537,
           0.0026398800383578185,
           0.003789651909051084,
           0.001844892380241343,
           0.0014040413075456573,
           0.001601334348099308,
           0.003885963341214115,
           0.0018260129392431224
          ],
          [
           0.0014998381276199347,
           0.0004379062502993387,
           0.001251912388813545,
           0.0013262905086428326,
           0.000708188591665206,
           0.002970645450890411,
           0.0005761037827945592,
           0.003015004286852019,
           0.0015482323955531797,
           0.0017484641715520776,
           0.0007312459491988779,
           0.0005728942659957018,
           0.002666447191311538,
           0.0015835578318532414,
           0.0011164462577002872
          ],
          [
           0.0011044777383716622,
           0.00038770016076201047,
           0.0003978651889251304,
           0.0002947860013592191,
           0.0010414368926484126,
           0.00019981608923633958,
           0.0008247176191360116,
           0.0008452508164926658,
           0.0007457561493028995,
           0.0007662597232633719,
           0.0006989364045665302,
           0.0004989521826008575,
           0.0001370727063709661,
           0.0005994482677090187,
           0.0006938776909992426
          ],
          [
           -0.00026187703781792884,
           -0.0006240196379845114,
           -0.0007333710047186371,
           -0.0006300127612382666,
           -0.00030342337002300804,
           -0.0005059635639886604,
           -0.0010093708721068122,
           -0.0005054991641074302,
           -0.0008549206125479697,
           -0.0003907173281400138,
           -0.00030419642444794745,
           -0.0009740845984866943,
           -0.0009969625015041692,
           -0.0011036268308968365,
           -0.000787720958602862
          ],
          [
           -0.001032353402619514,
           -0.0021538715148828897,
           -0.00021895312514966933,
           -0.0031036022530335147,
           -0.003576692648710609,
           -0.0011457885319914036,
           -0.002128900743336796,
           -0.0015518011265167574,
           -0.00012145334148464872,
           -0.002358197327936232,
           -0.0012767051399737645,
           -0.00035409429583260294,
           -0.003334994643919412,
           -0.0007987346476297835,
           -0.0012810305226862355
          ],
          [
           -0.0022199842304026166,
           -0.0008949042531332045,
           -0.005063863835454737,
           -0.003046165014663862,
           -0.00326104462434234,
           -0.0024586387992267733,
           -0.002509785201929418,
           -0.0028650915567094808,
           -0.0036021339208848566,
           -0.0006205044560197257,
           -0.0025508695930979443,
           -0.0009811036896530557,
           -0.002195568893214923,
           -0.0024381956529939885,
           -0.00204860464740019
          ],
          [
           -0.0020707102595371595,
           -0.0006887079877291948,
           -0.002979806356295083,
           -0.0022986757563677055,
           -0.003387995329861055,
           -0.00545776638198571,
           -0.004192642453028352,
           -0.004313093914400371,
           -0.006267621087894558,
           -0.002979806356295083,
           -0.0024349504419032757,
           -0.0019406417539964075,
           -0.0019721595466311473,
           -0.0024427298561064664,
           -0.002337552424227145
          ]
         ]
        },
        {
         "cmax": 6.283185307179586,
         "cmid": 3.141592653589793,
         "cmin": 0,
         "colorscale": [
          [
           0,
           "rgb(255, 0, 0)"
          ],
          [
           0.003937007874015748,
           "rgb(255, 12, 0)"
          ],
          [
           0.007874015748031496,
           "rgb(255, 19, 0)"
          ],
          [
           0.011811023622047244,
           "rgb(255, 26, 0)"
          ],
          [
           0.015748031496062992,
           "rgb(255, 32, 0)"
          ],
          [
           0.01968503937007874,
           "rgb(255, 38, 0)"
          ],
          [
           0.023622047244094488,
           "rgb(255, 43, 0)"
          ],
          [
           0.027559055118110236,
           "rgb(255, 49, 0)"
          ],
          [
           0.031496062992125984,
           "rgb(255, 54, 0)"
          ],
          [
           0.03543307086614173,
           "rgb(255, 59, 0)"
          ],
          [
           0.03937007874015748,
           "rgb(255, 64, 0)"
          ],
          [
           0.04330708661417323,
           "rgb(255, 68, 0)"
          ],
          [
           0.047244094488188976,
           "rgb(255, 73, 0)"
          ],
          [
           0.051181102362204724,
           "rgb(255, 78, 0)"
          ],
          [
           0.05511811023622047,
           "rgb(255, 82, 0)"
          ],
          [
           0.05905511811023622,
           "rgb(255, 87, 0)"
          ],
          [
           0.06299212598425197,
           "rgb(255, 92, 0)"
          ],
          [
           0.06692913385826772,
           "rgb(255, 96, 0)"
          ],
          [
           0.07086614173228346,
           "rgb(255, 100, 0)"
          ],
          [
           0.07480314960629922,
           "rgb(255, 105, 0)"
          ],
          [
           0.07874015748031496,
           "rgb(255, 109, 0)"
          ],
          [
           0.08267716535433071,
           "rgb(255, 113, 0)"
          ],
          [
           0.08661417322834646,
           "rgb(255, 118, 0)"
          ],
          [
           0.09055118110236221,
           "rgb(255, 122, 0)"
          ],
          [
           0.09448818897637795,
           "rgb(255, 126, 0)"
          ],
          [
           0.0984251968503937,
           "rgb(255, 130, 0)"
          ],
          [
           0.10236220472440945,
           "rgb(255, 134, 0)"
          ],
          [
           0.1062992125984252,
           "rgb(255, 138, 0)"
          ],
          [
           0.11023622047244094,
           "rgb(255, 142, 0)"
          ],
          [
           0.1141732283464567,
           "rgb(255, 146, 0)"
          ],
          [
           0.11811023622047244,
           "rgb(255, 150, 0)"
          ],
          [
           0.1220472440944882,
           "rgb(255, 154, 0)"
          ],
          [
           0.12598425196850394,
           "rgb(255, 158, 0)"
          ],
          [
           0.12992125984251968,
           "rgb(255, 162, 0)"
          ],
          [
           0.13385826771653545,
           "rgb(255, 166, 0)"
          ],
          [
           0.1377952755905512,
           "rgb(255, 169, 0)"
          ],
          [
           0.14173228346456693,
           "rgb(255, 173, 0)"
          ],
          [
           0.14566929133858267,
           "rgb(255, 177, 0)"
          ],
          [
           0.14960629921259844,
           "rgb(255, 180, 0)"
          ],
          [
           0.15354330708661418,
           "rgb(255, 184, 0)"
          ],
          [
           0.15748031496062992,
           "rgb(255, 187, 0)"
          ],
          [
           0.16141732283464566,
           "rgb(255, 191, 0)"
          ],
          [
           0.16535433070866143,
           "rgb(255, 194, 0)"
          ],
          [
           0.16929133858267717,
           "rgb(255, 198, 0)"
          ],
          [
           0.1732283464566929,
           "rgb(255, 201, 0)"
          ],
          [
           0.17716535433070865,
           "rgb(255, 204, 0)"
          ],
          [
           0.18110236220472442,
           "rgb(255, 207, 0)"
          ],
          [
           0.18503937007874016,
           "rgb(255, 211, 0)"
          ],
          [
           0.1889763779527559,
           "rgb(255, 214, 0)"
          ],
          [
           0.19291338582677164,
           "rgb(255, 217, 0)"
          ],
          [
           0.1968503937007874,
           "rgb(255, 220, 0)"
          ],
          [
           0.20078740157480315,
           "rgb(255, 223, 0)"
          ],
          [
           0.2047244094488189,
           "rgb(255, 226, 0)"
          ],
          [
           0.20866141732283464,
           "rgb(255, 228, 0)"
          ],
          [
           0.2125984251968504,
           "rgb(255, 231, 0)"
          ],
          [
           0.21653543307086615,
           "rgb(255, 234, 0)"
          ],
          [
           0.2204724409448819,
           "rgb(255, 237, 0)"
          ],
          [
           0.22440944881889763,
           "rgb(255, 239, 0)"
          ],
          [
           0.2283464566929134,
           "rgb(255, 242, 0)"
          ],
          [
           0.23228346456692914,
           "rgb(255, 244, 0)"
          ],
          [
           0.23622047244094488,
           "rgb(255, 247, 0)"
          ],
          [
           0.24015748031496062,
           "rgb(255, 249, 0)"
          ],
          [
           0.2440944881889764,
           "rgb(255, 252, 0)"
          ],
          [
           0.24803149606299213,
           "rgb(255, 254, 0)"
          ],
          [
           0.25196850393700787,
           "rgb(254, 255, 0)"
          ],
          [
           0.2559055118110236,
           "rgb(252, 255, 0)"
          ],
          [
           0.25984251968503935,
           "rgb(249, 255, 0)"
          ],
          [
           0.2637795275590551,
           "rgb(247, 255, 0)"
          ],
          [
           0.2677165354330709,
           "rgb(244, 255, 0)"
          ],
          [
           0.27165354330708663,
           "rgb(242, 255, 0)"
          ],
          [
           0.2755905511811024,
           "rgb(239, 255, 0)"
          ],
          [
           0.2795275590551181,
           "rgb(237, 255, 0)"
          ],
          [
           0.28346456692913385,
           "rgb(234, 255, 0)"
          ],
          [
           0.2874015748031496,
           "rgb(231, 255, 0)"
          ],
          [
           0.29133858267716534,
           "rgb(228, 255, 0)"
          ],
          [
           0.2952755905511811,
           "rgb(226, 255, 0)"
          ],
          [
           0.2992125984251969,
           "rgb(223, 255, 0)"
          ],
          [
           0.3031496062992126,
           "rgb(220, 255, 0)"
          ],
          [
           0.30708661417322836,
           "rgb(217, 255, 0)"
          ],
          [
           0.3110236220472441,
           "rgb(214, 255, 0)"
          ],
          [
           0.31496062992125984,
           "rgb(211, 255, 0)"
          ],
          [
           0.3188976377952756,
           "rgb(207, 255, 0)"
          ],
          [
           0.3228346456692913,
           "rgb(204, 255, 0)"
          ],
          [
           0.32677165354330706,
           "rgb(201, 255, 0)"
          ],
          [
           0.33070866141732286,
           "rgb(198, 255, 0)"
          ],
          [
           0.3346456692913386,
           "rgb(194, 255, 0)"
          ],
          [
           0.33858267716535434,
           "rgb(191, 255, 0)"
          ],
          [
           0.3425196850393701,
           "rgb(187, 255, 0)"
          ],
          [
           0.3464566929133858,
           "rgb(184, 255, 0)"
          ],
          [
           0.35039370078740156,
           "rgb(180, 255, 0)"
          ],
          [
           0.3543307086614173,
           "rgb(177, 255, 0)"
          ],
          [
           0.35826771653543305,
           "rgb(173, 255, 0)"
          ],
          [
           0.36220472440944884,
           "rgb(169, 255, 0)"
          ],
          [
           0.3661417322834646,
           "rgb(166, 255, 0)"
          ],
          [
           0.3700787401574803,
           "rgb(162, 255, 0)"
          ],
          [
           0.37401574803149606,
           "rgb(158, 255, 0)"
          ],
          [
           0.3779527559055118,
           "rgb(154, 255, 0)"
          ],
          [
           0.38188976377952755,
           "rgb(150, 255, 0)"
          ],
          [
           0.3858267716535433,
           "rgb(146, 255, 0)"
          ],
          [
           0.38976377952755903,
           "rgb(142, 255, 0)"
          ],
          [
           0.3937007874015748,
           "rgb(138, 255, 0)"
          ],
          [
           0.39763779527559057,
           "rgb(134, 255, 0)"
          ],
          [
           0.4015748031496063,
           "rgb(130, 255, 0)"
          ],
          [
           0.40551181102362205,
           "rgb(126, 255, 0)"
          ],
          [
           0.4094488188976378,
           "rgb(122, 255, 0)"
          ],
          [
           0.41338582677165353,
           "rgb(118, 255, 0)"
          ],
          [
           0.41732283464566927,
           "rgb(113, 255, 0)"
          ],
          [
           0.421259842519685,
           "rgb(109, 255, 0)"
          ],
          [
           0.4251968503937008,
           "rgb(105, 255, 0)"
          ],
          [
           0.42913385826771655,
           "rgb(100, 255, 0)"
          ],
          [
           0.4330708661417323,
           "rgb(96, 255, 0)"
          ],
          [
           0.43700787401574803,
           "rgb(92, 255, 0)"
          ],
          [
           0.4409448818897638,
           "rgb(87, 255, 0)"
          ],
          [
           0.4448818897637795,
           "rgb(82, 255, 0)"
          ],
          [
           0.44881889763779526,
           "rgb(78, 255, 0)"
          ],
          [
           0.452755905511811,
           "rgb(73, 255, 0)"
          ],
          [
           0.4566929133858268,
           "rgb(68, 255, 0)"
          ],
          [
           0.46062992125984253,
           "rgb(64, 255, 0)"
          ],
          [
           0.4645669291338583,
           "rgb(59, 255, 0)"
          ],
          [
           0.468503937007874,
           "rgb(54, 255, 0)"
          ],
          [
           0.47244094488188976,
           "rgb(49, 255, 0)"
          ],
          [
           0.4763779527559055,
           "rgb(43, 255, 0)"
          ],
          [
           0.48031496062992124,
           "rgb(38, 255, 0)"
          ],
          [
           0.484251968503937,
           "rgb(32, 255, 0)"
          ],
          [
           0.4881889763779528,
           "rgb(26, 255, 0)"
          ],
          [
           0.4921259842519685,
           "rgb(19, 255, 0)"
          ],
          [
           0.49606299212598426,
           "rgb(12, 255, 0)"
          ],
          [
           0.5,
           "rgb(1, 255, 0)"
          ],
          [
           0.5039370078740157,
           "rgb(0, 253, 8)"
          ],
          [
           0.5078740157480315,
           "rgb(0, 250, 15)"
          ],
          [
           0.5118110236220472,
           "rgb(0, 248, 21)"
          ],
          [
           0.515748031496063,
           "rgb(0, 246, 27)"
          ],
          [
           0.5196850393700787,
           "rgb(0, 243, 33)"
          ],
          [
           0.5236220472440944,
           "rgb(0, 241, 40)"
          ],
          [
           0.5275590551181102,
           "rgb(0, 238, 46)"
          ],
          [
           0.531496062992126,
           "rgb(0, 235, 53)"
          ],
          [
           0.5354330708661418,
           "rgb(0, 233, 60)"
          ],
          [
           0.5393700787401575,
           "rgb(0, 230, 67)"
          ],
          [
           0.5433070866141733,
           "rgb(0, 227, 74)"
          ],
          [
           0.547244094488189,
           "rgb(0, 224, 81)"
          ],
          [
           0.5511811023622047,
           "rgb(0, 221, 89)"
          ],
          [
           0.5551181102362205,
           "rgb(0, 218, 96)"
          ],
          [
           0.5590551181102362,
           "rgb(0, 215, 103)"
          ],
          [
           0.562992125984252,
           "rgb(0, 212, 111)"
          ],
          [
           0.5669291338582677,
           "rgb(0, 209, 118)"
          ],
          [
           0.5708661417322834,
           "rgb(0, 206, 126)"
          ],
          [
           0.5748031496062992,
           "rgb(0, 202, 133)"
          ],
          [
           0.5787401574803149,
           "rgb(0, 199, 140)"
          ],
          [
           0.5826771653543307,
           "rgb(0, 196, 148)"
          ],
          [
           0.5866141732283464,
           "rgb(0, 192, 155)"
          ],
          [
           0.5905511811023622,
           "rgb(0, 189, 163)"
          ],
          [
           0.594488188976378,
           "rgb(0, 186, 170)"
          ],
          [
           0.5984251968503937,
           "rgb(0, 182, 174)"
          ],
          [
           0.6023622047244095,
           "rgb(0, 178, 178)"
          ],
          [
           0.6062992125984252,
           "rgb(0, 175, 182)"
          ],
          [
           0.610236220472441,
           "rgb(0, 171, 186)"
          ],
          [
           0.6141732283464567,
           "rgb(0, 167, 190)"
          ],
          [
           0.6181102362204725,
           "rgb(0, 164, 194)"
          ],
          [
           0.6220472440944882,
           "rgb(0, 160, 197)"
          ],
          [
           0.6259842519685039,
           "rgb(0, 156, 201)"
          ],
          [
           0.6299212598425197,
           "rgb(0, 152, 204)"
          ],
          [
           0.6338582677165354,
           "rgb(0, 148, 208)"
          ],
          [
           0.6377952755905512,
           "rgb(0, 144, 211)"
          ],
          [
           0.6417322834645669,
           "rgb(0, 140, 214)"
          ],
          [
           0.6456692913385826,
           "rgb(0, 136, 217)"
          ],
          [
           0.6496062992125984,
           "rgb(0, 132, 220)"
          ],
          [
           0.6535433070866141,
           "rgb(0, 128, 222)"
          ],
          [
           0.65748031496063,
           "rgb(0, 124, 225)"
          ],
          [
           0.6614173228346457,
           "rgb(0, 120, 227)"
          ],
          [
           0.6653543307086615,
           "rgb(0, 116, 230)"
          ],
          [
           0.6692913385826772,
           "rgb(0, 111, 232)"
          ],
          [
           0.6732283464566929,
           "rgb(0, 107, 234)"
          ],
          [
           0.6771653543307087,
           "rgb(0, 103, 236)"
          ],
          [
           0.6811023622047244,
           "rgb(0, 98, 238)"
          ],
          [
           0.6850393700787402,
           "rgb(0, 94, 240)"
          ],
          [
           0.6889763779527559,
           "rgb(0, 89, 242)"
          ],
          [
           0.6929133858267716,
           "rgb(0, 85, 244)"
          ],
          [
           0.6968503937007874,
           "rgb(0, 80, 245)"
          ],
          [
           0.7007874015748031,
           "rgb(0, 76, 246)"
          ],
          [
           0.7047244094488189,
           "rgb(0, 71, 248)"
          ],
          [
           0.7086614173228346,
           "rgb(0, 66, 249)"
          ],
          [
           0.7125984251968503,
           "rgb(0, 61, 250)"
          ],
          [
           0.7165354330708661,
           "rgb(0, 56, 251)"
          ],
          [
           0.7204724409448819,
           "rgb(0, 51, 252)"
          ],
          [
           0.7244094488188977,
           "rgb(0, 46, 253)"
          ],
          [
           0.7283464566929134,
           "rgb(0, 41, 253)"
          ],
          [
           0.7322834645669292,
           "rgb(0, 35, 254)"
          ],
          [
           0.7362204724409449,
           "rgb(0, 29, 254)"
          ],
          [
           0.7401574803149606,
           "rgb(0, 23, 255)"
          ],
          [
           0.7440944881889764,
           "rgb(0, 16, 255)"
          ],
          [
           0.7480314960629921,
           "rgb(0, 7, 255)"
          ],
          [
           0.7519685039370079,
           "rgb(7, 0, 255)"
          ],
          [
           0.7559055118110236,
           "rgb(16, 0, 255)"
          ],
          [
           0.7598425196850394,
           "rgb(23, 0, 255)"
          ],
          [
           0.7637795275590551,
           "rgb(29, 0, 254)"
          ],
          [
           0.7677165354330708,
           "rgb(35, 0, 254)"
          ],
          [
           0.7716535433070866,
           "rgb(41, 0, 253)"
          ],
          [
           0.7755905511811023,
           "rgb(46, 0, 253)"
          ],
          [
           0.7795275590551181,
           "rgb(51, 0, 252)"
          ],
          [
           0.7834645669291339,
           "rgb(56, 0, 251)"
          ],
          [
           0.7874015748031497,
           "rgb(61, 0, 250)"
          ],
          [
           0.7913385826771654,
           "rgb(66, 0, 249)"
          ],
          [
           0.7952755905511811,
           "rgb(71, 0, 248)"
          ],
          [
           0.7992125984251969,
           "rgb(76, 0, 246)"
          ],
          [
           0.8031496062992126,
           "rgb(80, 0, 245)"
          ],
          [
           0.8070866141732284,
           "rgb(85, 0, 244)"
          ],
          [
           0.8110236220472441,
           "rgb(89, 0, 242)"
          ],
          [
           0.8149606299212598,
           "rgb(94, 0, 240)"
          ],
          [
           0.8188976377952756,
           "rgb(98, 0, 238)"
          ],
          [
           0.8228346456692913,
           "rgb(103, 0, 236)"
          ],
          [
           0.8267716535433071,
           "rgb(107, 0, 234)"
          ],
          [
           0.8307086614173228,
           "rgb(111, 0, 232)"
          ],
          [
           0.8346456692913385,
           "rgb(116, 0, 230)"
          ],
          [
           0.8385826771653543,
           "rgb(120, 0, 227)"
          ],
          [
           0.84251968503937,
           "rgb(124, 0, 225)"
          ],
          [
           0.8464566929133859,
           "rgb(128, 0, 219)"
          ],
          [
           0.8503937007874016,
           "rgb(132, 0, 213)"
          ],
          [
           0.8543307086614174,
           "rgb(136, 0, 206)"
          ],
          [
           0.8582677165354331,
           "rgb(140, 0, 199)"
          ],
          [
           0.8622047244094488,
           "rgb(144, 0, 192)"
          ],
          [
           0.8661417322834646,
           "rgb(148, 0, 185)"
          ],
          [
           0.8700787401574803,
           "rgb(152, 0, 178)"
          ],
          [
           0.8740157480314961,
           "rgb(156, 0, 171)"
          ],
          [
           0.8779527559055118,
           "rgb(160, 0, 163)"
          ],
          [
           0.8818897637795275,
           "rgb(164, 0, 156)"
          ],
          [
           0.8858267716535433,
           "rgb(167, 0, 148)"
          ],
          [
           0.889763779527559,
           "rgb(171, 0, 141)"
          ],
          [
           0.8937007874015748,
           "rgb(175, 0, 134)"
          ],
          [
           0.8976377952755905,
           "rgb(178, 0, 126)"
          ],
          [
           0.9015748031496063,
           "rgb(182, 0, 119)"
          ],
          [
           0.905511811023622,
           "rgb(186, 0, 111)"
          ],
          [
           0.9094488188976378,
           "rgb(189, 0, 104)"
          ],
          [
           0.9133858267716536,
           "rgb(192, 0, 96)"
          ],
          [
           0.9173228346456693,
           "rgb(196, 0, 89)"
          ],
          [
           0.9212598425196851,
           "rgb(199, 0, 82)"
          ],
          [
           0.9251968503937008,
           "rgb(202, 0, 75)"
          ],
          [
           0.9291338582677166,
           "rgb(206, 0, 67)"
          ],
          [
           0.9330708661417323,
           "rgb(209, 0, 60)"
          ],
          [
           0.937007874015748,
           "rgb(212, 0, 54)"
          ],
          [
           0.9409448818897638,
           "rgb(215, 0, 47)"
          ],
          [
           0.9448818897637795,
           "rgb(218, 0, 40)"
          ],
          [
           0.9488188976377953,
           "rgb(221, 0, 34)"
          ],
          [
           0.952755905511811,
           "rgb(224, 0, 27)"
          ],
          [
           0.9566929133858267,
           "rgb(227, 0, 21)"
          ],
          [
           0.9606299212598425,
           "rgb(230, 0, 15)"
          ],
          [
           0.9645669291338582,
           "rgb(233, 0, 9)"
          ],
          [
           0.968503937007874,
           "rgb(235, 0, 1)"
          ],
          [
           0.9724409448818898,
           "rgb(238, 0, 0)"
          ],
          [
           0.9763779527559056,
           "rgb(241, 0, 0)"
          ],
          [
           0.9803149606299213,
           "rgb(243, 0, 0)"
          ],
          [
           0.984251968503937,
           "rgb(246, 0, 0)"
          ],
          [
           0.9881889763779528,
           "rgb(248, 0, 0)"
          ],
          [
           0.9921259842519685,
           "rgb(250, 0, 0)"
          ],
          [
           0.9960629921259843,
           "rgb(253, 0, 0)"
          ],
          [
           1,
           "rgb(255, 0, 0)"
          ]
         ],
         "opacity": 1,
         "scene": "scene2",
         "surfacecolor": [
          [
           0,
           0.7610127542247298,
           5.946510487792859,
           0.13255153229667402,
           3.6241059486122698,
           2.774418819771574,
           1.1071487177940904,
           2.214297435588181,
           2.984990776607778,
           4.326506310986616,
           5.657700266940357,
           3.4633432079864352,
           6.0169332580286605,
           2.8842689386187046,
           6.064516361305644
          ],
          [
           2.9105019863938963,
           4.68594012301857,
           4.715604403386885,
           4.660426343064412,
           4.698845790408336,
           4.71238898038469,
           4.507442323495968,
           0.12435499454676144,
           1.4642248847240185,
           1.5843824473341053,
           1.5451010487887669,
           1.522524676461245,
           1.599773720646458,
           1.5273454314033659,
           4.225489748573421
          ],
          [
           0.35877067027057225,
           4.7810638826167295,
           4.72990311294189,
           4.668882520176858,
           4.728822393446194,
           4.6797411758500385,
           4.653267927590247,
           1.9074711461816238,
           1.5762310558957326,
           1.578808975825828,
           1.565790110795298,
           1.5683025663783077,
           1.5933005655890622,
           1.564754104254196,
           5.608444364956034
          ],
          [
           2.356194490192345,
           4.717290901906139,
           4.71238898038469,
           4.700043928540465,
           4.707286983837775,
           4.700686003639236,
           4.726309194886429,
           5.341185266800123,
           1.5684921834070922,
           1.5757714101257507,
           1.5452656138703866,
           1.5935196876365376,
           1.5907140112262004,
           1.5707963267948966,
           2.677945044588987
          ],
          [
           1.7894652726688387,
           4.742612332643228,
           4.722540915875376,
           4.702164387825118,
           4.72152578196355,
           4.730428260488808,
           4.649657328227813,
           1.8313987185422376,
           1.5707963267948966,
           1.5656284141460917,
           1.5718261925482013,
           1.5350972141155728,
           1.6004268274765308,
           1.585870561789856,
           4.767887485630407
          ],
          [
           4.767887485630407,
           4.681310906901247,
           4.681582089009342,
           4.703426352260034,
           4.742913847301892,
           4.728285892329221,
           4.740159616978111,
           3.747137317194763,
           1.4595101748863162,
           1.547436090973022,
           1.559375503582982,
           1.617675535303102,
           1.537528098580576,
           1.535864305728465,
           1.9890206563741257
          ],
          [
           0.9272952180016123,
           4.75583987577622,
           4.738545804129132,
           4.781001487907882,
           4.697966903457704,
           4.640091808875831,
           4.956196683859386,
           1.1583858851975093,
           1.4636810034426648,
           1.5647903930037603,
           1.5970432812285953,
           1.519319595402529,
           1.4858945333451747,
           1.8306790353271587,
           3.8744077553762994
          ],
          [
           5.5602059537780955,
           5.497787143782138,
           6.118036629764959,
           0.8685393952858895,
           6.200044075291145,
           1.849095985800008,
           4.017650704187986,
           4.051345811534002,
           5.497787143782138,
           5.850777531609048,
           3.8604226532114176,
           5.431218980006314,
           4.166733925857698,
           2.068139043141719,
           2.2367655641740063
          ]
         ],
         "type": "surface",
         "x": [
          [
           0,
           0,
           0,
           0,
           0,
           0,
           0,
           0,
           0,
           0,
           0,
           0,
           0,
           0,
           0
          ],
          [
           0.0012783036796146657,
           0.012468311087684784,
           0.014193062257342662,
           0.006898933322260897,
           -0.007216033647472179,
           -0.014649355088906885,
           -0.011989452344409561,
           -0.00295060315208805,
           -0.014259466926937504,
           -0.016795826324397474,
           -0.006973361009460588,
           0.006750897550495347,
           0.015751246588367164,
           0.01214567975167551,
           0.0014079427032947299
          ],
          [
           0.002253799744792535,
           0.04502465659284985,
           0.05165109225691873,
           0.022943356653240266,
           -0.02321827239576006,
           -0.05290487842680361,
           -0.038211857873642965,
           -0.002794776418534678,
           -0.0437308497838901,
           -0.051315880510260224,
           -0.023450223985823648,
           0.023538050616117377,
           0.05116271941441624,
           0.03933413516277883,
           0.0008445314516692501
          ],
          [
           0.00023259386075015059,
           0.06045864578194694,
           0.0793694854190301,
           0.035575702343476345,
           -0.035866240131753484,
           -0.07886216305107312,
           -0.06387227467460295,
           -0.0022370161209580254,
           -0.06431080067392429,
           -0.0824468424006937,
           -0.03584085580966073,
           0.035435748843210504,
           0.07723136865018494,
           0.05793883943266815,
           0.00183881592435629
          ],
          [
           0.0015163264564377514,
           0.06374701793157972,
           0.08080927332488429,
           0.03579444887184927,
           -0.036050266714730154,
           -0.07958752368942779,
           -0.05909234140190187,
           -0.002553240771856149,
           -0.06682970993384486,
           -0.0793705453039927,
           -0.035536412621450075,
           0.035888639617742454,
           0.07960951922012866,
           0.058982808938263895,
           0.005930003173534502
          ],
          [
           0.0023777466591498827,
           0.045891341545453976,
           0.05339542776661138,
           0.02292256701058743,
           -0.023079143204823835,
           -0.05173194145312731,
           -0.03851644376410359,
           -0.006256265325863707,
           -0.0417305360956078,
           -0.05280885973826615,
           -0.023128598415278555,
           0.023798916395415946,
           0.05191860210655493,
           0.04423251679991306,
           0.0025980036832674728
          ],
          [
           0.0010979318365419697,
           0.013663889720634953,
           0.015704369350772397,
           0.006889544448806078,
           -0.006776313522403636,
           -0.016426457530792124,
           -0.013659273837295635,
           -0.0025566073592293327,
           -0.01233681658263791,
           -0.015197268622826214,
           -0.006826822747110887,
           0.0069639962924999636,
           0.017221400561438623,
           0.011805218831778439,
           0.0009847441438765897
          ],
          [
           4.683851920397649e-19,
           1.3161833231459784e-19,
           3.9176155750815087e-19,
           7.828732789373918e-20,
           -1.1071500086927543e-19,
           -1.8755078304299337e-19,
           -2.907543993789714e-19,
           -4.711110260633016e-19,
           -9.476519926651044e-19,
           -1.8442843533453383e-19,
           -4.886880201772582e-20,
           9.773760403545148e-20,
           4.219401104562186e-19,
           7.412811780481625e-19,
           3.6783345636844663e-19
          ]
         ],
         "y": [
          [
           0,
           0,
           0,
           0,
           0,
           0,
           0,
           0,
           0,
           0,
           0,
           0,
           0,
           0,
           0
          ],
          [
           0,
           0.006004422159225483,
           0.017797537140685177,
           0.030226201825460056,
           0.03161550912573909,
           0.01836971025382653,
           0.005773815942470067,
           3.6134467057587217e-19,
           -0.006866997349738488,
           -0.021061300049065576,
           -0.030552290829312417,
           -0.02957761473151976,
           -0.01975143849055741,
           -0.005849051096571457,
           -3.448465049945525e-19
          ],
          [
           0,
           0.021682731835641546,
           0.06476842108713327,
           0.10052141343599529,
           0.10172589800342643,
           0.06634061921607896,
           0.01840186088942708,
           3.4226139952909967e-19,
           -0.021059667314806168,
           -0.06434807885210485,
           -0.1027421443197048,
           -0.10312693792893474,
           -0.06415602091264358,
           -0.018942321147139035,
           -2.0685054781320296e-19
          ],
          [
           0,
           0.0291153492960605,
           0.09952618673616204,
           0.15586733613537931,
           0.15714026535735795,
           0.09889002460833488,
           0.030759266328791696,
           2.7395546321722743e-19,
           -0.030970449319752038,
           -0.10338507033599757,
           -0.1570290493755621,
           -0.1552541597865713,
           -0.09684507311073871,
           -0.027901874513937792,
           -4.503800071968225e-19
          ],
          [
           0,
           0.030698945860517197,
           0.10133162366474963,
           0.15682572729621053,
           0.157946538498215,
           0.09979959807933333,
           0.02845737178506525,
           3.1268181387061506e-19,
           -0.03218349208640904,
           -0.09952751578986758,
           -0.15569519661581024,
           -0.15723840391772134,
           -0.09982717960243809,
           -0.028404623730641745,
           -1.4524318810805351e-18
          ],
          [
           0,
           0.022100105311318098,
           0.06695574863186451,
           0.10043032806013345,
           0.10111633318976432,
           0.06486980277251077,
           0.01854854172351981,
           7.661715305935562e-19,
           -0.02009636701287613,
           -0.06622021558897855,
           -0.10133301062418752,
           -0.10426986558544532,
           -0.06510386782851121,
           -0.02130125741681575,
           -6.36327378977309e-19
          ],
          [
           0,
           0.0065801824836428865,
           0.019692656293874372,
           0.030185066483124835,
           0.029688969380217586,
           0.020598126231914163,
           0.006577959591383297,
           3.1309410191567693e-19,
           -0.005941097743082248,
           -0.019056772093829964,
           -0.02991026475281126,
           -0.030511261323493535,
           -0.021594953263046265,
           -0.005685093758853163,
           -2.411927527555133e-19
          ],
          [
           0,
           6.338404821248509e-20,
           4.912534549361875e-19,
           3.4299919462283536e-19,
           4.850741129186627e-19,
           2.3518124323349654e-19,
           1.4001993904754015e-19,
           5.769446101114475e-35,
           -4.563651471298925e-19,
           -2.3126594304669605e-19,
           -2.1410821119114004e-19,
           -4.282164223822801e-19,
           -5.290961633811187e-19,
           -3.5698220074773984e-19,
           -9.009321299218515e-35
          ]
         ],
         "z": [
          [
           0,
           0.00978450227994993,
           0.003574653210065585,
           0.005105737491510442,
           0.0039992532185955075,
           0.004699391270832272,
           0.0007544418008265421,
           0.0008434915758577527,
           0.006489953765763305,
           0.005826811477924416,
           0.007491420938665203,
           0.00373429639362527,
           0.00769382692856924,
           0.0033143960106034164,
           0.0015553216165945173
          ],
          [
           0.0026544249420370025,
           0.028736525395127964,
           0.04726973460094048,
           0.06437948287603844,
           0.067338600467602,
           0.04878940954192752,
           0.027632868585473987,
           0.006126990578104616,
           0.03286471845185696,
           0.05593819278478983,
           0.0650740273497637,
           0.06299804229845396,
           0.05245923905398886,
           0.027992936025622094,
           0.002923623148539403
          ],
          [
           0.0017973453203420002,
           0.039852615063115916,
           0.0660642266462208,
           0.08222469705339813,
           0.08320994363198489,
           0.06766787934888127,
           0.033822411494563706,
           0.0022287598216574776,
           0.03870742954421738,
           0.06563547472950297,
           0.0840412147276786,
           0.08435596893641405,
           0.06543957433500815,
           0.034815771315216106,
           0.0006734913587804531
          ],
          [
           0.00005308803089943311,
           0.015316057925865548,
           0.02905511374619451,
           0.0364905978164686,
           0.03678860732532239,
           0.028869396161795954,
           0.016180836439858327,
           0.0005105843317142356,
           0.016291928733123174,
           0.030181654464807296,
           0.036762570198089074,
           0.036347045151171944,
           0.02827240455268692,
           0.014677712499692576,
           0.00041969773533901485
          ],
          [
           -0.00034609161872705665,
           -0.016149105005802248,
           -0.02958218282260504,
           -0.03671496981940302,
           -0.036977366494771964,
           -0.02913493191200447,
           -0.014969930473646248,
           -0.0005827605447230354,
           -0.016930046898622375,
           -0.02905550174263901,
           -0.036450297686032924,
           -0.03681158285582991,
           -0.029142983906332617,
           -0.014942182489281983,
           -0.0013534845274721296
          ],
          [
           -0.0018961896861760708,
           -0.04061974277514852,
           -0.06829531550463597,
           -0.08215019086431628,
           -0.08271133064571112,
           -0.06616763664955472,
           -0.034092009203124815,
           -0.004989205111164007,
           -0.036936894520586426,
           -0.06754506683660638,
           -0.08288856886585513,
           -0.08529086307586393,
           -0.06640638458643543,
           -0.039151469410200486,
           -0.0020718388016242786
          ],
          [
           -0.0022798789505573606,
           -0.03149205302882485,
           -0.052303115270428045,
           -0.0642918677637341,
           -0.06323521912736568,
           -0.05470801676449078,
           -0.031481414503055936,
           -0.005308849884074005,
           -0.028433461479171317,
           -0.05061422555858598,
           -0.0637065612342142,
           -0.06498663766109118,
           -0.0573555600078164,
           -0.02720825365750774,
           -0.0020448422849090454
          ],
          [
           -0.003824655340346889,
           -0.0011928772263254883,
           -0.0051307589522497365,
           -0.0028728287883371573,
           -0.0040627934348422745,
           -0.0024562845451707336,
           -0.0026351519227892023,
           -0.00384691346428462,
           -0.008588716029543515,
           -0.002415392290302459,
           -0.001793287688636248,
           -0.003586575377272496,
           -0.0055259965087091165,
           -0.0067183455377918455,
           -0.003003588109033124
          ]
         ]
        }
       ],
       "layout": {
        "annotations": [
         {
          "font": {
           "size": 16
          },
          "showarrow": false,
          "text": "$f_{0}^{(\\emptyset)}$",
          "x": 0.225,
          "xanchor": "center",
          "xref": "paper",
          "y": 1,
          "yanchor": "bottom",
          "yref": "paper"
         },
         {
          "font": {
           "size": 16
          },
          "showarrow": false,
          "text": "$f_{1}^{(1)}$",
          "x": 0.775,
          "xanchor": "center",
          "xref": "paper",
          "y": 1,
          "yanchor": "bottom",
          "yref": "paper"
         }
        ],
        "scene": {
         "domain": {
          "x": [
           0,
           0.45
          ],
          "y": [
           0,
           1
          ]
         }
        },
        "scene2": {
         "domain": {
          "x": [
           0.55,
           1
          ],
          "y": [
           0,
           1
          ]
         }
        },
        "template": {
         "data": {
          "bar": [
           {
            "error_x": {
             "color": "#2a3f5f"
            },
            "error_y": {
             "color": "#2a3f5f"
            },
            "marker": {
             "line": {
              "color": "#E5ECF6",
              "width": 0.5
             },
             "pattern": {
              "fillmode": "overlay",
              "size": 10,
              "solidity": 0.2
             }
            },
            "type": "bar"
           }
          ],
          "barpolar": [
           {
            "marker": {
             "line": {
              "color": "#E5ECF6",
              "width": 0.5
             },
             "pattern": {
              "fillmode": "overlay",
              "size": 10,
              "solidity": 0.2
             }
            },
            "type": "barpolar"
           }
          ],
          "carpet": [
           {
            "aaxis": {
             "endlinecolor": "#2a3f5f",
             "gridcolor": "white",
             "linecolor": "white",
             "minorgridcolor": "white",
             "startlinecolor": "#2a3f5f"
            },
            "baxis": {
             "endlinecolor": "#2a3f5f",
             "gridcolor": "white",
             "linecolor": "white",
             "minorgridcolor": "white",
             "startlinecolor": "#2a3f5f"
            },
            "type": "carpet"
           }
          ],
          "choropleth": [
           {
            "colorbar": {
             "outlinewidth": 0,
             "ticks": ""
            },
            "type": "choropleth"
           }
          ],
          "contour": [
           {
            "colorbar": {
             "outlinewidth": 0,
             "ticks": ""
            },
            "colorscale": [
             [
              0,
              "#0d0887"
             ],
             [
              0.1111111111111111,
              "#46039f"
             ],
             [
              0.2222222222222222,
              "#7201a8"
             ],
             [
              0.3333333333333333,
              "#9c179e"
             ],
             [
              0.4444444444444444,
              "#bd3786"
             ],
             [
              0.5555555555555556,
              "#d8576b"
             ],
             [
              0.6666666666666666,
              "#ed7953"
             ],
             [
              0.7777777777777778,
              "#fb9f3a"
             ],
             [
              0.8888888888888888,
              "#fdca26"
             ],
             [
              1,
              "#f0f921"
             ]
            ],
            "type": "contour"
           }
          ],
          "contourcarpet": [
           {
            "colorbar": {
             "outlinewidth": 0,
             "ticks": ""
            },
            "type": "contourcarpet"
           }
          ],
          "heatmap": [
           {
            "colorbar": {
             "outlinewidth": 0,
             "ticks": ""
            },
            "colorscale": [
             [
              0,
              "#0d0887"
             ],
             [
              0.1111111111111111,
              "#46039f"
             ],
             [
              0.2222222222222222,
              "#7201a8"
             ],
             [
              0.3333333333333333,
              "#9c179e"
             ],
             [
              0.4444444444444444,
              "#bd3786"
             ],
             [
              0.5555555555555556,
              "#d8576b"
             ],
             [
              0.6666666666666666,
              "#ed7953"
             ],
             [
              0.7777777777777778,
              "#fb9f3a"
             ],
             [
              0.8888888888888888,
              "#fdca26"
             ],
             [
              1,
              "#f0f921"
             ]
            ],
            "type": "heatmap"
           }
          ],
          "heatmapgl": [
           {
            "colorbar": {
             "outlinewidth": 0,
             "ticks": ""
            },
            "colorscale": [
             [
              0,
              "#0d0887"
             ],
             [
              0.1111111111111111,
              "#46039f"
             ],
             [
              0.2222222222222222,
              "#7201a8"
             ],
             [
              0.3333333333333333,
              "#9c179e"
             ],
             [
              0.4444444444444444,
              "#bd3786"
             ],
             [
              0.5555555555555556,
              "#d8576b"
             ],
             [
              0.6666666666666666,
              "#ed7953"
             ],
             [
              0.7777777777777778,
              "#fb9f3a"
             ],
             [
              0.8888888888888888,
              "#fdca26"
             ],
             [
              1,
              "#f0f921"
             ]
            ],
            "type": "heatmapgl"
           }
          ],
          "histogram": [
           {
            "marker": {
             "pattern": {
              "fillmode": "overlay",
              "size": 10,
              "solidity": 0.2
             }
            },
            "type": "histogram"
           }
          ],
          "histogram2d": [
           {
            "colorbar": {
             "outlinewidth": 0,
             "ticks": ""
            },
            "colorscale": [
             [
              0,
              "#0d0887"
             ],
             [
              0.1111111111111111,
              "#46039f"
             ],
             [
              0.2222222222222222,
              "#7201a8"
             ],
             [
              0.3333333333333333,
              "#9c179e"
             ],
             [
              0.4444444444444444,
              "#bd3786"
             ],
             [
              0.5555555555555556,
              "#d8576b"
             ],
             [
              0.6666666666666666,
              "#ed7953"
             ],
             [
              0.7777777777777778,
              "#fb9f3a"
             ],
             [
              0.8888888888888888,
              "#fdca26"
             ],
             [
              1,
              "#f0f921"
             ]
            ],
            "type": "histogram2d"
           }
          ],
          "histogram2dcontour": [
           {
            "colorbar": {
             "outlinewidth": 0,
             "ticks": ""
            },
            "colorscale": [
             [
              0,
              "#0d0887"
             ],
             [
              0.1111111111111111,
              "#46039f"
             ],
             [
              0.2222222222222222,
              "#7201a8"
             ],
             [
              0.3333333333333333,
              "#9c179e"
             ],
             [
              0.4444444444444444,
              "#bd3786"
             ],
             [
              0.5555555555555556,
              "#d8576b"
             ],
             [
              0.6666666666666666,
              "#ed7953"
             ],
             [
              0.7777777777777778,
              "#fb9f3a"
             ],
             [
              0.8888888888888888,
              "#fdca26"
             ],
             [
              1,
              "#f0f921"
             ]
            ],
            "type": "histogram2dcontour"
           }
          ],
          "mesh3d": [
           {
            "colorbar": {
             "outlinewidth": 0,
             "ticks": ""
            },
            "type": "mesh3d"
           }
          ],
          "parcoords": [
           {
            "line": {
             "colorbar": {
              "outlinewidth": 0,
              "ticks": ""
             }
            },
            "type": "parcoords"
           }
          ],
          "pie": [
           {
            "automargin": true,
            "type": "pie"
           }
          ],
          "scatter": [
           {
            "fillpattern": {
             "fillmode": "overlay",
             "size": 10,
             "solidity": 0.2
            },
            "type": "scatter"
           }
          ],
          "scatter3d": [
           {
            "line": {
             "colorbar": {
              "outlinewidth": 0,
              "ticks": ""
             }
            },
            "marker": {
             "colorbar": {
              "outlinewidth": 0,
              "ticks": ""
             }
            },
            "type": "scatter3d"
           }
          ],
          "scattercarpet": [
           {
            "marker": {
             "colorbar": {
              "outlinewidth": 0,
              "ticks": ""
             }
            },
            "type": "scattercarpet"
           }
          ],
          "scattergeo": [
           {
            "marker": {
             "colorbar": {
              "outlinewidth": 0,
              "ticks": ""
             }
            },
            "type": "scattergeo"
           }
          ],
          "scattergl": [
           {
            "marker": {
             "colorbar": {
              "outlinewidth": 0,
              "ticks": ""
             }
            },
            "type": "scattergl"
           }
          ],
          "scattermapbox": [
           {
            "marker": {
             "colorbar": {
              "outlinewidth": 0,
              "ticks": ""
             }
            },
            "type": "scattermapbox"
           }
          ],
          "scatterpolar": [
           {
            "marker": {
             "colorbar": {
              "outlinewidth": 0,
              "ticks": ""
             }
            },
            "type": "scatterpolar"
           }
          ],
          "scatterpolargl": [
           {
            "marker": {
             "colorbar": {
              "outlinewidth": 0,
              "ticks": ""
             }
            },
            "type": "scatterpolargl"
           }
          ],
          "scatterternary": [
           {
            "marker": {
             "colorbar": {
              "outlinewidth": 0,
              "ticks": ""
             }
            },
            "type": "scatterternary"
           }
          ],
          "surface": [
           {
            "colorbar": {
             "outlinewidth": 0,
             "ticks": ""
            },
            "colorscale": [
             [
              0,
              "#0d0887"
             ],
             [
              0.1111111111111111,
              "#46039f"
             ],
             [
              0.2222222222222222,
              "#7201a8"
             ],
             [
              0.3333333333333333,
              "#9c179e"
             ],
             [
              0.4444444444444444,
              "#bd3786"
             ],
             [
              0.5555555555555556,
              "#d8576b"
             ],
             [
              0.6666666666666666,
              "#ed7953"
             ],
             [
              0.7777777777777778,
              "#fb9f3a"
             ],
             [
              0.8888888888888888,
              "#fdca26"
             ],
             [
              1,
              "#f0f921"
             ]
            ],
            "type": "surface"
           }
          ],
          "table": [
           {
            "cells": {
             "fill": {
              "color": "#EBF0F8"
             },
             "line": {
              "color": "white"
             }
            },
            "header": {
             "fill": {
              "color": "#C8D4E3"
             },
             "line": {
              "color": "white"
             }
            },
            "type": "table"
           }
          ]
         },
         "layout": {
          "annotationdefaults": {
           "arrowcolor": "#2a3f5f",
           "arrowhead": 0,
           "arrowwidth": 1
          },
          "autotypenumbers": "strict",
          "coloraxis": {
           "colorbar": {
            "outlinewidth": 0,
            "ticks": ""
           }
          },
          "colorscale": {
           "diverging": [
            [
             0,
             "#8e0152"
            ],
            [
             0.1,
             "#c51b7d"
            ],
            [
             0.2,
             "#de77ae"
            ],
            [
             0.3,
             "#f1b6da"
            ],
            [
             0.4,
             "#fde0ef"
            ],
            [
             0.5,
             "#f7f7f7"
            ],
            [
             0.6,
             "#e6f5d0"
            ],
            [
             0.7,
             "#b8e186"
            ],
            [
             0.8,
             "#7fbc41"
            ],
            [
             0.9,
             "#4d9221"
            ],
            [
             1,
             "#276419"
            ]
           ],
           "sequential": [
            [
             0,
             "#0d0887"
            ],
            [
             0.1111111111111111,
             "#46039f"
            ],
            [
             0.2222222222222222,
             "#7201a8"
            ],
            [
             0.3333333333333333,
             "#9c179e"
            ],
            [
             0.4444444444444444,
             "#bd3786"
            ],
            [
             0.5555555555555556,
             "#d8576b"
            ],
            [
             0.6666666666666666,
             "#ed7953"
            ],
            [
             0.7777777777777778,
             "#fb9f3a"
            ],
            [
             0.8888888888888888,
             "#fdca26"
            ],
            [
             1,
             "#f0f921"
            ]
           ],
           "sequentialminus": [
            [
             0,
             "#0d0887"
            ],
            [
             0.1111111111111111,
             "#46039f"
            ],
            [
             0.2222222222222222,
             "#7201a8"
            ],
            [
             0.3333333333333333,
             "#9c179e"
            ],
            [
             0.4444444444444444,
             "#bd3786"
            ],
            [
             0.5555555555555556,
             "#d8576b"
            ],
            [
             0.6666666666666666,
             "#ed7953"
            ],
            [
             0.7777777777777778,
             "#fb9f3a"
            ],
            [
             0.8888888888888888,
             "#fdca26"
            ],
            [
             1,
             "#f0f921"
            ]
           ]
          },
          "colorway": [
           "#636efa",
           "#EF553B",
           "#00cc96",
           "#ab63fa",
           "#FFA15A",
           "#19d3f3",
           "#FF6692",
           "#B6E880",
           "#FF97FF",
           "#FECB52"
          ],
          "font": {
           "color": "#2a3f5f"
          },
          "geo": {
           "bgcolor": "white",
           "lakecolor": "white",
           "landcolor": "#E5ECF6",
           "showlakes": true,
           "showland": true,
           "subunitcolor": "white"
          },
          "hoverlabel": {
           "align": "left"
          },
          "hovermode": "closest",
          "mapbox": {
           "style": "light"
          },
          "paper_bgcolor": "white",
          "plot_bgcolor": "#E5ECF6",
          "polar": {
           "angularaxis": {
            "gridcolor": "white",
            "linecolor": "white",
            "ticks": ""
           },
           "bgcolor": "#E5ECF6",
           "radialaxis": {
            "gridcolor": "white",
            "linecolor": "white",
            "ticks": ""
           }
          },
          "scene": {
           "xaxis": {
            "backgroundcolor": "#E5ECF6",
            "gridcolor": "white",
            "gridwidth": 2,
            "linecolor": "white",
            "showbackground": true,
            "ticks": "",
            "zerolinecolor": "white"
           },
           "yaxis": {
            "backgroundcolor": "#E5ECF6",
            "gridcolor": "white",
            "gridwidth": 2,
            "linecolor": "white",
            "showbackground": true,
            "ticks": "",
            "zerolinecolor": "white"
           },
           "zaxis": {
            "backgroundcolor": "#E5ECF6",
            "gridcolor": "white",
            "gridwidth": 2,
            "linecolor": "white",
            "showbackground": true,
            "ticks": "",
            "zerolinecolor": "white"
           }
          },
          "shapedefaults": {
           "line": {
            "color": "#2a3f5f"
           }
          },
          "ternary": {
           "aaxis": {
            "gridcolor": "white",
            "linecolor": "white",
            "ticks": ""
           },
           "baxis": {
            "gridcolor": "white",
            "linecolor": "white",
            "ticks": ""
           },
           "bgcolor": "#E5ECF6",
           "caxis": {
            "gridcolor": "white",
            "linecolor": "white",
            "ticks": ""
           }
          },
          "title": {
           "x": 0.05
          },
          "xaxis": {
           "automargin": true,
           "gridcolor": "white",
           "linecolor": "white",
           "ticks": "",
           "title": {
            "standoff": 15
           },
           "zerolinecolor": "white",
           "zerolinewidth": 2
          },
          "yaxis": {
           "automargin": true,
           "gridcolor": "white",
           "linecolor": "white",
           "ticks": "",
           "title": {
            "standoff": 15
           },
           "zerolinecolor": "white",
           "zerolinewidth": 2
          }
         }
        }
       }
      }
     },
     "metadata": {},
     "output_type": "display_data"
    },
    {
     "data": {
      "text/plain": [
       "(None, None)"
      ]
     },
     "execution_count": 9,
     "metadata": {},
     "output_type": "execute_result"
    },
    {
     "data": {
      "text/plain": [
       "<Figure size 360x360 with 0 Axes>"
      ]
     },
     "metadata": {},
     "output_type": "display_data"
    }
   ],
   "source": [
    "# target matrix \n",
    "Ut = U3Gate(theta=pi, phi=0, lam=0).to_matrix()\n",
    "WQPT1Q.WQPT_1Q_runner(res_theta, circuits=circ_u, device=simulator, shots=1024, inter=1, Ut=Ut)"
   ]
  }
 ],
 "metadata": {
  "kernelspec": {
   "display_name": "base",
   "language": "python",
   "name": "python3"
  },
  "language_info": {
   "codemirror_mode": {
    "name": "ipython",
    "version": 3
   },
   "file_extension": ".py",
   "mimetype": "text/x-python",
   "name": "python",
   "nbconvert_exporter": "python",
   "pygments_lexer": "ipython3",
   "version": "3.9.7"
  },
  "orig_nbformat": 4,
  "vscode": {
   "interpreter": {
    "hash": "e0e8feff63ce8d1a867429cf8efe914fc8cd1b30dcff3e86b0107311e76732f2"
   }
  }
 },
 "nbformat": 4,
 "nbformat_minor": 2
}
